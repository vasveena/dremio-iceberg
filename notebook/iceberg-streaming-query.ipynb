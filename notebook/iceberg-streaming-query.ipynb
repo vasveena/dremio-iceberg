{
 "cells": [
  {
   "cell_type": "code",
   "execution_count": 1,
   "id": "10095cf8-349e-41c4-b3e3-bfe5bd333d61",
   "metadata": {
    "execution": {
     "iopub.execute_input": "2022-08-04T11:13:10.289623Z",
     "iopub.status.busy": "2022-08-04T11:13:10.289207Z",
     "iopub.status.idle": "2022-08-04T11:13:10.340849Z",
     "shell.execute_reply": "2022-08-04T11:13:10.340162Z",
     "shell.execute_reply.started": "2022-08-04T11:13:10.289571Z"
    }
   },
   "outputs": [
    {
     "data": {
      "text/html": [
       "Current session configs: <tt>{'conf': {'spark.sql.catalog.glue_catalog1': 'org.apache.iceberg.spark.SparkCatalog', 'spark.sql.catalog.glue_catalog1.warehouse': 's3://vasveena-dremio/iceberg/glue_catalog1/tables/', 'spark.sql.catalog.glue_catalog1.catalog-impl': 'org.apache.iceberg.aws.glue.GlueCatalog', 'spark.sql.catalog.glue_catalog1.io-impl': 'org.apache.iceberg.aws.s3.S3FileIO', 'spark.sql.catalog.glue_catalog1.lock-impl': 'org.apache.iceberg.aws.glue.DynamoLockManager', 'spark.sql.catalog.glue_catalog1.lock.table': 'myGlueLockTable', 'spark.sql.extensions': 'org.apache.iceberg.spark.extensions.IcebergSparkSessionExtensions'}, 'proxyUser': 'user_vasveena', 'kind': 'spark'}</tt><br>"
      ],
      "text/plain": [
       "<IPython.core.display.HTML object>"
      ]
     },
     "metadata": {},
     "output_type": "display_data"
    },
    {
     "data": {
      "text/html": [
       "<table>\n<tbody><tr><th>ID</th><th>YARN Application ID</th><th>Kind</th><th>State</th><th>Spark UI</th><th>Driver log</th><th>User</th><th>Current session?</th></tr><tr><td>0</td><td>application_1659608060840_0001</td><td>pyspark</td><td>idle</td><td><a target=\"_blank\" href=\"http://ip-172-31-79-156.ec2.internal:20888/proxy/application_1659608060840_0001/\" class=\"emr-proxy-link j-14EN3Q0000BJ0 application_1659608060840_0001\" emr-resource=\"j-14EN3Q0000BJ0\n\" application-id=\"application_1659608060840_0001\">Link</a></td><td><a target=\"_blank\" href=\"http://ip-172-31-67-79.ec2.internal:8042/node/containerlogs/container_1659608060840_0001_01_000001/livy\">Link</a></td><td>None</td><td></td></tr><tr><td>3</td><td>application_1659608060840_0004</td><td>spark</td><td>busy</td><td><a target=\"_blank\" href=\"http://ip-172-31-79-156.ec2.internal:20888/proxy/application_1659608060840_0004/\" class=\"emr-proxy-link j-14EN3Q0000BJ0 application_1659608060840_0004\" emr-resource=\"j-14EN3Q0000BJ0\n\" application-id=\"application_1659608060840_0004\">Link</a></td><td><a target=\"_blank\" href=\"http://ip-172-31-70-236.ec2.internal:8042/node/containerlogs/container_1659608060840_0004_01_000001/livy\">Link</a></td><td>None</td><td></td></tr></tbody></table>"
      ],
      "text/plain": [
       "<IPython.core.display.HTML object>"
      ]
     },
     "metadata": {},
     "output_type": "display_data"
    }
   ],
   "source": [
    "%%configure -f\n",
    "{\n",
    "    \"conf\":  {       \n",
    "             \"spark.sql.catalog.glue_catalog1\":\"org.apache.iceberg.spark.SparkCatalog\",\n",
    "             \"spark.sql.catalog.glue_catalog1.warehouse\":\"s3://vasveena-dremio/iceberg/glue_catalog1/tables/\",\n",
    "             \"spark.sql.catalog.glue_catalog1.catalog-impl\":\"org.apache.iceberg.aws.glue.GlueCatalog\",\n",
    "             \"spark.sql.catalog.glue_catalog1.io-impl\":\"org.apache.iceberg.aws.s3.S3FileIO\",\n",
    "             \"spark.sql.catalog.glue_catalog1.lock-impl\":\"org.apache.iceberg.aws.glue.DynamoLockManager\",\n",
    "             \"spark.sql.catalog.glue_catalog1.lock.table\":\"myGlueLockTable\",\n",
    "             \"spark.sql.extensions\":\"org.apache.iceberg.spark.extensions.IcebergSparkSessionExtensions\"\n",
    "           } \n",
    "}"
   ]
  },
  {
   "cell_type": "code",
   "execution_count": 2,
   "id": "60561692-cced-40b2-af21-b33c39bfe470",
   "metadata": {
    "execution": {
     "iopub.execute_input": "2022-08-04T11:13:18.554962Z",
     "iopub.status.busy": "2022-08-04T11:13:18.554663Z",
     "iopub.status.idle": "2022-08-04T11:13:56.015543Z",
     "shell.execute_reply": "2022-08-04T11:13:56.014863Z",
     "shell.execute_reply.started": "2022-08-04T11:13:18.554930Z"
    }
   },
   "outputs": [
    {
     "name": "stdout",
     "output_type": "stream",
     "text": [
      "Starting Spark application\n"
     ]
    },
    {
     "data": {
      "text/html": [
       "<table>\n<tbody><tr><th>ID</th><th>YARN Application ID</th><th>Kind</th><th>State</th><th>Spark UI</th><th>Driver log</th><th>User</th><th>Current session?</th></tr><tr><td>4</td><td>application_1659608060840_0005</td><td>spark</td><td>idle</td><td><a target=\"_blank\" href=\"http://ip-172-31-79-156.ec2.internal:20888/proxy/application_1659608060840_0005/\" class=\"emr-proxy-link j-14EN3Q0000BJ0 application_1659608060840_0005\" emr-resource=\"j-14EN3Q0000BJ0\n\" application-id=\"application_1659608060840_0005\">Link</a></td><td><a target=\"_blank\" href=\"http://ip-172-31-69-179.ec2.internal:8042/node/containerlogs/container_1659608060840_0005_01_000001/livy\">Link</a></td><td>None</td><td>✔</td></tr></tbody></table>"
      ],
      "text/plain": [
       "<IPython.core.display.HTML object>"
      ]
     },
     "metadata": {},
     "output_type": "display_data"
    },
    {
     "data": {
      "application/vnd.jupyter.widget-view+json": {
       "model_id": "",
       "version_major": 2,
       "version_minor": 0
      },
      "text/plain": [
       "FloatProgress(value=0.0, bar_style='info', description='Progress:', layout=Layout(height='25px', width='50%'),…"
      ]
     },
     "metadata": {},
     "output_type": "display_data"
    },
    {
     "name": "stdout",
     "output_type": "stream",
     "text": [
      "SparkSession available as 'spark'.\n"
     ]
    },
    {
     "data": {
      "application/vnd.jupyter.widget-view+json": {
       "model_id": "",
       "version_major": 2,
       "version_minor": 0
      },
      "text/plain": [
       "FloatProgress(value=0.0, bar_style='info', description='Progress:', layout=Layout(height='25px', width='50%'),…"
      ]
     },
     "metadata": {},
     "output_type": "display_data"
    },
    {
     "data": {
      "application/vnd.jupyter.widget-view+json": {
       "model_id": "276c820162ef410ea99c4cd04fee0759",
       "version_major": 2,
       "version_minor": 0
      },
      "text/plain": [
       "VBox(children=(HBox(), EncodingWidget(children=(VBox(children=(HTML(value='Encoding:'), Dropdown(description='…"
      ]
     },
     "metadata": {},
     "output_type": "display_data"
    },
    {
     "data": {
      "application/vnd.jupyter.widget-view+json": {
       "model_id": "1caf9afd979a4aa58bca5e447ae15900",
       "version_major": 2,
       "version_minor": 0
      },
      "text/plain": [
       "Output()"
      ]
     },
     "metadata": {},
     "output_type": "display_data"
    }
   ],
   "source": [
    "%%sql \n",
    "\n",
    "use glue_catalog1"
   ]
  },
  {
   "cell_type": "code",
   "execution_count": 3,
   "id": "81bfde0e-0f05-49a1-a0de-73336af8f4cc",
   "metadata": {
    "execution": {
     "iopub.execute_input": "2022-08-04T11:13:56.016816Z",
     "iopub.status.busy": "2022-08-04T11:13:56.016620Z",
     "iopub.status.idle": "2022-08-04T11:13:56.853645Z",
     "shell.execute_reply": "2022-08-04T11:13:56.853059Z",
     "shell.execute_reply.started": "2022-08-04T11:13:56.016787Z"
    },
    "tags": []
   },
   "outputs": [
    {
     "data": {
      "application/vnd.jupyter.widget-view+json": {
       "model_id": "",
       "version_major": 2,
       "version_minor": 0
      },
      "text/plain": [
       "FloatProgress(value=0.0, bar_style='info', description='Progress:', layout=Layout(height='25px', width='50%'),…"
      ]
     },
     "metadata": {},
     "output_type": "display_data"
    },
    {
     "data": {
      "application/vnd.jupyter.widget-view+json": {
       "model_id": "806774ce471143bdbdf433b3bd3b2a7a",
       "version_major": 2,
       "version_minor": 0
      },
      "text/plain": [
       "VBox(children=(HBox(), EncodingWidget(children=(VBox(children=(HTML(value='Encoding:'), Dropdown(description='…"
      ]
     },
     "metadata": {},
     "output_type": "display_data"
    },
    {
     "data": {
      "application/vnd.jupyter.widget-view+json": {
       "model_id": "796e6f6b596f4876af1d0c6e138eab41",
       "version_major": 2,
       "version_minor": 0
      },
      "text/plain": [
       "Output()"
      ]
     },
     "metadata": {},
     "output_type": "display_data"
    }
   ],
   "source": [
    "%%sql\n",
    "use streamdb"
   ]
  },
  {
   "cell_type": "code",
   "execution_count": 9,
   "id": "70ee7ec9-2f35-4a43-9f47-529bb4a45592",
   "metadata": {
    "execution": {
     "iopub.execute_input": "2022-08-04T11:15:43.118414Z",
     "iopub.status.busy": "2022-08-04T11:15:43.118085Z",
     "iopub.status.idle": "2022-08-04T11:15:43.802219Z",
     "shell.execute_reply": "2022-08-04T11:15:43.801370Z",
     "shell.execute_reply.started": "2022-08-04T11:15:43.118378Z"
    },
    "tags": []
   },
   "outputs": [
    {
     "name": "stdout",
     "output_type": "stream",
     "text": [
      "2022-08-04 11:14:04       4121 00000-203-24321d45-c20a-407d-9c25-2414e2d26c63-00001.parquet\n",
      "2022-08-04 11:14:33       5054 00000-407-8e8aa5f6-78aa-443b-89ac-d914d8911ed4-00001.parquet\n",
      "2022-08-04 11:15:03       5518 00000-609-5f4e46bd-a5db-4b6b-9abe-b9562464ccbd-00001.parquet\n",
      "2022-08-04 11:15:33       5734 00000-816-edfe8f73-d85f-4e82-9214-3c58f7a76aa9-00001.parquet\n",
      "2022-08-04 11:14:04       4182 00002-225-44f72692-e6ff-4269-966d-cf2058501af2-00001.parquet\n",
      "2022-08-04 11:14:33       5239 00002-429-ccb32a2e-34e2-414b-b990-902e33c5ca08-00001.parquet\n",
      "2022-08-04 11:15:03       6005 00002-631-d025b0b2-38d6-4646-9bff-c71288d1a77f-00001.parquet\n",
      "2022-08-04 11:15:33       5856 00002-838-309787ba-462f-45fe-bf95-a844e141c05a-00001.parquet\n",
      "2022-08-04 11:14:04       4027 00003-236-70647d16-36ae-4bd4-8642-54b10c98b7be-00001.parquet\n",
      "2022-08-04 11:14:33       5157 00003-440-a482b574-03d2-4c5f-bee8-d3aeb35f85d2-00001.parquet\n",
      "2022-08-04 11:15:03       5486 00003-642-1b011262-fbbe-42ff-ac55-d6bb45536448-00001.parquet\n",
      "2022-08-04 11:15:33       5716 00003-849-98d1163d-9e03-458b-8bb0-d64d678d41b2-00001.parquet\n",
      "2022-08-04 11:14:04       3891 00007-245-8dd82b7d-a723-4bff-b912-eb4dcadf23ce-00001.parquet\n",
      "2022-08-04 11:14:33       4545 00007-438-4bb6eadc-e119-4630-a1fb-3360418db308-00001.parquet\n",
      "2022-08-04 11:15:03       4574 00007-641-f6b2d9ff-442f-4324-a8ce-99311fce3371-00001.parquet\n",
      "2022-08-04 11:15:33       4574 00007-842-cdc4d1df-d63f-4b46-bcb5-ccef60b70a08-00001.parquet\n",
      "2022-08-04 11:14:04       3859 00008-253-39552aaf-40a5-4aad-95b0-a080a5d41cbc-00001.parquet\n",
      "2022-08-04 11:14:33       4598 00008-449-20e609cc-43cf-4231-aa96-b5b2112cfeb2-00001.parquet\n",
      "2022-08-04 11:15:03       4703 00008-651-409aa9ac-4e55-4662-8dcc-362c076ccd14-00001.parquet\n",
      "2022-08-04 11:15:33       4697 00008-853-dd3fac42-7314-4b91-8384-384e4b7bbc12-00001.parquet\n",
      "2022-08-04 11:14:04       3704 00009-261-2f37dcf8-9993-4417-a220-c0361947a7f6-00001.parquet\n",
      "2022-08-04 11:14:33       4313 00009-457-fad2b8e2-3124-451c-a8ba-d7d40cf21381-00001.parquet\n",
      "2022-08-04 11:15:03       4365 00009-659-4bf87eba-eca0-4891-b330-f4244ed849aa-00001.parquet\n",
      "2022-08-04 11:15:33       4365 00009-861-16829444-703a-4050-8140-cd770d6bd77c-00001.parquet\n",
      "2022-08-04 11:14:04       4215 00012-204-30c98012-d1e2-48bf-ade1-0b2ae12abb99-00001.parquet\n",
      "2022-08-04 11:14:33       5052 00012-412-e6fe7d52-77da-4f6d-b20e-6b28efe6c069-00001.parquet\n",
      "2022-08-04 11:15:03       5070 00012-610-c67b2891-cc7f-4ee5-b6e4-8cc5a87f90a5-00001.parquet\n",
      "2022-08-04 11:15:33       5514 00012-813-29e1baa6-589f-4682-994e-2456988b4374-00001.parquet\n",
      "2022-08-04 11:14:04       3853 00013-215-cef57f41-2e35-4eeb-a607-728ffd3a7a37-00001.parquet\n",
      "2022-08-04 11:14:33       4431 00013-423-b0a556b0-841b-4a74-848f-66603701d8a9-00001.parquet\n",
      "2022-08-04 11:15:03       4437 00013-621-d4ad80c3-d063-47a1-9ae5-18ff29f252ec-00001.parquet\n",
      "2022-08-04 11:15:33       4437 00013-824-d25e0139-238a-42e0-9645-d2d2342c84d9-00001.parquet\n",
      "2022-08-04 11:14:04       3841 00014-226-3629a620-4fc4-4a61-a386-d87da1ea4e3d-00001.parquet\n",
      "2022-08-04 11:14:33       4609 00014-434-35d14ace-f3cf-4e4a-a617-e39ec29197f2-00001.parquet\n",
      "2022-08-04 11:15:03       5044 00014-632-7942d223-6559-44bf-8319-165863a41281-00001.parquet\n",
      "2022-08-04 11:15:33       4974 00014-835-95fc170d-b14f-4d0e-a490-b60b8966a86d-00001.parquet\n",
      "2022-08-04 11:14:04       3853 00017-255-ee586a8a-9492-45ea-864a-e682d22fc216-00001.parquet\n",
      "2022-08-04 11:14:33       4433 00017-461-a27ee9b9-9281-44b8-95e5-c23b2fb06dbf-00001.parquet\n",
      "2022-08-04 11:15:03       4439 00017-660-b384a3f1-a324-4932-8a64-573329fcbc5c-00001.parquet\n",
      "2022-08-04 11:15:33       4439 00017-865-34f132d3-7c32-4de3-a807-741e7e3e2bed-00001.parquet\n",
      "2022-08-04 11:14:04       3892 00019-271-cf0b3b65-8552-4926-8bfd-7bc390ba77a1-00001.parquet\n",
      "2022-08-04 11:14:33       4763 00019-477-248fbd69-eb81-49c0-a5ec-05d48f123bbb-00001.parquet\n",
      "2022-08-04 11:15:03       5478 00019-676-a3e58aff-e84b-49ac-bab1-ea66aa10a462-00001.parquet\n",
      "2022-08-04 11:15:33       5260 00019-881-fe2f62c9-8902-4c28-ad8c-d1719b0d58ab-00001.parquet\n",
      "2022-08-04 11:14:04       3934 00020-279-1c8e9b7c-aa71-4f4c-937f-2d2a19c56f29-00001.parquet\n",
      "2022-08-04 11:14:33       4569 00020-484-a1ee0d83-9e06-468f-add7-9daaa8be6919-00001.parquet\n",
      "2022-08-04 11:15:03       4575 00020-683-45430dd4-cbde-468f-9d98-c21f805f01c3-00001.parquet\n",
      "2022-08-04 11:14:04       3973 00022-293-fcff5116-bec8-4487-b93b-3e6b37667fe7-00001.parquet\n",
      "2022-08-04 11:14:33       4972 00022-498-cc4aed12-ed4f-478d-b103-b548d06b56a0-00001.parquet\n",
      "2022-08-04 11:15:03       5698 00022-697-698c19f2-dacd-4fd4-9017-213672ca3ec6-00001.parquet\n",
      "2022-08-04 11:15:33       5483 00022-902-6e085603-e792-423a-8650-1286b33de7e3-00001.parquet\n",
      "2022-08-04 11:14:04       4023 00023-300-f03bd74c-0926-4475-9c68-9a06f1d5ca31-00001.parquet\n",
      "2022-08-04 11:14:33       4956 00023-505-30e18fff-9715-4b9d-9922-ed9fd83f8fc3-00001.parquet\n",
      "2022-08-04 11:15:03       5183 00023-704-ac1e3e91-a69f-46d6-a213-20d80a6de055-00001.parquet\n",
      "2022-08-04 11:15:33       5617 00023-909-803872ca-04f7-435d-a201-e452e2a11cc5-00001.parquet\n",
      "2022-08-04 11:14:04       3900 00025-313-c94365d5-0f65-44a0-95ad-e83f2c09dcd6-00001.parquet\n",
      "2022-08-04 11:14:33       4664 00025-517-74a34f70-054f-4126-be5c-30abd7344724-00001.parquet\n",
      "2022-08-04 11:15:03       4765 00025-717-9125ecd5-9fbf-4ec7-a682-425e0db64bf9-00001.parquet\n",
      "2022-08-04 11:15:33       4741 00025-921-a0823af6-b5d9-4588-ac1b-4a65e74be3c5-00001.parquet\n",
      "2022-08-04 11:14:04       3952 00026-319-1ccf357b-b157-47ce-9b12-3d4a6c95ae4e-00001.parquet\n",
      "2022-08-04 11:14:33       4737 00026-523-54befcd5-990a-4bd5-b89f-a8fbaa05a273-00001.parquet\n",
      "2022-08-04 11:15:03       5457 00026-723-affc30e9-9ccd-4a32-8296-253a59ac8306-00001.parquet\n",
      "2022-08-04 11:15:33       5353 00026-927-6e9a7401-516e-40e2-ab04-2337440c1cf1-00001.parquet\n",
      "2022-08-04 11:14:04       4127 00031-244-2d925bc5-6569-4ce5-ad33-d3ca75f11851-00001.parquet\n",
      "2022-08-04 11:14:33       5054 00031-447-072361c5-1c47-45c6-861f-f5528f7cb650-00001.parquet\n",
      "2022-08-04 11:15:03       5518 00031-645-789a14c2-ee94-47c5-af25-75e929fa37f2-00001.parquet\n",
      "2022-08-04 11:15:33       5735 00031-844-18c0aea5-d975-4fba-80ed-030df27d44f8-00001.parquet\n",
      "2022-08-04 11:14:04       3863 00033-260-1936a2ea-c708-4246-b464-16920e85b0f7-00001.parquet\n",
      "2022-08-04 11:14:33       4603 00033-463-1df59a53-b755-4261-81b5-6e54964cbf60-00001.parquet\n",
      "2022-08-04 11:15:03       4708 00033-661-76984ae6-81bf-42fd-918a-97f8fda5d099-00001.parquet\n",
      "2022-08-04 11:15:33       4702 00033-863-a255d047-42c2-400a-8606-d8170504862d-00001.parquet\n",
      "2022-08-04 11:14:04       3899 00034-268-1463d621-9a2f-43d8-92e7-b208929b0122-00001.parquet\n",
      "2022-08-04 11:14:33       4662 00034-471-d36286ce-5213-44a3-a91a-cb0de5f6f80f-00001.parquet\n",
      "2022-08-04 11:15:03       4761 00034-669-9c306623-95cc-4459-8fc5-84bfcc4a9e6a-00001.parquet\n",
      "2022-08-04 11:15:33       4755 00034-871-0d02a0c8-8f7c-4254-83c0-274613761116-00001.parquet\n",
      "2022-08-04 11:14:04       3827 00037-291-cbc03d71-be89-439d-a584-847e0b0813fb-00001.parquet\n",
      "2022-08-04 11:14:33       4567 00037-493-cef0a667-eb7a-49bb-be50-11439f40f621-00001.parquet\n",
      "2022-08-04 11:15:03       4745 00037-691-9ac5f3a2-b656-4538-b6b8-4a6d13db86e6-00001.parquet\n",
      "2022-08-04 11:15:33       4750 00037-893-c0bbe10f-9f91-407b-9e1f-6ee24ebc0d95-00001.parquet\n",
      "2022-08-04 11:14:04       3855 00038-298-8b4ec0ed-6876-4fba-8c1c-a6143f1c42a6-00001.parquet\n",
      "2022-08-04 11:14:33       4432 00038-500-2e7e7526-0e6a-48b5-bcfd-e4d8d8f034a3-00001.parquet\n",
      "2022-08-04 11:15:03       4438 00038-698-6148cd46-56b3-4cb7-be0f-1f1ccc44ddaa-00001.parquet\n",
      "2022-08-04 11:15:33       4438 00038-900-05a8d7c9-89f2-4f51-846f-891dbf08be20-00001.parquet\n",
      "2022-08-04 11:14:04       4600 00039-305-18af5a07-7a06-446f-8ad2-82236b9edeab-00001.parquet\n",
      "2022-08-04 11:14:33       5507 00039-507-2519b8ac-8f53-408b-9f93-5c9ac942bffc-00001.parquet\n",
      "2022-08-04 11:15:03       5958 00039-705-ca676a5c-e9a6-40fc-b4e4-da33a9eb197a-00001.parquet\n",
      "2022-08-04 11:15:33       5894 00039-907-b88fb0d0-10f5-4d42-8719-2cc3425b17c2-00001.parquet\n",
      "2022-08-04 11:14:04       3865 00040-311-1ff95e44-2da6-445e-8263-ec380fdff280-00001.parquet\n",
      "2022-08-04 11:14:33       4606 00040-513-0a89a0a9-6cf7-46d5-8398-62550b397a8b-00001.parquet\n",
      "2022-08-04 11:15:03       4711 00040-712-4fc1e680-25ec-49d8-b855-a612e99c17ec-00001.parquet\n",
      "2022-08-04 11:15:33       4705 00040-914-9c4c6ac8-a993-4538-b169-7c9146b2edb9-00001.parquet\n",
      "2022-08-04 11:14:04       3942 00045-339-1501852d-3f17-46a6-8a12-afe9afa6fdb7-00001.parquet\n",
      "2022-08-04 11:14:33       4607 00045-541-76b4dce5-85a1-4bfc-82cb-3ee69ae03728-00001.parquet\n",
      "2022-08-04 11:15:03       4610 00045-740-d401dad1-0e5b-4d16-b101-e49ee0f77047-00001.parquet\n",
      "2022-08-04 11:15:33       4610 00045-943-f23533cd-fdb3-41f9-81d8-381ce00d7f15-00001.parquet\n",
      "2022-08-04 11:14:04       3873 00046-344-86786a1e-1931-4b7f-93e1-73abcd8a319b-00001.parquet\n",
      "2022-08-04 11:14:33       4586 00046-546-059a8b8c-534c-48e9-afca-7550eb8c9144-00001.parquet\n",
      "2022-08-04 11:15:03       4884 00046-745-5aae7ae3-4e4c-453c-8d59-f691fb8ef8ff-00001.parquet\n",
      "2022-08-04 11:15:33       4886 00046-948-8ace1753-6942-43ce-92f3-07e7ee20245c-00001.parquet\n",
      "2022-08-04 11:14:04       4529 00049-221-182d5e64-642c-45c2-b748-8568859b6f23-00001.parquet\n",
      "2022-08-04 11:14:33       5255 00049-415-58f1de0e-4a69-41e8-a34c-e2d72370846e-00001.parquet\n",
      "2022-08-04 11:15:03       6059 00049-626-b8949523-eefb-4306-b3de-f7ec2d5d2d8a-00001.parquet\n",
      "2022-08-04 11:15:33       5925 00049-823-6d4ecb55-4114-4809-809b-48fdf66ba1ca-00001.parquet\n",
      "2022-08-04 11:14:04       4064 00052-251-b3588bd6-5056-4cf7-b07b-3a7cf4f90909-00001.parquet\n",
      "2022-08-04 11:14:33       4814 00052-448-edcb5f5d-21a3-4d8b-8ba1-f9a41aae6846-00001.parquet\n",
      "2022-08-04 11:15:03       5610 00052-656-19f0e8bb-a9fc-49db-8c9c-cf4c888aab9e-00001.parquet\n",
      "2022-08-04 11:15:33       5344 00052-856-ce1f3eb5-aae6-4464-b352-62091c77f99f-00001.parquet\n",
      "2022-08-04 11:14:04       4710 00053-259-82afc6f3-ecfe-4156-bb3c-1675f0b995a9-00001.parquet\n",
      "2022-08-04 11:14:33       5642 00053-456-e6721adb-6598-4d83-811c-0aec4d2bd7b1-00001.parquet\n",
      "2022-08-04 11:15:03       5720 00053-664-ff0d428a-712a-4c31-abb8-636143bac9d4-00001.parquet\n",
      "2022-08-04 11:15:33       5796 00053-864-290314e3-6b7d-4635-ab94-c08e46345be5-00001.parquet\n",
      "2022-08-04 11:14:04       3853 00055-275-3a54f979-a76d-4554-8edd-c884919cb274-00001.parquet\n",
      "2022-08-04 11:14:33       4430 00055-472-80da576f-3ae3-4571-8761-50b0fc60dc81-00001.parquet\n",
      "2022-08-04 11:15:03       4436 00055-680-be3d64d5-bbb5-4d44-827a-435a41a9192b-00001.parquet\n",
      "2022-08-04 11:15:33       4436 00055-880-f5df2ace-4db2-4fe2-adca-98f3a28bfa55-00001.parquet\n",
      "2022-08-04 11:14:04       3903 00056-283-6987455f-72c1-49e2-a858-1e97c0ed594e-00001.parquet\n",
      "2022-08-04 11:14:33       4592 00056-480-94fca671-a60f-4466-b1d3-2736a4dc4eda-00001.parquet\n",
      "2022-08-04 11:15:03       4598 00056-687-132d292a-0191-49fd-a2b2-d89c0151ef18-00001.parquet\n",
      "2022-08-04 11:15:33       4598 00056-887-7984abca-f6d9-463f-a438-a605abf99676-00001.parquet\n",
      "2022-08-04 11:14:04       3925 00058-297-e69a72d6-ff3e-4ec7-af8f-121ffa4aff16-00001.parquet\n",
      "2022-08-04 11:14:33       4724 00058-494-db4b02aa-386f-4150-ba54-909505881555-00001.parquet\n",
      "2022-08-04 11:15:03       4856 00058-701-b7cee8b2-db93-4419-9fa5-11c5fd679230-00001.parquet\n",
      "2022-08-04 11:15:33       4844 00058-901-4e66e373-1b6e-4781-8c0d-66961b07bdef-00001.parquet\n",
      "2022-08-04 11:14:04       4480 00059-304-e24077f2-2c2d-44e3-a39e-383bb0ac08ee-00001.parquet\n",
      "2022-08-04 11:14:33       5438 00059-501-309eedba-73b1-4a21-b7df-60d2bf8984a7-00001.parquet\n",
      "2022-08-04 11:15:03       5831 00059-708-dc8c8f24-dbb3-456f-923f-11937d81fa02-00001.parquet\n",
      "2022-08-04 11:15:33       6283 00059-908-8c488003-6637-426e-89b9-e91edbb0ba19-00001.parquet\n",
      "2022-08-04 11:14:04       3904 00060-207-19462070-cde2-4c0f-af6f-57df34809339-00001.parquet\n",
      "2022-08-04 11:14:33       4588 00060-410-bfff2734-866a-4b12-8106-cea2bc9350cc-00001.parquet\n",
      "2022-08-04 11:15:03       4594 00060-607-47e7e09b-6831-4d69-808d-f78601af6fa4-00001.parquet\n",
      "2022-08-04 11:15:33       4594 00060-818-426ef912-b293-4892-a902-f5f73ea4a109-00001.parquet\n",
      "2022-08-04 11:14:04       3931 00062-229-dc4868fc-657f-4802-9f04-a05caf4bdbf0-00001.parquet\n",
      "2022-08-04 11:14:33       4726 00062-432-219ead44-ea07-4a6a-9a26-df2a6e798566-00001.parquet\n",
      "2022-08-04 11:15:03       4858 00062-629-c66af22c-bf10-4eba-a4a2-7c0efc1c5304-00001.parquet\n",
      "2022-08-04 11:15:33       4846 00062-840-2a4e2374-4dc8-4c28-985e-3ebe348a4129-00001.parquet\n",
      "2022-08-04 11:14:04       3799 00065-257-9f3f32d4-2725-4ff9-936d-348e7c5e1ba8-00001.parquet\n",
      "2022-08-04 11:14:33       4491 00065-460-88fe9d0f-6134-41bb-a3d3-486aaa5fd513-00001.parquet\n",
      "2022-08-04 11:15:03       4659 00065-658-f6f92697-05af-4b43-ab96-afc8682ce3b0-00001.parquet\n",
      "2022-08-04 11:15:33       4809 00065-867-798539ce-38f5-495b-992c-e8e6188a83f3-00001.parquet\n",
      "2022-08-04 11:14:04       4192 00066-265-ebad1251-a2ac-42df-9b00-57daf09528c4-00001.parquet\n",
      "2022-08-04 11:14:33       5128 00066-468-afc6f65b-b113-4e10-9544-018ae0798270-00001.parquet\n",
      "2022-08-04 11:15:03       5717 00066-666-f70eee99-09ed-4eab-82d0-20aa71215cd0-00001.parquet\n",
      "2022-08-04 11:15:33       5917 00066-875-bc049607-2570-40f8-aa93-b2c274a12bb9-00001.parquet\n",
      "2022-08-04 11:14:04       3857 00068-281-3a5591d5-e6cb-4b93-987f-d7ef5c25b8c3-00001.parquet\n",
      "2022-08-04 11:14:33       4437 00068-483-97a8ed8d-fb1e-4699-8b28-b16bdc37e3a7-00001.parquet\n",
      "2022-08-04 11:15:03       4443 00068-682-590e9bc9-ee3c-4b92-a6ec-087491fb891d-00001.parquet\n",
      "2022-08-04 11:15:33       4443 00068-890-14061510-e5cf-4c1a-b254-292aafb86648-00001.parquet\n",
      "2022-08-04 11:14:04       4134 00069-288-010b76c1-2a2e-4b1f-b91b-c8989b5d6435-00001.parquet\n",
      "2022-08-04 11:14:33       5383 00069-490-7c0f8377-2ace-4955-9136-9ee796145336-00001.parquet\n",
      "2022-08-04 11:15:03       5755 00069-689-aa9e75ad-2249-4012-85c2-d6a742336e85-00001.parquet\n",
      "2022-08-04 11:15:33       5899 00069-897-4c31996b-ad5f-493c-980b-4366ec64c281-00001.parquet\n",
      "2022-08-04 11:15:03       3947 00071-703-3fa158ec-61d8-4044-93e3-907bd4c5c1ad-00001.parquet\n",
      "2022-08-04 11:15:33       4742 00071-911-2b8c420f-0280-463e-85f7-fddb55ec0b9e-00001.parquet\n",
      "2022-08-04 11:14:04       3866 00074-321-5ff9157c-fd8c-4c51-9a65-b9bec5277ca4-00001.parquet\n",
      "2022-08-04 11:14:33       4689 00074-522-e9968b6d-bb9e-4d53-a333-fa5a958509ca-00001.parquet\n",
      "2022-08-04 11:15:03       5295 00074-722-d46a70be-5140-4e32-bd51-79dab217f734-00001.parquet\n",
      "2022-08-04 11:15:33       5269 00074-929-5c54a7ca-bc12-415a-8d15-51abb0b7cb5a-00001.parquet\n",
      "2022-08-04 11:14:04       3831 00075-327-b5e7a098-963b-426a-b353-8521fbf97f8b-00001.parquet\n",
      "2022-08-04 11:14:33       4558 00075-528-0a7457bb-72ce-4986-a9ed-0b2231b1da49-00001.parquet\n",
      "2022-08-04 11:15:03       4645 00075-728-b1b8f1d2-c32a-4539-ac42-5c357d859369-00001.parquet\n",
      "2022-08-04 11:15:33       4645 00075-935-670bd29d-2f0d-4785-922b-ff373cbbb29a-00001.parquet\n",
      "2022-08-04 11:14:04       3846 00080-205-8b61e3ec-e7d0-4d6d-9296-c666c819f3d8-00001.parquet\n",
      "2022-08-04 11:14:33       4587 00080-411-2c2e9b85-09be-4a5d-bf03-77031fb0478f-00001.parquet\n",
      "2022-08-04 11:15:03       4674 00080-606-b874cbe2-12c9-4293-81fd-192ba97a0d09-00001.parquet\n",
      "2022-08-04 11:15:33       4674 00080-814-26ff497d-03ad-45ad-9c3b-ad64167b2b62-00001.parquet\n",
      "2022-08-04 11:14:04       4465 00082-227-a3826296-edd8-4f4c-a23e-fe53eac3a488-00001.parquet\n",
      "2022-08-04 11:14:33       5252 00082-433-615ff85a-ce54-4adb-9111-ad417f703751-00001.parquet\n",
      "2022-08-04 11:15:03       6042 00082-628-48e22189-393f-468f-afaf-d63a81be16a6-00001.parquet\n",
      "2022-08-04 11:15:33       5755 00082-836-f4b8b57e-5bb8-465f-a9b9-02d7234f7ca9-00001.parquet\n",
      "2022-08-04 11:14:04       4170 00083-238-27eaf429-b56c-46b0-a685-a4a118e4dbcf-00001.parquet\n",
      "2022-08-04 11:14:33       5118 00083-444-73284039-9dcf-4592-8679-8bc48fa42ec4-00001.parquet\n",
      "2022-08-04 11:15:03       5511 00083-639-a1ac82dd-37a5-4740-a17d-db813668e1f7-00001.parquet\n",
      "2022-08-04 11:15:33       5902 00083-847-e0006c7a-6ec3-447c-83e7-06fe848e207f-00001.parquet\n",
      "2022-08-04 11:14:04       3923 00087-241-d4847693-fee3-4eae-a119-e5babb9f7df1-00001.parquet\n",
      "2022-08-04 11:14:33       4722 00087-442-fee9a976-1f72-4df0-a4fb-f4729817b619-00001.parquet\n",
      "2022-08-04 11:15:03       4854 00087-649-22b89865-9de1-4d3e-b609-f9197838ab1a-00001.parquet\n",
      "2022-08-04 11:15:33       4831 00087-850-2bec0ffc-2097-449d-a55d-5f22c47a4317-00001.parquet\n",
      "2022-08-04 11:14:04       3796 00089-258-ba2fcc17-fb56-479e-bdcb-e28530553af0-00001.parquet\n",
      "2022-08-04 11:14:33       4497 00089-459-bef838ab-a3b3-45f2-8d96-2b41c37aafd7-00001.parquet\n",
      "2022-08-04 11:15:03       4642 00089-665-f6cc9afa-1289-4d05-9215-fa33ff9176a3-00001.parquet\n",
      "2022-08-04 11:15:33       4712 00089-866-1668ef92-7e5b-446c-b9c0-63afb1098fb1-00001.parquet\n",
      "2022-08-04 11:14:04       5153 00091-274-f8db4d5a-ec95-4581-9560-13d1d14bb21e-00001.parquet\n",
      "2022-08-04 11:14:33       5729 00091-475-ea63ebc1-e96d-4184-917e-e127f0c5a311-00001.parquet\n",
      "2022-08-04 11:15:03       6493 00091-681-c53eb432-1ccf-4343-9daa-9d8eaa72c284-00001.parquet\n",
      "2022-08-04 11:15:33       6408 00091-882-6d58e101-4d73-423d-b215-6820c0f89599-00001.parquet\n",
      "2022-08-04 11:14:04       3891 00093-289-6a4b1d52-3135-48a2-9e2c-a5fc73217b5d-00001.parquet\n",
      "2022-08-04 11:14:33       4468 00093-489-6a23a5be-bb45-49eb-a6e2-678d8e64ce4b-00001.parquet\n",
      "2022-08-04 11:15:03       4477 00093-695-194f25c1-c7e9-4086-a243-6772fb46ea38-00001.parquet\n",
      "2022-08-04 11:15:33       4471 00093-896-af2c72b9-7d68-4663-9f41-fb67a2859d6f-00001.parquet\n",
      "2022-08-04 11:14:04       4428 00094-296-c2a32408-c442-4141-b79b-85d44ff7b736-00001.parquet\n",
      "2022-08-04 11:14:33       5290 00094-496-dea48380-d74a-4718-bc6a-553063187abd-00001.parquet\n",
      "2022-08-04 11:15:03       6067 00094-702-af4f6dda-c68e-4354-9c46-e3fc5dc4a2d1-00001.parquet\n",
      "2022-08-04 11:15:33       6048 00094-903-1f7c32dd-5b95-428c-a36c-1e1cd7dc6218-00001.parquet\n",
      "2022-08-04 11:14:04       5280 00096-310-e1718667-f816-4981-8115-626f00e21c90-00001.parquet\n",
      "2022-08-04 11:14:33       5767 00096-509-652e1cc6-ef90-461c-b31f-34755f527a42-00001.parquet\n",
      "2022-08-04 11:15:03       6393 00096-715-f5da5f93-b1dd-4462-ad7e-41ed2b03141b-00001.parquet\n",
      "2022-08-04 11:15:33       6267 00096-916-75099bf1-b68b-4e70-8212-1960722e0745-00001.parquet\n",
      "2022-08-04 11:14:04       3917 00097-316-198ea7f2-c0da-4a62-b9f3-c79df164cac6-00001.parquet\n",
      "2022-08-04 11:14:33       4691 00097-515-52a50ce7-a1a6-410d-bfdf-dd570386294b-00001.parquet\n",
      "2022-08-04 11:15:03       4816 00097-721-9a22c86f-9265-41a5-874b-4d63813aa95c-00001.parquet\n",
      "2022-08-04 11:15:33       5322 00097-922-4a172d81-ec02-413e-90c8-fcb5ec76b460-00001.parquet\n",
      "2022-08-04 11:14:04       3858 00099-328-b0e2a605-e329-4d8e-8c4b-9dc86b7bca72-00001.parquet\n",
      "2022-08-04 11:14:33       4603 00099-527-23b0e79b-ee67-482d-b38b-38881b11fa6d-00001.parquet\n",
      "2022-08-04 11:15:03       4708 00099-733-86895d6e-6e13-46b4-a133-bdfab718b736-00001.parquet\n",
      "2022-08-04 11:15:33       4702 00099-934-61fd08de-5d71-4a91-b832-a1fcbb876939-00001.parquet\n",
      "2022-08-04 11:14:04       3842 00101-338-e4294fb8-938d-4759-abf2-9232954becf6-00001.parquet\n",
      "2022-08-04 11:14:33       4586 00101-538-154ff2c8-84cd-4e94-8699-37f17c0801b0-00001.parquet\n",
      "2022-08-04 11:15:03       4673 00101-743-c11ca527-2c9f-47f8-b744-98089990bb50-00001.parquet\n",
      "2022-08-04 11:15:33       4673 00101-944-dcb5c1db-83a2-4d50-9d95-ecff196415ce-00001.parquet\n",
      "2022-08-04 11:14:04       3862 00103-348-2b535887-a77f-4d0d-9d6b-2221b1589f5c-00001.parquet\n",
      "2022-08-04 11:14:33       4440 00103-548-b1c6ed41-802e-458e-8109-77cc68d099c8-00001.parquet\n",
      "2022-08-04 11:15:03       4446 00103-753-599558c4-291f-43c8-9494-bd2ab96b49b2-00001.parquet\n",
      "2022-08-04 11:15:33       4446 00103-954-d039ded5-53ef-4fa8-b512-b548e0e3d394-00001.parquet\n",
      "2022-08-04 11:14:04       3872 00104-352-c908a8c6-04a1-42f3-9b3c-eea18130993b-00001.parquet\n",
      "2022-08-04 11:14:33       4607 00104-553-e5790908-298f-478a-bcc1-c90b0e4f3e25-00001.parquet\n",
      "2022-08-04 11:15:03       4678 00104-756-4f9ec6d8-956a-4c7e-810b-e3dbd5b38d18-00001.parquet\n",
      "2022-08-04 11:15:33       4915 00104-958-d4f19575-11e3-4ebe-85b3-3f80e5109020-00001.parquet\n",
      "2022-08-04 11:14:04       3702 00105-355-ec40262a-276e-4d2a-a993-1ae7600b22a1-00001.parquet\n",
      "2022-08-04 11:14:33       4310 00105-556-0e1b5b57-69ed-480a-adb9-dbdf65f58d3e-00001.parquet\n",
      "2022-08-04 11:15:03       4374 00105-759-adaa1ba8-ceae-493b-9c7a-0857da2a9118-00001.parquet\n",
      "2022-08-04 11:15:33       4378 00105-961-8efacc91-b354-4463-88dd-76305b913de6-00001.parquet\n",
      "2022-08-04 11:14:04       3922 00106-358-c5f71494-5741-4537-a506-14207a5a0368-00001.parquet\n",
      "2022-08-04 11:14:33       4722 00106-559-fc30a4da-212a-40e5-97e7-76cc702aaeb8-00001.parquet\n",
      "2022-08-04 11:15:03       4854 00106-762-90fae9d3-f850-405e-895d-e64dfcb775fa-00001.parquet\n",
      "2022-08-04 11:15:33       4842 00106-964-e010a244-a9cb-497f-ba11-460119372cfc-00001.parquet\n",
      "2022-08-04 11:14:04       3967 00108-363-b09596c2-38df-40f0-849d-e5d7834041bd-00001.parquet\n",
      "2022-08-04 11:14:33       4824 00108-565-10b0b901-1114-4832-98fc-2871f0f54f2b-00001.parquet\n",
      "2022-08-04 11:15:03       5729 00108-767-6e422267-f1db-4b69-8046-edcebf7d1770-00001.parquet\n",
      "2022-08-04 11:15:33       5467 00108-969-6fd74e61-28b6-4fb9-8ae6-ad42f09b3327-00001.parquet\n",
      "2022-08-04 11:14:04       3762 00109-365-85b9aaa5-be0c-484d-995b-2a485f2d204f-00001.parquet\n",
      "2022-08-04 11:14:33       4383 00109-567-46a2626e-9406-4107-9646-d4a67ac2cbb8-00001.parquet\n",
      "2022-08-04 11:15:03       4488 00109-769-11b03c4e-c299-4c8f-a390-d22d329d4040-00001.parquet\n",
      "2022-08-04 11:15:33       4556 00109-971-4ffb099c-6a9e-476b-b297-bdcee7c24ce7-00001.parquet\n",
      "2022-08-04 11:14:04       4131 00110-367-0c73ff0f-d633-46fd-9010-6e0c35d0369c-00001.parquet\n",
      "2022-08-04 11:14:33       5282 00110-569-45f5c14a-186e-4845-8e6d-db5478fbaa33-00001.parquet\n",
      "2022-08-04 11:15:03       6066 00110-771-5ae7e9f2-ef22-4c6e-acc0-285e014fdc21-00001.parquet\n",
      "2022-08-04 11:15:33       5483 00110-973-4a4a2cda-e4fd-4f54-a56f-43a1548e45db-00001.parquet\n",
      "2022-08-04 11:14:04       4193 00112-371-49101a09-a125-4cc7-a55c-70194a329266-00001.parquet\n",
      "2022-08-04 11:14:33       5458 00112-573-e63fc726-a5da-4d9b-b095-4551665d0752-00001.parquet\n",
      "2022-08-04 11:15:03       6011 00112-775-1673efc8-7825-4f1c-b6b1-22f856c7419e-00001.parquet\n",
      "2022-08-04 11:15:33       6009 00112-977-df9417ec-7a04-4828-9582-d5189bfbe3c9-00001.parquet\n",
      "2022-08-04 11:14:04       3858 00115-377-49ae72df-0579-4351-b167-0010e7271deb-00001.parquet\n",
      "2022-08-04 11:14:33       4598 00115-579-f9e45ecc-c5a6-4781-9a59-2a8115bbec87-00001.parquet\n",
      "2022-08-04 11:15:03       4703 00115-781-ce250cd1-a2b4-466f-9e39-6e5429b0dee9-00001.parquet\n",
      "2022-08-04 11:15:33       4697 00115-983-6e3da02a-6a61-4ef7-a2af-6f297650b705-00001.parquet\n",
      "2022-08-04 11:14:04       4443 00116-379-b96c6b4c-747c-4d30-9b60-d6f23a744fb0-00001.parquet\n",
      "2022-08-04 11:14:33       5723 00116-581-92a6a91d-d25b-46be-a823-ee7fab4bd86c-00001.parquet\n",
      "2022-08-04 11:15:03       6725 00116-783-7864d09d-7498-4f60-8a8d-008fdf155006-00001.parquet\n",
      "2022-08-04 11:15:33       6865 00116-985-0bde92d7-14af-4c18-8684-2f358e28a05d-00001.parquet\n",
      "2022-08-04 11:14:04       3864 00118-383-4e0cf8f6-3481-424a-896b-6bbc2b26dbf6-00001.parquet\n",
      "2022-08-04 11:14:33       4608 00118-585-1eb76661-a246-44d5-adaf-4e7e6f334b53-00001.parquet\n",
      "2022-08-04 11:15:03       4713 00118-787-e8d98c9b-06a7-47c2-a2ee-909bcbbdb570-00001.parquet\n",
      "2022-08-04 11:15:33       4707 00118-989-5b9cd770-6dcb-44b6-beb0-b6915117e485-00001.parquet\n",
      "2022-08-04 11:14:04       4202 00122-392-f0f20784-b4ad-4301-8279-79adce6bf205-00001.parquet\n",
      "2022-08-04 11:14:33       5351 00122-594-9b10a16f-1c32-42fe-968d-dfb7ab9c4761-00001.parquet\n",
      "2022-08-04 11:15:03       5949 00122-796-117d9c31-96ac-4c92-ae8f-16bceab50554-00001.parquet\n",
      "2022-08-04 11:15:33       5976 00122-998-607467c2-f810-4920-8438-90b9f88d0658-00001.parquet\n",
      "2022-08-04 11:15:33       4933 00126-1002-2ee6ca88-41b4-4a7c-b0f1-f4a351623306-00001.parquet\n",
      "2022-08-04 11:14:04       4120 00126-396-41747a19-3655-4eff-8697-c99834988942-00001.parquet\n",
      "2022-08-04 11:14:34       4892 00126-598-2d2559f8-ce71-466f-a2a8-5bfd56b30445-00001.parquet\n",
      "2022-08-04 11:15:04       4943 00126-800-d17fb1eb-1d48-403c-9df2-e249573e5ef6-00001.parquet\n",
      "2022-08-04 11:15:33       6193 00127-1003-b6982f5c-5d1f-4c49-ab44-3cd8579b8aee-00001.parquet\n",
      "2022-08-04 11:14:04       4791 00127-397-4a5ca474-8d1e-48e8-8af4-442c831e3281-00001.parquet\n",
      "2022-08-04 11:14:34       5338 00127-599-9325e400-d33c-493e-b20e-b82c300cd617-00001.parquet\n",
      "2022-08-04 11:15:04       6293 00127-801-f24435fc-4907-4654-89d2-f62b56dc2b93-00001.parquet\n",
      "2022-08-04 11:14:04       3757 00130-224-e550bbb7-12f7-4b09-86b2-8bcc5cd88f6b-00001.parquet\n",
      "2022-08-04 11:14:33       4409 00130-430-7e1aa649-3712-4e41-9dc9-122ad4693a35-00001.parquet\n",
      "2022-08-04 11:15:03       4535 00130-636-9326abdb-733c-445a-8ee5-be448dd22fb5-00001.parquet\n",
      "2022-08-04 11:15:33       4544 00130-832-6d9831a6-e97a-439c-997f-e8f635ce699c-00001.parquet\n",
      "2022-08-04 11:14:04       4196 00132-246-e864499a-2e3e-43c2-8a78-01f27639ef8b-00001.parquet\n",
      "2022-08-04 11:14:33       4967 00132-450-e2c1d33d-d256-4bf5-a1a8-58530945c5c2-00001.parquet\n",
      "2022-08-04 11:15:03       5572 00132-655-828bccc0-0dbf-4837-90ef-f32890f33fd8-00001.parquet\n",
      "2022-08-04 11:15:34       5752 00132-854-9b6b0db2-9343-47c6-b2fa-9952c976f075-00001.parquet\n",
      "2022-08-04 11:14:04       3781 00134-262-fc70bc98-ab16-4859-8f05-f72387e988d0-00001.parquet\n",
      "2022-08-04 11:14:33       4460 00134-466-9c34c6ea-602c-4148-9086-edd38d675615-00001.parquet\n",
      "2022-08-04 11:15:03       4676 00134-671-3f42400d-9896-4ab8-b268-6ee6ae76223a-00001.parquet\n",
      "2022-08-04 11:15:34       4686 00134-870-baa779ad-eabe-44fc-a251-7b26d1106f27-00001.parquet\n",
      "2022-08-04 11:14:04       3929 00135-270-aeeb95da-eb65-452d-badd-6a78af89a93f-00001.parquet\n",
      "2022-08-04 11:14:33       4728 00135-474-ca021055-e8a9-4339-b804-53c3a58a9ec9-00001.parquet\n",
      "2022-08-04 11:15:03       4860 00135-679-c4350815-609d-4472-b963-7d59d25ec96d-00001.parquet\n",
      "2022-08-04 11:15:33       4848 00135-878-2f544c2d-3d37-49ec-b45e-939d42461b32-00001.parquet\n",
      "2022-08-04 11:14:04       3851 00138-292-20725e89-b7f8-498c-86c6-071963bf0969-00001.parquet\n",
      "2022-08-04 11:14:33       4590 00138-495-912a5324-bd53-4708-8263-14f5a298e96d-00001.parquet\n",
      "2022-08-04 11:15:03       4677 00138-700-1d4d28e0-a58f-4a91-a26b-eebbc300eb9d-00001.parquet\n",
      "2022-08-04 11:15:33       4677 00138-899-800b17c5-8f5c-4f29-a4cf-8d8caa62b11c-00001.parquet\n",
      "2022-08-04 11:14:04       4163 00139-299-c7dd6d24-5a4e-4106-bfdc-7420a00b1d31-00001.parquet\n",
      "2022-08-04 11:14:33       4992 00139-502-835240ac-f3ca-4a66-8527-be9e18542eef-00001.parquet\n",
      "2022-08-04 11:15:03       5514 00139-707-d7b7a95d-c9a6-4001-a248-1856b949c700-00001.parquet\n",
      "2022-08-04 11:15:33       5311 00139-906-997d934e-b24f-49b8-9917-821d735d8bb6-00001.parquet\n",
      "2022-08-04 11:14:04       3853 00140-306-6ebb1d6b-0454-40a6-9a02-9f7068d175cb-00001.parquet\n",
      "2022-08-04 11:14:33       4433 00140-508-6cdd69a5-e077-4b16-9fe7-9a04dc7fab34-00001.parquet\n",
      "2022-08-04 11:15:03       4439 00140-714-fe9d7b27-f83a-4421-b511-b1378fb0828d-00001.parquet\n",
      "2022-08-04 11:15:33       4439 00140-913-aa42b4e3-da98-494b-97c9-57326f505856-00001.parquet\n",
      "2022-08-04 11:14:04       4320 00141-312-c57c3764-ce52-4f38-bb77-fa6cee316b91-00001.parquet\n",
      "2022-08-04 11:14:33       5214 00141-514-f3eb81af-1e31-4d88-9129-4cd6a1956c43-00001.parquet\n",
      "2022-08-04 11:15:03       5952 00141-720-a2610be6-ebf3-4b37-a0c3-329194431239-00001.parquet\n",
      "2022-08-04 11:15:33       6308 00141-919-63205919-da9e-46d7-9ecb-d6e5f799dc79-00001.parquet\n",
      "2022-08-04 11:14:04       3846 00142-318-5ea3bbd1-6d8d-495e-9585-9bd78861649f-00001.parquet\n",
      "2022-08-04 11:14:33       4587 00142-520-f1a51337-1b3b-4927-869c-a64d9bc6ee54-00001.parquet\n",
      "2022-08-04 11:15:03       4674 00142-726-39281518-bd18-4fa2-8cac-d27de695d66f-00001.parquet\n",
      "2022-08-04 11:15:33       4674 00142-925-d4c306fe-11a2-4347-8fa6-6bd5d7483eaf-00001.parquet\n",
      "2022-08-04 11:14:04       3868 00143-324-be52d486-5a2b-4f8d-8cea-2caa47f2c247-00001.parquet\n",
      "2022-08-04 11:14:33       4552 00143-526-8734c8ea-9e3d-4c43-808f-b52474325c16-00001.parquet\n",
      "2022-08-04 11:15:03       4595 00143-732-eff6418d-64c3-4bf6-a5f5-6c36d365200e-00001.parquet\n",
      "2022-08-04 11:15:33       4599 00143-931-2f39b330-f4e4-4f67-b83c-00a32de5ef39-00001.parquet\n",
      "2022-08-04 11:14:04       3702 00148-350-21308aae-b897-4cb0-8772-00b0e93fafc3-00001.parquet\n",
      "2022-08-04 11:14:33       4322 00148-552-14588460-319d-4445-a34b-676eff45d415-00001.parquet\n",
      "2022-08-04 11:15:03       4400 00148-755-0fb462d1-10c0-4ee5-a1db-719f2b2be742-00001.parquet\n",
      "2022-08-04 11:15:33       4396 00148-957-f487b847-83a5-409b-a236-e6faa0f59b83-00001.parquet\n",
      "2022-08-04 11:14:04       4142 00149-353-46ff8079-f9f0-432f-853d-b78cd0d9c293-00001.parquet\n",
      "2022-08-04 11:14:33       4702 00149-555-9af07f45-2a4b-4059-a558-51a3090b6920-00001.parquet\n",
      "2022-08-04 11:15:03       5058 00149-758-6e62e2d9-0e86-48a2-9ca9-48155b18aca6-00001.parquet\n",
      "2022-08-04 11:15:33       5003 00149-960-62ae3f81-657a-4a94-89c9-ddc7104c17a2-00001.parquet\n",
      "2022-08-04 11:14:04       3940 00151-359-070c9a75-9597-4002-9ea9-283cb4ddaed8-00001.parquet\n",
      "2022-08-04 11:14:33       4889 00151-561-590832e3-07e0-43e5-be37-0dc9fbceeda7-00001.parquet\n",
      "2022-08-04 11:15:03       5586 00151-764-97f5f1d7-b114-4c45-9a05-521fcfce2ace-00001.parquet\n",
      "2022-08-04 11:15:33       5587 00151-966-59571aa6-6631-4976-b178-955881072ec8-00001.parquet\n",
      "2022-08-04 11:14:04       3866 00154-366-7cc62f85-16aa-458e-bf8f-7b99a39ad72d-00001.parquet\n",
      "2022-08-04 11:14:33       4444 00154-568-cfc58c2d-89f7-4f0f-b227-96737b54bb72-00001.parquet\n",
      "2022-08-04 11:15:03       4450 00154-770-7967b1d8-48fe-43d9-8676-c989cc395ecd-00001.parquet\n",
      "2022-08-04 11:15:33       4450 00154-972-999a0118-8270-4744-a5ff-ff2c0a810d47-00001.parquet\n",
      "2022-08-04 11:15:33       3790 00155-974-e4ecb186-c419-4c78-9901-d6925bb0f198-00001.parquet\n",
      "2022-08-04 11:14:04       3855 00156-370-85f150ec-b11b-488e-84ce-cc0feb59244f-00001.parquet\n",
      "2022-08-04 11:14:33       4650 00156-572-9dca0721-c8f4-45da-8930-aa869fc3f66e-00001.parquet\n",
      "2022-08-04 11:15:03       5180 00156-774-2a07d8e8-1791-4c95-a207-aa187225461b-00001.parquet\n",
      "2022-08-04 11:15:33       5142 00156-976-fc136a97-7f8d-4441-8c67-2cd14a3ba284-00001.parquet\n",
      "2022-08-04 11:14:04       3852 00159-376-aeaa6d32-12a4-4c7d-8031-1cafe519d80b-00001.parquet\n",
      "2022-08-04 11:14:33       4431 00159-578-560eca70-7375-4d28-9291-2bd454154649-00001.parquet\n",
      "2022-08-04 11:15:03       4437 00159-780-d6b29fa4-bf36-41ad-83eb-3186116dc117-00001.parquet\n",
      "2022-08-04 11:15:33       4437 00159-982-3e906e99-7a9e-4f03-9141-18e0799d6357-00001.parquet\n",
      "2022-08-04 11:14:04       3840 00160-378-c2645747-57e2-4541-b78b-5e790aacd3c2-00001.parquet\n",
      "2022-08-04 11:14:33       4549 00160-580-e9680e03-b9d4-415f-b1c1-6e4b86b36c31-00001.parquet\n",
      "2022-08-04 11:15:03       4789 00160-782-63902133-a9f3-476e-9fcd-47f6cb87fef0-00001.parquet\n",
      "2022-08-04 11:15:33       5038 00160-984-fe132904-ae8b-40c0-9ee6-7c4c30861fdc-00001.parquet\n",
      "2022-08-04 11:14:04       3801 00161-380-920c954d-e1bb-48ea-b465-9f91140fa856-00001.parquet\n",
      "2022-08-04 11:14:33       4504 00161-582-ba0887c9-436a-43b0-af61-f0bb200d442a-00001.parquet\n",
      "2022-08-04 11:15:03       4783 00161-784-b206ec84-faa3-42f0-b963-6d4f3f74c2ed-00001.parquet\n",
      "2022-08-04 11:15:33       4782 00161-986-9e2ea93d-a23a-43cd-9547-f46df4e523cc-00001.parquet\n",
      "2022-08-04 11:14:04       4075 00162-382-66152c1e-4a99-4a64-85eb-a70f47571ae5-00001.parquet\n",
      "2022-08-04 11:14:33       4959 00162-584-091e3a7f-f68d-42d8-be3f-4120feb2d326-00001.parquet\n",
      "2022-08-04 11:15:03       5941 00162-786-374cc984-7f75-4e49-9c90-3eacd9d15fe0-00001.parquet\n",
      "2022-08-04 11:15:33       5863 00162-988-b6c50784-e5ed-48df-a1a2-efe93a16b70c-00001.parquet\n",
      "2022-08-04 11:14:04       4165 00163-384-a3475d50-b5e0-4d1f-882f-53ed19574cf2-00001.parquet\n",
      "2022-08-04 11:14:33       5369 00163-586-32298d69-f1fc-4715-9ad6-bf2b4f0505de-00001.parquet\n",
      "2022-08-04 11:15:03       6007 00163-788-eb868de2-8982-45f0-a734-e8dba8de7878-00001.parquet\n",
      "2022-08-04 11:15:33       6053 00163-990-b270efa2-dc76-465b-8a15-64dbd7ec22bc-00001.parquet\n",
      "2022-08-04 11:14:04       3798 00164-386-e4d65221-c94c-4447-89e5-f89fce220e68-00001.parquet\n",
      "2022-08-04 11:14:33       4488 00164-588-de027bd7-d3cd-49a8-82d5-97b7627d7ba5-00001.parquet\n",
      "2022-08-04 11:15:03       4829 00164-790-6baf0464-d8db-4aa6-becf-20bdc50f5c91-00001.parquet\n",
      "2022-08-04 11:15:33       4745 00164-992-e612aaff-8106-40c4-aaa9-777ef3a45cdd-00001.parquet\n",
      "2022-08-04 11:14:04       4009 00166-388-9268d000-ea0a-4b40-aaac-fafa3e324c77-00001.parquet\n",
      "2022-08-04 11:14:33       4890 00166-590-8ab0b48d-960a-4f1c-acfc-88f4ef958633-00001.parquet\n",
      "2022-08-04 11:15:03       5046 00166-792-fb74659a-fad0-4176-8242-f54ac9d83596-00001.parquet\n",
      "2022-08-04 11:15:33       5015 00166-994-4c9cfb6a-6ec0-4a09-b814-6f9fc5f28a4c-00001.parquet\n",
      "2022-08-04 11:15:34       4659 00168-1004-1b543bed-8c01-41cd-8009-59f61648efbc-00001.parquet\n",
      "2022-08-04 11:14:05       3801 00168-398-c18fa938-6ddb-4acf-be07-0a1e073fa2a8-00001.parquet\n",
      "2022-08-04 11:14:34       4427 00168-600-ee70c50f-5d80-4be9-afd6-027fa7fc0d35-00001.parquet\n",
      "2022-08-04 11:15:04       4597 00168-802-a4f3462e-2982-4770-b29c-1d39991bf5d4-00001.parquet\n",
      "2022-08-04 11:14:04       3892 00173-220-e4a3f1a4-2631-436d-a37e-f12329c8e521-00001.parquet\n",
      "2022-08-04 11:14:33       4471 00173-417-e7c168b5-3e89-4c92-8bc6-d1ccfd876321-00001.parquet\n",
      "2022-08-04 11:15:03       4480 00173-622-a98fd6f5-4bb8-4428-bc1e-b3b7a833b3f5-00001.parquet\n",
      "2022-08-04 11:15:33       4474 00173-826-8fc633ce-8645-44fc-a9a3-f12dfd576981-00001.parquet\n",
      "2022-08-04 11:14:04       4098 00176-206-9dca053c-672e-40ce-b4bb-7d39e93a960e-00001.parquet\n",
      "2022-08-04 11:14:33       5283 00176-413-b8ebdfc6-bfaf-436c-ab16-e8e82399e3b1-00001.parquet\n",
      "2022-08-04 11:15:03       5551 00176-613-6a259d8e-9a0a-458c-80db-cb03b63cd6e1-00001.parquet\n",
      "2022-08-04 11:15:33       5735 00176-808-a2ce1615-4862-4fe3-b904-74c0a58c4257-00001.parquet\n",
      "2022-08-04 11:14:04       3854 00177-217-9ebd0fe3-1eb9-419c-93b1-1e35af3e9b8a-00001.parquet\n",
      "2022-08-04 11:14:33       4432 00177-424-ed0f3edd-fa63-429f-ba8c-6df65d3c3596-00001.parquet\n",
      "2022-08-04 11:15:03       4438 00177-624-7dc559b2-c88c-4810-933b-7352085fb745-00001.parquet\n",
      "2022-08-04 11:15:33       4438 00177-819-7c708507-205f-48f6-bd82-5db4ceb132ae-00001.parquet\n",
      "2022-08-04 11:14:04       3940 00180-248-28347ca1-88f0-4968-a9e1-e5618e678c8d-00001.parquet\n",
      "2022-08-04 11:14:33       4744 00180-454-a810a852-5ffe-42ba-b9da-d6d149928c11-00001.parquet\n",
      "2022-08-04 11:15:03       5552 00180-654-1bfa822a-7030-4cbd-8fb3-fb92faeb4524-00001.parquet\n",
      "2022-08-04 11:15:33       5370 00180-852-00d5ccfc-afa0-4fbd-bd73-1d482dc19858-00001.parquet\n",
      "2022-08-04 11:14:04       4114 00182-264-93eb1d62-e7f7-4029-972c-f9d569f2ab1b-00001.parquet\n",
      "2022-08-04 11:14:33       5099 00182-470-9ecd7737-4dd1-468b-a618-50e09bc5d7f2-00001.parquet\n",
      "2022-08-04 11:15:03       5621 00182-670-c02bf76d-215d-47a1-9ae6-5d39545e825a-00001.parquet\n",
      "2022-08-04 11:15:33       5512 00182-868-1b5a0473-da03-4ef2-9966-f55ce68397cf-00001.parquet\n",
      "2022-08-04 11:14:04       4497 00183-272-48ef614c-9460-4769-b2b8-db52048d78e7-00001.parquet\n",
      "2022-08-04 11:14:33       5633 00183-478-47d9353c-9132-4f1c-a9d5-9124e6c84dc5-00001.parquet\n",
      "2022-08-04 11:15:03       6359 00183-678-42a150be-03a0-49c3-933a-16f3bacdabe4-00001.parquet\n",
      "2022-08-04 11:15:33       6455 00183-876-4d831afc-a7d3-464a-a765-6eae92bca27d-00001.parquet\n",
      "2022-08-04 11:14:04       4390 00189-314-f8305157-d726-4696-9f1e-635cdda8b7ec-00001.parquet\n",
      "2022-08-04 11:14:33       5572 00189-518-3b49a316-1f53-4a61-adeb-4a47bcf5bba7-00001.parquet\n",
      "2022-08-04 11:15:03       6363 00189-719-e040d2e6-5e2a-41cb-b59e-8a10d3d3ec64-00001.parquet\n",
      "2022-08-04 11:15:33       6217 00189-918-0049b2ee-ea88-4358-b1f7-fad5ed24e43c-00001.parquet\n",
      "2022-08-04 11:14:04       3971 00190-320-8ed392a2-43ce-4806-8838-275e3a52fd5f-00001.parquet\n",
      "2022-08-04 11:14:33       4653 00190-524-8cc51056-2c76-46af-b60e-0d9a16e56251-00001.parquet\n",
      "2022-08-04 11:15:03       4659 00190-725-570108cf-aa0e-4d70-95f0-50bfae7643f5-00001.parquet\n",
      "2022-08-04 11:15:33       5045 00190-924-d6deb203-7107-4819-834a-77ce2848930c-00001.parquet\n",
      "2022-08-04 11:14:04       4111 00191-326-011e8ef8-95f8-4fe9-b13c-666b036585fc-00001.parquet\n",
      "2022-08-04 11:14:33       4781 00191-530-6aafc02a-c940-4278-96dd-4b40669273f2-00001.parquet\n",
      "2022-08-04 11:15:03       5396 00191-731-749899ae-feb7-4ee7-9f39-c19489b2f307-00001.parquet\n",
      "2022-08-04 11:15:33       5638 00191-930-278fa9bf-ee51-4e01-9fbd-879f830b582d-00001.parquet\n",
      "2022-08-04 11:14:04       3992 00192-331-0d270e45-d402-4645-8901-c81486519ba8-00001.parquet\n",
      "2022-08-04 11:14:33       4888 00192-535-25014775-c88d-4816-b5a3-b852e00dc830-00001.parquet\n",
      "2022-08-04 11:15:03       5823 00192-736-5ac46609-340c-4cf7-87c4-2d9e50f27a79-00001.parquet\n",
      "2022-08-04 11:15:33       5608 00192-936-e2819558-8ab0-476c-9462-3051b878336e-00001.parquet\n",
      "2022-08-04 11:14:04       3859 00194-341-1ffffa29-17c8-4f50-9ae6-f17db97530a8-00001.parquet\n",
      "2022-08-04 11:14:33       4602 00194-545-dab17bb8-c071-4a5a-b7ea-043795c16eb9-00001.parquet\n",
      "2022-08-04 11:15:03       4707 00194-746-56e18c05-a4bf-4f6c-993e-5bbe39e23275-00001.parquet\n",
      "2022-08-04 11:15:33       4701 00194-946-8f711b35-106b-492d-b14f-5dbbc7a85a32-00001.parquet\n",
      "2022-08-04 11:14:04       3732 00195-346-a8b867ba-8959-42a7-b6c2-23f3b88cfe66-00001.parquet\n",
      "2022-08-04 11:14:33       4371 00195-550-c358b68e-f0ee-4483-8e10-ccc6a1d081b1-00001.parquet\n",
      "2022-08-04 11:15:03       4466 00195-751-b021d615-deaf-4e2d-9f15-31a240660c02-00001.parquet\n",
      "2022-08-04 11:15:33       4433 00195-951-fd4994e8-7197-4ac0-a624-ba41279e3dc1-00001.parquet\n",
      "2022-08-04 11:14:04       3749 00196-351-e0543eb1-438d-4573-97df-da85dbedc140-00001.parquet\n",
      "2022-08-04 11:14:33       4403 00196-554-9d04023b-a133-4b75-af2e-f4d1b933ac22-00001.parquet\n",
      "2022-08-04 11:15:03       4584 00196-754-d7dd42e7-d268-4e06-a749-73f6675d5eba-00001.parquet\n",
      "2022-08-04 11:15:33       4544 00196-956-01da7e4f-b135-4854-9956-4ae7a6339198-00001.parquet\n",
      "2022-08-04 11:14:04       3872 00198-357-248639cd-5779-4767-a91e-c79bb7c21c43-00001.parquet\n",
      "2022-08-04 11:14:33       4613 00198-560-90b0adac-106d-4624-8a92-151ea94a05aa-00001.parquet\n",
      "2022-08-04 11:15:03       4718 00198-760-80f14eed-24f1-4c61-9d88-374dbfc98223-00001.parquet\n",
      "2022-08-04 11:15:33       4712 00198-962-167ba757-f9e5-4567-bb83-7300dd9e335a-00001.parquet\n"
     ]
    }
   ],
   "source": [
    "%%sh \n",
    "\n",
    "aws s3 ls s3://vasveena-dremio/iceberg/glue_catalog1/tables/streamdb.db/streaming_trips_table/data/"
   ]
  },
  {
   "cell_type": "code",
   "execution_count": 10,
   "id": "cdf7408d-b83b-40c4-b188-913ce57156da",
   "metadata": {
    "execution": {
     "iopub.execute_input": "2022-08-04T11:16:01.286887Z",
     "iopub.status.busy": "2022-08-04T11:16:01.286500Z",
     "iopub.status.idle": "2022-08-04T11:16:18.761727Z",
     "shell.execute_reply": "2022-08-04T11:16:18.761091Z",
     "shell.execute_reply.started": "2022-08-04T11:16:01.286849Z"
    },
    "tags": []
   },
   "outputs": [
    {
     "data": {
      "application/vnd.jupyter.widget-view+json": {
       "model_id": "",
       "version_major": 2,
       "version_minor": 0
      },
      "text/plain": [
       "FloatProgress(value=0.0, bar_style='info', description='Progress:', layout=Layout(height='25px', width='50%'),…"
      ]
     },
     "metadata": {},
     "output_type": "display_data"
    },
    {
     "data": {
      "application/vnd.jupyter.widget-view+json": {
       "model_id": "1704799369c14e90b3e5ba7e66c709bc",
       "version_major": 2,
       "version_minor": 0
      },
      "text/plain": [
       "VBox(children=(HBox(children=(HTML(value='Type:'), Button(description='Table', layout=Layout(width='70px'), st…"
      ]
     },
     "metadata": {},
     "output_type": "display_data"
    },
    {
     "data": {
      "application/vnd.jupyter.widget-view+json": {
       "model_id": "193875c8b2d24a83a0d22b67ce730adf",
       "version_major": 2,
       "version_minor": 0
      },
      "text/plain": [
       "Output()"
      ]
     },
     "metadata": {},
     "output_type": "display_data"
    }
   ],
   "source": [
    "%%sql\n",
    "\n",
    "select count(*) from glue_catalog1.streamdb.streaming_trips_table"
   ]
  }
 ],
 "metadata": {
  "kernelspec": {
   "display_name": "Spark",
   "language": "scala",
   "name": "sparkkernel"
  },
  "language_info": {
   "codemirror_mode": "text/x-scala",
   "file_extension": ".sc",
   "mimetype": "text/x-scala",
   "name": "scala",
   "pygments_lexer": "scala"
  }
 },
 "nbformat": 4,
 "nbformat_minor": 5
}
