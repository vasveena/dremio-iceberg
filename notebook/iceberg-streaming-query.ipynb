{
 "cells": [
  {
   "cell_type": "code",
   "execution_count": 1,
   "id": "10095cf8-349e-41c4-b3e3-bfe5bd333d61",
   "metadata": {
    "execution": {
     "iopub.execute_input": "2022-08-15T06:39:21.740639Z",
     "iopub.status.busy": "2022-08-15T06:39:21.740389Z",
     "iopub.status.idle": "2022-08-15T06:39:22.086653Z",
     "shell.execute_reply": "2022-08-15T06:39:22.086014Z",
     "shell.execute_reply.started": "2022-08-15T06:39:21.740612Z"
    },
    "tags": []
   },
   "outputs": [
    {
     "data": {
      "text/html": [
       "Current session configs: <tt>{'conf': {'spark.sql.catalog.glue_catalog1': 'org.apache.iceberg.spark.SparkCatalog', 'spark.sql.catalog.glue_catalog1.warehouse': 's3://jason-dremio-product-us-west-2/iceberg/glue_catalog1/tables/', 'spark.sql.catalog.glue_catalog1.catalog-impl': 'org.apache.iceberg.aws.glue.GlueCatalog', 'spark.sql.catalog.glue_catalog1.io-impl': 'org.apache.iceberg.aws.s3.S3FileIO', 'spark.sql.catalog.glue_catalog1.lock-impl': 'org.apache.iceberg.aws.glue.DynamoLockManager', 'spark.sql.catalog.glue_catalog1.lock.table': 'myGlueLockTable', 'spark.sql.extensions': 'org.apache.iceberg.spark.extensions.IcebergSparkSessionExtensions'}, 'proxyUser': 'user_veena_vasudevan', 'kind': 'spark'}</tt><br>"
      ],
      "text/plain": [
       "<IPython.core.display.HTML object>"
      ]
     },
     "metadata": {},
     "output_type": "display_data"
    },
    {
     "data": {
      "text/html": [
       "No active sessions."
      ],
      "text/plain": [
       "<IPython.core.display.HTML object>"
      ]
     },
     "metadata": {},
     "output_type": "display_data"
    }
   ],
   "source": [
    "%%configure -f\n",
    "{\n",
    "    \"conf\":  {       \n",
    "             \"spark.sql.catalog.glue_catalog1\":\"org.apache.iceberg.spark.SparkCatalog\",\n",
    "             \"spark.sql.catalog.glue_catalog1.warehouse\":\"s3://jason-dremio-product-us-west-2/iceberg/glue_catalog1/tables/\",\n",
    "             \"spark.sql.catalog.glue_catalog1.catalog-impl\":\"org.apache.iceberg.aws.glue.GlueCatalog\",\n",
    "             \"spark.sql.catalog.glue_catalog1.io-impl\":\"org.apache.iceberg.aws.s3.S3FileIO\",\n",
    "             \"spark.sql.catalog.glue_catalog1.lock-impl\":\"org.apache.iceberg.aws.glue.DynamoLockManager\",\n",
    "             \"spark.sql.catalog.glue_catalog1.lock.table\":\"myGlueLockTable\",\n",
    "             \"spark.sql.extensions\":\"org.apache.iceberg.spark.extensions.IcebergSparkSessionExtensions\"\n",
    "           } \n",
    "}"
   ]
  },
  {
   "cell_type": "code",
   "execution_count": 5,
   "id": "60561692-cced-40b2-af21-b33c39bfe470",
   "metadata": {
    "execution": {
     "iopub.execute_input": "2022-08-15T06:41:17.929274Z",
     "iopub.status.busy": "2022-08-15T06:41:17.928961Z",
     "iopub.status.idle": "2022-08-15T06:41:18.752649Z",
     "shell.execute_reply": "2022-08-15T06:41:18.752174Z",
     "shell.execute_reply.started": "2022-08-15T06:41:17.929242Z"
    },
    "tags": []
   },
   "outputs": [
    {
     "data": {
      "application/vnd.jupyter.widget-view+json": {
       "model_id": "",
       "version_major": 2,
       "version_minor": 0
      },
      "text/plain": [
       "FloatProgress(value=0.0, bar_style='info', description='Progress:', layout=Layout(height='25px', width='50%'),…"
      ]
     },
     "metadata": {},
     "output_type": "display_data"
    },
    {
     "data": {
      "application/vnd.jupyter.widget-view+json": {
       "model_id": "f7bbc52304d243bd90619b707a31afd0",
       "version_major": 2,
       "version_minor": 0
      },
      "text/plain": [
       "VBox(children=(HBox(), EncodingWidget(children=(VBox(children=(HTML(value='Encoding:'), Dropdown(description='…"
      ]
     },
     "metadata": {},
     "output_type": "display_data"
    },
    {
     "data": {
      "application/vnd.jupyter.widget-view+json": {
       "model_id": "4aefe702adca467186d87cb0e0ab85b2",
       "version_major": 2,
       "version_minor": 0
      },
      "text/plain": [
       "Output()"
      ]
     },
     "metadata": {},
     "output_type": "display_data"
    }
   ],
   "source": [
    "%%sql \n",
    "\n",
    "use glue_catalog1"
   ]
  },
  {
   "cell_type": "code",
   "execution_count": 6,
   "id": "81bfde0e-0f05-49a1-a0de-73336af8f4cc",
   "metadata": {
    "execution": {
     "iopub.execute_input": "2022-08-15T06:41:18.753651Z",
     "iopub.status.busy": "2022-08-15T06:41:18.753489Z",
     "iopub.status.idle": "2022-08-15T06:41:19.575861Z",
     "shell.execute_reply": "2022-08-15T06:41:19.575386Z",
     "shell.execute_reply.started": "2022-08-15T06:41:18.753630Z"
    },
    "tags": []
   },
   "outputs": [
    {
     "data": {
      "application/vnd.jupyter.widget-view+json": {
       "model_id": "",
       "version_major": 2,
       "version_minor": 0
      },
      "text/plain": [
       "FloatProgress(value=0.0, bar_style='info', description='Progress:', layout=Layout(height='25px', width='50%'),…"
      ]
     },
     "metadata": {},
     "output_type": "display_data"
    },
    {
     "data": {
      "application/vnd.jupyter.widget-view+json": {
       "model_id": "41e89a4933684e63a8a02a42bcde8056",
       "version_major": 2,
       "version_minor": 0
      },
      "text/plain": [
       "VBox(children=(HBox(), EncodingWidget(children=(VBox(children=(HTML(value='Encoding:'), Dropdown(description='…"
      ]
     },
     "metadata": {},
     "output_type": "display_data"
    },
    {
     "data": {
      "application/vnd.jupyter.widget-view+json": {
       "model_id": "220bece7198646da92b236a91299d442",
       "version_major": 2,
       "version_minor": 0
      },
      "text/plain": [
       "Output()"
      ]
     },
     "metadata": {},
     "output_type": "display_data"
    }
   ],
   "source": [
    "%%sql\n",
    "use streamdb"
   ]
  },
  {
   "cell_type": "code",
   "execution_count": 7,
   "id": "70ee7ec9-2f35-4a43-9f47-529bb4a45592",
   "metadata": {
    "execution": {
     "iopub.execute_input": "2022-08-15T06:41:19.578209Z",
     "iopub.status.busy": "2022-08-15T06:41:19.578063Z",
     "iopub.status.idle": "2022-08-15T06:41:20.115972Z",
     "shell.execute_reply": "2022-08-15T06:41:20.115389Z",
     "shell.execute_reply.started": "2022-08-15T06:41:19.578189Z"
    },
    "tags": []
   },
   "outputs": [
    {
     "name": "stdout",
     "output_type": "stream",
     "text": [
      "2022-08-15 06:41:03      11487 00003-202-8e867582-fa7e-4867-9385-b0bb53998564-00001.parquet\n",
      "2022-08-15 06:41:16       8093 00003-627-058b2988-5205-4472-a382-0ea2268ba1ce-00001.parquet\n",
      "2022-08-15 06:41:03       7176 00014-203-c548021f-e2ec-421e-8ac7-ef19d2977ab8-00001.parquet\n",
      "2022-08-15 06:41:15       5170 00014-612-74e05696-c9b0-4859-8545-bcfacd697cf1-00001.parquet\n",
      "2022-08-15 06:41:03       6361 00018-204-bd0f71ea-0e02-4269-bbab-80f95a71c2aa-00001.parquet\n",
      "2022-08-15 06:41:16       4905 00018-623-89a4e9c8-099c-4515-9138-ff1a985b486d-00001.parquet\n",
      "2022-08-15 06:41:03       5724 00021-205-071bdc71-6e68-4499-88ba-146d616760a7-00001.parquet\n",
      "2022-08-15 06:41:16       4888 00021-636-de4dbeb8-73fc-4172-8c15-d1e5daed7e79-00001.parquet\n",
      "2022-08-15 06:41:03      14020 00026-206-6749c895-9fa6-4c14-8756-f229d0a9c6cb-00001.parquet\n",
      "2022-08-15 06:41:16      10175 00026-628-83a1cbbb-3dd3-4c95-8057-8773991b7b1e-00001.parquet\n",
      "2022-08-15 06:41:03       4386 00027-207-036f5976-369a-440f-ba1d-48aae520960b-00001.parquet\n",
      "2022-08-15 06:41:16       4207 00027-631-9f426da2-6f09-4041-9166-c2c5dd72ae73-00001.parquet\n",
      "2022-08-15 06:41:03       7273 00033-208-1684b2e3-865c-4ec9-a4be-f5cb5251ef4b-00001.parquet\n",
      "2022-08-15 06:41:16       5015 00033-644-b2b614fb-315f-4bec-b76a-71dd4cf0963d-00001.parquet\n",
      "2022-08-15 06:41:03       4387 00042-209-090f15f8-236f-433d-9371-de86ce77df3c-00001.parquet\n",
      "2022-08-15 06:41:16       4208 00042-640-d1dab7b9-8d30-4e32-98bf-dc6d11aa8d98-00001.parquet\n",
      "2022-08-15 06:41:03       4370 00049-210-4bd57c7c-ad58-4ca3-82f9-fbef0c39b399-00001.parquet\n",
      "2022-08-15 06:41:16       4198 00049-659-c241aede-7a7d-44e8-bcb8-2e7094ff9711-00001.parquet\n",
      "2022-08-15 06:41:03      15179 00053-211-e7c7fd51-14e8-4c97-8fb7-d2f9d0a684fe-00001.parquet\n",
      "2022-08-15 06:41:16      11572 00053-655-c32e126f-da6d-49c9-b6e2-aadf6f5c91a8-00001.parquet\n",
      "2022-08-15 06:41:03       8232 00057-212-01c8efda-5121-4b0b-9495-402af7a46732-00001.parquet\n",
      "2022-08-15 06:41:17       5828 00057-670-287854cf-f5d3-44c0-8be3-937af1de613e-00001.parquet\n",
      "2022-08-15 06:41:03       8622 00064-213-13408ac5-cc17-452e-ab55-25d1cb927497-00001.parquet\n",
      "2022-08-15 06:41:17       6583 00064-666-a2574674-e916-4116-b268-e47b80211edb-00001.parquet\n",
      "2022-08-15 06:41:03       7612 00067-214-5da84e73-bf4b-4b28-95ab-97959aae4477-00001.parquet\n",
      "2022-08-15 06:41:03       5290 00068-215-3278e656-7c98-4d84-8f12-73da8e56603a-00001.parquet\n",
      "2022-08-15 06:41:17       4530 00068-696-3f045ce3-bb39-4fb1-bcb3-688e72e41a88-00001.parquet\n",
      "2022-08-15 06:41:05       7150 00071-216-d2f8bd76-49c9-445d-aac1-54f544852502-00001.parquet\n",
      "2022-08-15 06:41:17       5117 00071-680-2ddbee24-6677-492f-ad53-18dcb3815327-00001.parquet\n",
      "2022-08-15 06:41:05       7010 00088-217-726aa6cd-b5f3-46c3-8a0e-e90d20fd6e0b-00001.parquet\n",
      "2022-08-15 06:41:18       5048 00088-714-46339e9d-ddd2-4ec9-b746-aede054bcd29-00001.parquet\n",
      "2022-08-15 06:41:04      14181 00092-218-1490a845-3f69-4dc6-bf7e-44f01bf51e34-00001.parquet\n",
      "2022-08-15 06:41:18      10133 00092-717-3f1c62cb-20bd-44b1-8e92-ae1b21ab84fc-00001.parquet\n",
      "2022-08-15 06:41:04      18038 00093-219-44a9cb6c-1525-4680-8d43-b1b34131a995-00001.parquet\n",
      "2022-08-15 06:41:18      11235 00093-718-7b06571a-b76e-45be-b599-951ca1955a5e-00001.parquet\n",
      "2022-08-15 06:41:04      25947 00100-220-8ad2bc5f-b58d-480a-9cce-fcdbff97483d-00001.parquet\n",
      "2022-08-15 06:41:18      16081 00100-729-4bef23e6-ba33-49c0-a6c0-fbf30ff8c4b7-00001.parquet\n",
      "2022-08-15 06:41:04      13680 00112-221-40533f18-9ee0-4053-8465-6eb74c5c041e-00001.parquet\n",
      "2022-08-15 06:41:18       8150 00112-739-7fd3c2d9-92c4-4a5e-a78d-bcb0421b3989-00001.parquet\n",
      "2022-08-15 06:41:05       6796 00117-222-cab19ac0-1e34-4bd0-bcb7-e2ec9592f6a5-00001.parquet\n",
      "2022-08-15 06:41:18       5013 00117-742-ffe641f4-2039-421f-b59b-16b5e8ef7984-00001.parquet\n",
      "2022-08-15 06:41:04       4918 00130-223-68a30efc-b15b-49d0-b328-d2339e1a6c6a-00001.parquet\n",
      "2022-08-15 06:41:18       4779 00130-724-596e7603-b1e7-4313-85c5-f80f12ac8960-00001.parquet\n",
      "2022-08-15 06:41:04      22666 00139-224-f6ea3c0a-9f62-46ff-8fbb-31be8f8a12e5-00001.parquet\n",
      "2022-08-15 06:41:18       9983 00139-736-956d7c6a-182c-4470-922f-c41fe3b39197-00001.parquet\n",
      "2022-08-15 06:41:05       7649 00149-225-5967311c-877e-4225-845e-204a15aee9f3-00001.parquet\n",
      "2022-08-15 06:41:18       6602 00149-755-00844042-1560-41bc-88fa-26cf8978a896-00001.parquet\n",
      "2022-08-15 06:41:05      18878 00154-226-14d66943-eaa8-49e4-a064-914c8ba5722d-00001.parquet\n",
      "2022-08-15 06:41:19      13950 00154-761-65e34bcb-b05c-460b-ac48-2079e5e0ed3a-00001.parquet\n",
      "2022-08-15 06:41:04      20480 00158-227-52cf2c88-77ef-48a6-8701-a14bd98a1beb-00001.parquet\n",
      "2022-08-15 06:41:19      13575 00158-770-9b8c0777-dec0-4f01-b31b-69ec990aeb55-00001.parquet\n",
      "2022-08-15 06:41:04      17845 00165-228-f0f7c349-cb05-4de7-805c-d2a3176b8b64-00001.parquet\n",
      "2022-08-15 06:41:18      10822 00165-740-52b738b0-dd4b-4d76-b5df-1af356853631-00001.parquet\n",
      "2022-08-15 06:41:04       5078 00170-229-03517706-50b8-4454-b91b-fdcf076c07a9-00001.parquet\n",
      "2022-08-15 06:41:04       4381 00171-230-f164dc75-2e92-4979-999c-c94a27d74b74-00001.parquet\n",
      "2022-08-15 06:41:19       4202 00171-785-6c54612b-3ec0-468e-9473-191a36f549bf-00001.parquet\n",
      "2022-08-15 06:41:05       4350 00173-231-93f81798-26cc-4849-968d-f527b20390d3-00001.parquet\n",
      "2022-08-15 06:41:19       4198 00173-786-aa40532a-9a54-4bcd-8efb-89f3fc567453-00001.parquet\n",
      "2022-08-15 06:41:05      19616 00177-232-0eb14de4-4319-44ff-8fae-646d7c3be108-00001.parquet\n",
      "2022-08-15 06:41:19      11133 00177-765-2f8b86bc-093f-4ab5-9dc5-d7db04360cd7-00001.parquet\n",
      "2022-08-15 06:41:06      15745 00180-233-2ab16a8f-9d38-42e8-90d8-f62e2cd325a5-00001.parquet\n",
      "2022-08-15 06:41:19       7813 00180-787-055df022-2472-4cf6-a2a4-7a1ef6566666-00001.parquet\n",
      "2022-08-15 06:41:04       6373 00184-234-dad1275e-5623-4a12-a955-6fbb285407f1-00001.parquet\n",
      "2022-08-15 06:41:19       4971 00184-780-84431ea4-4d18-4666-908e-fbdb23bb1dec-00001.parquet\n",
      "2022-08-15 06:41:05       7279 00186-235-70364374-ad17-47db-8bc2-fd1cc522d71d-00001.parquet\n",
      "2022-08-15 06:41:19       5021 00186-796-a5eb9f4b-8f30-4824-90f2-6540840907c9-00001.parquet\n",
      "2022-08-15 06:41:05       7021 00190-236-648a6491-60be-4d48-9343-6f77fca10c34-00001.parquet\n",
      "2022-08-15 06:41:19       6456 00190-799-49b79f58-0732-49f0-85a7-534ed92c2ddd-00001.parquet\n"
     ]
    }
   ],
   "source": [
    "%%sh \n",
    "\n",
    "aws s3 ls s3://jason-dremio-product-us-west-2/iceberg-webinar/glue_catalog1/tables/streamdb.db/streaming_trips_table/data/"
   ]
  },
  {
   "cell_type": "markdown",
   "id": "09833fbc-bcab-48aa-aaea-3ce9a5c13072",
   "metadata": {},
   "source": [
    "**Total number of entries**"
   ]
  },
  {
   "cell_type": "code",
   "execution_count": 8,
   "id": "cdf7408d-b83b-40c4-b188-913ce57156da",
   "metadata": {
    "execution": {
     "iopub.execute_input": "2022-08-15T06:41:27.100727Z",
     "iopub.status.busy": "2022-08-15T06:41:27.100471Z",
     "iopub.status.idle": "2022-08-15T06:41:42.608354Z",
     "shell.execute_reply": "2022-08-15T06:41:42.607879Z",
     "shell.execute_reply.started": "2022-08-15T06:41:27.100697Z"
    },
    "tags": []
   },
   "outputs": [
    {
     "data": {
      "application/vnd.jupyter.widget-view+json": {
       "model_id": "",
       "version_major": 2,
       "version_minor": 0
      },
      "text/plain": [
       "FloatProgress(value=0.0, bar_style='info', description='Progress:', layout=Layout(height='25px', width='50%'),…"
      ]
     },
     "metadata": {},
     "output_type": "display_data"
    },
    {
     "data": {
      "application/vnd.jupyter.widget-view+json": {
       "model_id": "0362daa78c454e42b49a9cd14208af64",
       "version_major": 2,
       "version_minor": 0
      },
      "text/plain": [
       "VBox(children=(HBox(children=(HTML(value='Type:'), Button(description='Table', layout=Layout(width='70px'), st…"
      ]
     },
     "metadata": {},
     "output_type": "display_data"
    },
    {
     "data": {
      "application/vnd.jupyter.widget-view+json": {
       "model_id": "820540e9552640c59b7f818f7ea37bb6",
       "version_major": 2,
       "version_minor": 0
      },
      "text/plain": [
       "Output()"
      ]
     },
     "metadata": {},
     "output_type": "display_data"
    }
   ],
   "source": [
    "%%sql\n",
    "\n",
    "select count(*) from glue_catalog1.streamdb.streaming_trips_table"
   ]
  },
  {
   "cell_type": "code",
   "execution_count": 19,
   "id": "7845e245-93bf-494f-997f-076ea2a61537",
   "metadata": {
    "execution": {
     "iopub.execute_input": "2022-08-15T06:53:09.897571Z",
     "iopub.status.busy": "2022-08-15T06:53:09.897351Z",
     "iopub.status.idle": "2022-08-15T06:53:23.319031Z",
     "shell.execute_reply": "2022-08-15T06:53:23.318573Z",
     "shell.execute_reply.started": "2022-08-15T06:53:09.897548Z"
    },
    "tags": []
   },
   "outputs": [
    {
     "data": {
      "application/vnd.jupyter.widget-view+json": {
       "model_id": "",
       "version_major": 2,
       "version_minor": 0
      },
      "text/plain": [
       "FloatProgress(value=0.0, bar_style='info', description='Progress:', layout=Layout(height='25px', width='50%'),…"
      ]
     },
     "metadata": {},
     "output_type": "display_data"
    },
    {
     "data": {
      "application/vnd.jupyter.widget-view+json": {
       "model_id": "c4e9ae5f56bd427082ef666fb091ea4e",
       "version_major": 2,
       "version_minor": 0
      },
      "text/plain": [
       "VBox(children=(HBox(children=(HTML(value='Type:'), Button(description='Table', layout=Layout(width='70px'), st…"
      ]
     },
     "metadata": {},
     "output_type": "display_data"
    },
    {
     "data": {
      "application/vnd.jupyter.widget-view+json": {
       "model_id": "8277bcc557fd4821b8fc0b4ddb4ec0ec",
       "version_major": 2,
       "version_minor": 0
      },
      "text/plain": [
       "Output()"
      ]
     },
     "metadata": {},
     "output_type": "display_data"
    }
   ],
   "source": [
    "%%sql\n",
    "\n",
    "select count(*) from glue_catalog1.streamdb.streaming_trips_table"
   ]
  },
  {
   "cell_type": "markdown",
   "id": "b3fbe10b-46f0-4678-9cdd-f90329989125",
   "metadata": {},
   "source": [
    "**Select future stop IDs for a trip**"
   ]
  },
  {
   "cell_type": "code",
   "execution_count": 20,
   "id": "6953a384-2c51-4dcc-bb76-9d371e9bd8c3",
   "metadata": {
    "execution": {
     "iopub.execute_input": "2022-08-15T06:54:08.913536Z",
     "iopub.status.busy": "2022-08-15T06:54:08.913304Z",
     "iopub.status.idle": "2022-08-15T06:54:14.358932Z",
     "shell.execute_reply": "2022-08-15T06:54:14.358458Z",
     "shell.execute_reply.started": "2022-08-15T06:54:08.913502Z"
    },
    "tags": []
   },
   "outputs": [
    {
     "data": {
      "application/vnd.jupyter.widget-view+json": {
       "model_id": "",
       "version_major": 2,
       "version_minor": 0
      },
      "text/plain": [
       "FloatProgress(value=0.0, bar_style='info', description='Progress:', layout=Layout(height='25px', width='50%'),…"
      ]
     },
     "metadata": {},
     "output_type": "display_data"
    },
    {
     "data": {
      "application/vnd.jupyter.widget-view+json": {
       "model_id": "0b14c9a70b394c0e8cc8090e625f927e",
       "version_major": 2,
       "version_minor": 0
      },
      "text/plain": [
       "VBox(children=(HBox(children=(HTML(value='Type:'), Button(description='Table', layout=Layout(width='70px'), st…"
      ]
     },
     "metadata": {},
     "output_type": "display_data"
    },
    {
     "data": {
      "application/vnd.jupyter.widget-view+json": {
       "model_id": "285a37ef50b54c75a75324bda52b5148",
       "version_major": 2,
       "version_minor": 0
      },
      "text/plain": [
       "Output()"
      ]
     },
     "metadata": {},
     "output_type": "display_data"
    }
   ],
   "source": [
    "%%sql\n",
    "\n",
    "select explode(futureStopIds), startTime from glue_catalog1.streamdb.streaming_trips_table\n",
    "where tripId = '016050_F..N'\n",
    "order by startTime;"
   ]
  },
  {
   "cell_type": "markdown",
   "id": "aeee486d-9fab-49f2-8257-9cef8c38ef2a",
   "metadata": {},
   "source": [
    "**Number of trips started between two intervals**"
   ]
  },
  {
   "cell_type": "code",
   "execution_count": 18,
   "id": "046479ef-6c43-4f42-87ad-d5e1ec357616",
   "metadata": {
    "execution": {
     "iopub.execute_input": "2022-08-15T06:51:52.336748Z",
     "iopub.status.busy": "2022-08-15T06:51:52.336492Z",
     "iopub.status.idle": "2022-08-15T06:52:05.802980Z",
     "shell.execute_reply": "2022-08-15T06:52:05.802489Z",
     "shell.execute_reply.started": "2022-08-15T06:51:52.336723Z"
    }
   },
   "outputs": [
    {
     "data": {
      "application/vnd.jupyter.widget-view+json": {
       "model_id": "",
       "version_major": 2,
       "version_minor": 0
      },
      "text/plain": [
       "FloatProgress(value=0.0, bar_style='info', description='Progress:', layout=Layout(height='25px', width='50%'),…"
      ]
     },
     "metadata": {},
     "output_type": "display_data"
    },
    {
     "data": {
      "application/vnd.jupyter.widget-view+json": {
       "model_id": "a02f06689f9443bbb5441665a1afaf4c",
       "version_major": 2,
       "version_minor": 0
      },
      "text/plain": [
       "VBox(children=(HBox(children=(HTML(value='Type:'), Button(description='Table', layout=Layout(width='70px'), st…"
      ]
     },
     "metadata": {},
     "output_type": "display_data"
    },
    {
     "data": {
      "application/vnd.jupyter.widget-view+json": {
       "model_id": "8b459dd1339740fd85c13ab5fa0edda9",
       "version_major": 2,
       "version_minor": 0
      },
      "text/plain": [
       "Output()"
      ]
     },
     "metadata": {},
     "output_type": "display_data"
    }
   ],
   "source": [
    "%%sql \n",
    "\n",
    "select count(*) as numOfTrips, tripId, routeId, startTime from glue_catalog1.streamdb.streaming_trips_table \n",
    "where startTime BETWEEN '2022-08-15 00:00:00' AND '2022-08-16 00:00:00'\n",
    "group by tripId, routeId, startTime order by 4 desc;"
   ]
  },
  {
   "cell_type": "markdown",
   "id": "afcd5cbc-20fa-4ff7-96f5-5e4399875859",
   "metadata": {},
   "source": [
    "**Get future number of stops per trip and route at the moment**"
   ]
  },
  {
   "cell_type": "code",
   "execution_count": 22,
   "id": "209c2b0b-90b2-4d15-8966-0f7e1f685267",
   "metadata": {
    "execution": {
     "iopub.execute_input": "2022-08-15T06:54:55.952632Z",
     "iopub.status.busy": "2022-08-15T06:54:55.952382Z",
     "iopub.status.idle": "2022-08-15T06:55:11.401297Z",
     "shell.execute_reply": "2022-08-15T06:55:11.400816Z",
     "shell.execute_reply.started": "2022-08-15T06:54:55.952606Z"
    },
    "tags": []
   },
   "outputs": [
    {
     "data": {
      "application/vnd.jupyter.widget-view+json": {
       "model_id": "",
       "version_major": 2,
       "version_minor": 0
      },
      "text/plain": [
       "FloatProgress(value=0.0, bar_style='info', description='Progress:', layout=Layout(height='25px', width='50%'),…"
      ]
     },
     "metadata": {},
     "output_type": "display_data"
    },
    {
     "data": {
      "application/vnd.jupyter.widget-view+json": {
       "model_id": "abe7169e158c4ac4a5d506a49bc523a2",
       "version_major": 2,
       "version_minor": 0
      },
      "text/plain": [
       "VBox(children=(HBox(children=(HTML(value='Type:'), Button(description='Table', layout=Layout(width='70px'), st…"
      ]
     },
     "metadata": {},
     "output_type": "display_data"
    },
    {
     "data": {
      "application/vnd.jupyter.widget-view+json": {
       "model_id": "c19b671c206349f48ae71a4d9f75afd3",
       "version_major": 2,
       "version_minor": 0
      },
      "text/plain": [
       "Output()"
      ]
     },
     "metadata": {},
     "output_type": "display_data"
    }
   ],
   "source": [
    "%%sql \n",
    "\n",
    "select tripId, routeId, currentTs, sum(numOfFutureStops) from\n",
    "(select tripId , routeId, currentTs, numOfFutureStops,\n",
    "rank() over (order by currentTs) as rnk\n",
    "from glue_catalog1.streamdb.streaming_trips_table) temp\n",
    "where rnk = 1\n",
    "group by 1,2,3\n",
    "order by 4 desc;"
   ]
  },
  {
   "cell_type": "code",
   "execution_count": null,
   "id": "ad3dcede-a4ec-4e91-9b2a-df222b217df0",
   "metadata": {},
   "outputs": [],
   "source": []
  }
 ],
 "metadata": {
  "kernelspec": {
   "display_name": "Spark",
   "language": "",
   "name": "sparkkernel"
  },
  "language_info": {
   "codemirror_mode": "text/x-scala",
   "mimetype": "text/x-scala",
   "name": "scala",
   "pygments_lexer": "scala"
  }
 },
 "nbformat": 4,
 "nbformat_minor": 5
}
