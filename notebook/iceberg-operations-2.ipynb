{
 "cells": [
  {
   "cell_type": "markdown",
   "metadata": {},
   "source": [
    "# Iceberg Example Notebook\n",
    "\n"
   ]
  },
  {
   "cell_type": "markdown",
   "metadata": {},
   "source": [
    "## Topics covered in this example\n",
    "\n",
    "1) [Configuring Iceberg](#configure_iceberg) <br>\n",
    "2) [Iceberg Catalogs and Namespaces](#catalogs) <br>\n",
    "3) [Creating an Iceberg Table](#create_table) <br>\n",
    "4) [DML Statements](#dml) <br>\n",
    "&emsp;&emsp;&emsp;&emsp;a) [Inserts](#inserts) <br>\n",
    "&emsp;&emsp;&emsp;&emsp;b) [Deletes](#deletes) <br>\n",
    "&emsp;&emsp;&emsp;&emsp;c) [Upserts](#upserts) <br>\n",
    "&emsp;&emsp;&emsp;&emsp;d) [Updates](#updates) <br>\n",
    "5) [Schema Evolution](#schema_evolution) <br>\n",
    "&emsp;&emsp;&emsp;&emsp;a)  [Renaming Columns](#renaming_columns) <br>\n",
    "&emsp;&emsp;&emsp;&emsp;b) [Adding Columns](#adding_columns) <br>\n",
    "&emsp;&emsp;&emsp;&emsp;c) [Dropping Columns](#dropping_columns) <br>\n",
    "6) [Time Travel](#time_travel) <br>\n",
    "7) [Partition Evolution](#partition_evolution) <br>\n",
    "8) [Querying System Tables](#system_tables) <br>\n",
    "9) [S3 Traffic Shaping with Object Storage Location Provider](#object_storage) <br>\n",
    "\n",
    "\n"
   ]
  },
  {
   "cell_type": "markdown",
   "metadata": {},
   "source": [
    "***\n",
    "\n",
    "## Prerequisites\n",
    "<div class=\"alert alert-block alert-info\">\n",
    "<b>NOTE :</b> In order to execute this notebook successfully as is, please ensure the following prerequisites are completed.</div>\n",
    "\n",
    "* This notebook was tested using a single node r5.4xlarge EMR 6.5 cluster. Iceberg 0.12.0, Spark 3.1.2\n",
    "* To run this notebook\n",
    "    - Launch an EMR 6.5+ cluster in one of the subnets on which this EMR Studio is running.\n",
    "    - Launch the cluster with the following configuration classifications:\n",
    "\n",
    "        \n",
    "            [\n",
    "              {\n",
    "                \"Classification\": \"iceberg-defaults \",\n",
    "                \"Properties\": {\n",
    "                  \"iceberg.enabled\":\"true\"\n",
    "                }\n",
    "              },\n",
    "              {\n",
    "                \"Classification\": \"spark-hive-site \",\n",
    "                \"Properties\": {\n",
    "                  \"hive.metastore.client.factory.class\":        \n",
    "                     \"com.amazonaws.glue.catalog.metastore.AWSGlueDataCatalogHiveClientFactory\"\n",
    "                }\n",
    "              }\n",
    "            ]\n",
    "\n",
    "The first classification enables Iceberg. The second one configures Glue Catalog as the Metastore for Spark applications in this cluster.\n",
    "\n",
    "* Here is a sample CLI command to create an EMR cluster. Do remember to replace <span style=\"color:red\">EMR-STUDIO-SUBNET</span> with one of the subnets in which your EMR Studio is running:\n",
    "\n",
    "            aws emr create-cluster \\\n",
    "                --name iceberg-emr-cluster\\\n",
    "                --use-default-roles \\\n",
    "                --release-label emr-6.5.0 \\\n",
    "                --instance-count 1 \\\n",
    "                --instance-type r5.4xlarge \\\n",
    "                --applications Name=Hadoop Name=Livy Name=Spark Name=JupyterEnterpriseGateway \\\n",
    "                --ec2-attributes SubnetId=<EMR-STUDIO-SUBNET>\\\n",
    "                --configurations '[{\"Classification\":\"iceberg-defaults\",\"Properties\":{\"iceberg.enabled\":\"true\"}},{\"Classification\":\"spark-hive-site\",\"Properties\":{\"hive.metastore.client.factory.class\":\"com.amazonaws.glue.catalog.metastore.AWSGlueDataCatalogHiveClientFactory\"}}]'\n",
    "                \n",
    "\n",
    "* This notebook uses the `PySpark` kernel. However, most of the commands are Spark SQL commands. So we use the magic command %%sql in the beginning of those cells.\n",
    "***"
   ]
  },
  {
   "cell_type": "markdown",
   "metadata": {},
   "source": [
    "## Introduction\n",
    "Apache Iceberg (https://iceberg.apache.org/) is an open table format for huge analytic datasets. Iceberg adds tables to compute engines including Spark, Trino, PrestoDB, Flink and Hive using a high-performance table format that works just like a SQL table. Iceberg tracks individual data files in a table instead of directories. This allows writers to create data files in-place and only adds files to the table in an explicit commit. Every time a new file is inserted to any partition in this table, a new point-in-time snapshot of all the files get created. At the query time, there is no need to list a directory to find the files we need to work with, as the snapshot already has that information pre-populated during the write time (commonly known as snapshot isolation (https://en.wikipedia.org/wiki/Snapshot_isolation) in databases).\n",
    "\n",
    "Iceberg supports write, delete, update, and time travel operations with complete support for ACID transactions (https://en.wikipedia.org/wiki/ACID). Table changes are atomic and readers never see partial or uncommitted changes (serializable isolation (https://en.wikipedia.org/wiki/Isolation_(database_systems)#Serializable))\n",
    "\n",
    "Iceberg table format is an open specification at multiple levels. At the catalog level, you can plugin multiple types of catalogs such as hive, hadoop, AWS Glue Data Catalog etc. All these can co-exist. You can join tables across different types of catalogs. In this example, we are going to work with Glue Data Catalog.\n",
    "\n",
    "The post: <a href=\"https://quip-amazon.com/xVv5A0WWPaxq/Iceberg-on-EMR-Blog-Post-v2\" target=\"_blank\">Build fast, ACID compliant, evolving big data processing using Apache Iceberg on Amazon EMR</a> provides detailed information.\n",
    "\n",
    "***"
   ]
  },
  {
   "cell_type": "markdown",
   "metadata": {},
   "source": [
    "## Setup\n",
    "Create an S3 bucket location to save sample dataset. In this example we use the path format: s3://<span style=\"color:red\">YOUR-BUCKET-NAME</span>/iceberg/<span style=\"color:red\">YOUR-CATALOG-NAME</span>/tables/ \n",
    "    \n",
    "    For example: s3://EXAMPLE-BUCKET/iceberg/glue_catalog1/tables/\n",
    "\n",
    "***"
   ]
  },
  {
   "cell_type": "markdown",
   "metadata": {},
   "source": [
    "\n",
    "<a id=\"configure_iceberg\"></a>\n",
    "## Configuring Iceberg on Spark session\n",
    "\n",
    "Let us create a Glue catalog. In this example notebook, we use the Glue catalog name: <span style=\"color:red\">glue_catalog1</span>. Let us assume that the name of your catalog is <span style=\"color:red\">YOUR-CATALOG-NAME</span>. \n",
    "\n",
    "* Set <span style=\"color:red\">YOUR-CATALOG-NAME</span>.warehouse to the s3 path where you want to store your data and metadata.\n",
    "* To make the catalog a Glue catalog, set <span style=\"color:red\">YOUR-CATALOG-NAME</span>.catalog-impl to `org.apache.iceberg.aws.glue.GlueCatalog`. This key is required to point to an implementation class for any custom catalog implementation. \n",
    "* Use `org.apache.iceberg.aws.s3.S3FileIO` as the <span style=\"color:red\">YOUR-CATALOG-NAME</span>.io-impl in order to take advantage of S3 multipart upload for high parallelism. \n",
    "* We use a DynamoDB table for lock implementation. This is optional, and is recommended for high concurrency workloads. To do that we set `lock-impl` for our glue catalog to `org.apache.iceberg.aws.glue.DynamoLockManager` and we set `lock.table` to `myGlueLockTable` as the table name so that for every commit, Glue Catalog first obtains a lock using this table and then tries to safely modify the Glue table. If you choose this option the table gets created in your own account. Note that you need to have the necessary access permissions to create and use a DynamoDB table. Further, additional DynamoDB charges apply."
   ]
  },
  {
   "cell_type": "code",
   "execution_count": 1,
   "metadata": {
    "execution": {
     "iopub.execute_input": "2023-02-20T19:25:52.148288Z",
     "iopub.status.busy": "2023-02-20T19:25:52.147912Z",
     "iopub.status.idle": "2023-02-20T19:25:52.814173Z",
     "shell.execute_reply": "2023-02-20T19:25:52.812990Z",
     "shell.execute_reply.started": "2023-02-20T19:25:52.148255Z"
    },
    "tags": []
   },
   "outputs": [
    {
     "data": {
      "text/html": [
       "Current session configs: <tt>{'conf': {'spark.sql.catalog.glue_catalog1': 'org.apache.iceberg.spark.SparkCatalog', 'spark.sql.catalog.glue_catalog1.warehouse': 's3://vasveena-dremio/iceberg/glue_catalog1/tables/', 'spark.sql.catalog.glue_catalog1.catalog-impl': 'org.apache.iceberg.aws.glue.GlueCatalog', 'spark.sql.catalog.glue_catalog1.io-impl': 'org.apache.iceberg.aws.s3.S3FileIO', 'spark.sql.catalog.glue_catalog1.lock-impl': 'org.apache.iceberg.aws.glue.DynamoLockManager', 'spark.sql.catalog.glue_catalog1.lock.table': 'myGlueLockTable', 'spark.sql.extensions': 'org.apache.iceberg.spark.extensions.IcebergSparkSessionExtensions'}, 'proxyUser': 'user_vasveena', 'kind': 'pyspark'}</tt><br>"
      ],
      "text/plain": [
       "<IPython.core.display.HTML object>"
      ]
     },
     "metadata": {},
     "output_type": "display_data"
    },
    {
     "data": {
      "text/html": [
       "No active sessions."
      ],
      "text/plain": [
       "<IPython.core.display.HTML object>"
      ]
     },
     "metadata": {},
     "output_type": "display_data"
    }
   ],
   "source": [
    "%%configure -f\n",
    "{\n",
    "    \"conf\":  {       \n",
    "             \"spark.sql.catalog.glue_catalog1\":\"org.apache.iceberg.spark.SparkCatalog\",\n",
    "             \"spark.sql.catalog.glue_catalog1.warehouse\":\"s3://vasveena-dremio/iceberg/glue_catalog1/tables/\",\n",
    "             \"spark.sql.catalog.glue_catalog1.catalog-impl\":\"org.apache.iceberg.aws.glue.GlueCatalog\",\n",
    "             \"spark.sql.catalog.glue_catalog1.io-impl\":\"org.apache.iceberg.aws.s3.S3FileIO\",\n",
    "             \"spark.sql.catalog.glue_catalog1.lock-impl\":\"org.apache.iceberg.aws.glue.DynamoLockManager\",\n",
    "             \"spark.sql.catalog.glue_catalog1.lock.table\":\"myGlueLockTable\",\n",
    "             \"spark.sql.extensions\":\"org.apache.iceberg.spark.extensions.IcebergSparkSessionExtensions\"\n",
    "           } \n",
    "}"
   ]
  },
  {
   "cell_type": "markdown",
   "metadata": {},
   "source": [
    "\n",
    "\n",
    "\n",
    "Checking the version of spark"
   ]
  },
  {
   "cell_type": "code",
   "execution_count": 2,
   "metadata": {
    "execution": {
     "iopub.execute_input": "2023-02-20T19:25:53.135556Z",
     "iopub.status.busy": "2023-02-20T19:25:53.135199Z",
     "iopub.status.idle": "2023-02-20T19:26:35.774585Z",
     "shell.execute_reply": "2023-02-20T19:26:35.773027Z",
     "shell.execute_reply.started": "2023-02-20T19:25:53.135515Z"
    },
    "tags": []
   },
   "outputs": [
    {
     "data": {
      "application/vnd.jupyter.widget-view+json": {
       "model_id": "2fa5ce72a2d141b1a4ce353654d7ca89",
       "version_major": 2,
       "version_minor": 0
      },
      "text/plain": [
       "VBox()"
      ]
     },
     "metadata": {},
     "output_type": "display_data"
    },
    {
     "name": "stdout",
     "output_type": "stream",
     "text": [
      "Starting Spark application\n"
     ]
    },
    {
     "data": {
      "text/html": [
       "<table>\n<tbody><tr><th>ID</th><th>YARN Application ID</th><th>Kind</th><th>State</th><th>Spark UI</th><th>Driver log</th><th>User</th><th>Current session?</th></tr><tr><td>0</td><td>application_1676505873392_0001</td><td>pyspark</td><td>idle</td><td><a target=\"_blank\" href=\"http://ip-172-31-72-10.ec2.internal:20888/proxy/application_1676505873392_0001/\" class=\"emr-proxy-link j-O3XCDB9T2ZE5 application_1676505873392_0001\" emr-resource=\"j-O3XCDB9T2ZE5\n\" application-id=\"application_1676505873392_0001\">Link</a></td><td><a target=\"_blank\" href=\"http://ip-172-31-70-239.ec2.internal:8042/node/containerlogs/container_1676505873392_0001_01_000001/livy\">Link</a></td><td>None</td><td>✔</td></tr></tbody></table>"
      ],
      "text/plain": [
       "<IPython.core.display.HTML object>"
      ]
     },
     "metadata": {},
     "output_type": "display_data"
    },
    {
     "data": {
      "application/vnd.jupyter.widget-view+json": {
       "model_id": "",
       "version_major": 2,
       "version_minor": 0
      },
      "text/plain": [
       "FloatProgress(value=0.0, bar_style='info', description='Progress:', layout=Layout(height='25px', width='50%'),…"
      ]
     },
     "metadata": {},
     "output_type": "display_data"
    },
    {
     "name": "stdout",
     "output_type": "stream",
     "text": [
      "SparkSession available as 'spark'.\n"
     ]
    },
    {
     "data": {
      "application/vnd.jupyter.widget-view+json": {
       "model_id": "",
       "version_major": 2,
       "version_minor": 0
      },
      "text/plain": [
       "FloatProgress(value=0.0, bar_style='info', description='Progress:', layout=Layout(height='25px', width='50%'),…"
      ]
     },
     "metadata": {},
     "output_type": "display_data"
    },
    {
     "name": "stdout",
     "output_type": "stream",
     "text": [
      "'3.3.0-amzn-1'"
     ]
    }
   ],
   "source": [
    "spark.version"
   ]
  },
  {
   "cell_type": "markdown",
   "metadata": {},
   "source": [
    "<a id=\"catalogs\"></a>\n",
    "## Iceberg Catalogs and Namespaces\n",
    "The default catalog is the `AwsDataCatalog`. Let us switch to our Glue catalog `glue_catalog1` that has support for Iceberg tables. Note that there are no namespaces. A namespace in iceberg is the same thing as a database in Glue."
   ]
  },
  {
   "cell_type": "code",
   "execution_count": 3,
   "metadata": {
    "execution": {
     "iopub.execute_input": "2023-02-20T19:26:35.777422Z",
     "iopub.status.busy": "2023-02-20T19:26:35.776914Z",
     "iopub.status.idle": "2023-02-20T19:26:41.238655Z",
     "shell.execute_reply": "2023-02-20T19:26:41.237602Z",
     "shell.execute_reply.started": "2023-02-20T19:26:35.777374Z"
    },
    "tags": []
   },
   "outputs": [
    {
     "data": {
      "application/vnd.jupyter.widget-view+json": {
       "model_id": "",
       "version_major": 2,
       "version_minor": 0
      },
      "text/plain": [
       "FloatProgress(value=0.0, bar_style='info', description='Progress:', layout=Layout(height='25px', width='50%'),…"
      ]
     },
     "metadata": {},
     "output_type": "display_data"
    },
    {
     "data": {
      "text/html": [
       "<style>.jp-OutputArea-child .jupyter-widgets.jp-OutputArea-output { overflow: auto; }</style>"
      ],
      "text/plain": [
       "<IPython.core.display.HTML object>"
      ]
     },
     "metadata": {},
     "output_type": "display_data"
    },
    {
     "data": {
      "application/vnd.jupyter.widget-view+json": {
       "model_id": "dad1794c8f134a7ab00ff9c67eef80cd",
       "version_major": 2,
       "version_minor": 0
      },
      "text/plain": [
       "VBox(children=(HBox(), EncodingWidget(children=(VBox(children=(HTML(value='Encoding:'), Dropdown(description='…"
      ]
     },
     "metadata": {},
     "output_type": "display_data"
    },
    {
     "data": {
      "application/vnd.jupyter.widget-view+json": {
       "model_id": "76eec425a1e1431b84fe8aa524d6af21",
       "version_major": 2,
       "version_minor": 0
      },
      "text/plain": [
       "Output()"
      ]
     },
     "metadata": {},
     "output_type": "display_data"
    }
   ],
   "source": [
    "%%sql\n",
    "use glue_catalog1"
   ]
  },
  {
   "cell_type": "code",
   "execution_count": 4,
   "metadata": {
    "execution": {
     "iopub.execute_input": "2023-02-20T19:26:41.241095Z",
     "iopub.status.busy": "2023-02-20T19:26:41.240788Z",
     "iopub.status.idle": "2023-02-20T19:26:46.975809Z",
     "shell.execute_reply": "2023-02-20T19:26:46.974800Z",
     "shell.execute_reply.started": "2023-02-20T19:26:41.241065Z"
    },
    "tags": []
   },
   "outputs": [
    {
     "data": {
      "application/vnd.jupyter.widget-view+json": {
       "model_id": "",
       "version_major": 2,
       "version_minor": 0
      },
      "text/plain": [
       "FloatProgress(value=0.0, bar_style='info', description='Progress:', layout=Layout(height='25px', width='50%'),…"
      ]
     },
     "metadata": {},
     "output_type": "display_data"
    },
    {
     "data": {
      "text/html": [
       "<style>.jp-OutputArea-child .jupyter-widgets.jp-OutputArea-output { overflow: auto; }</style>"
      ],
      "text/plain": [
       "<IPython.core.display.HTML object>"
      ]
     },
     "metadata": {},
     "output_type": "display_data"
    },
    {
     "data": {
      "application/vnd.jupyter.widget-view+json": {
       "model_id": "222014977e0742fc9d821e189c4b9efc",
       "version_major": 2,
       "version_minor": 0
      },
      "text/plain": [
       "VBox(children=(HBox(children=(HTML(value='Type:'), Button(description='Table', layout=Layout(width='70px'), st…"
      ]
     },
     "metadata": {},
     "output_type": "display_data"
    },
    {
     "data": {
      "application/vnd.jupyter.widget-view+json": {
       "model_id": "3ec7de86a6df4e28a8f3fcacf29acdbc",
       "version_major": 2,
       "version_minor": 0
      },
      "text/plain": [
       "Output()"
      ]
     },
     "metadata": {},
     "output_type": "display_data"
    }
   ],
   "source": [
    "%%sql\n",
    "show current namespace"
   ]
  },
  {
   "cell_type": "markdown",
   "metadata": {},
   "source": [
    "Let us create a database and switch to it"
   ]
  },
  {
   "cell_type": "code",
   "execution_count": 5,
   "metadata": {
    "execution": {
     "iopub.execute_input": "2023-02-20T19:26:46.978802Z",
     "iopub.status.busy": "2023-02-20T19:26:46.978168Z",
     "iopub.status.idle": "2023-02-20T19:26:47.889489Z",
     "shell.execute_reply": "2023-02-20T19:26:47.888330Z",
     "shell.execute_reply.started": "2023-02-20T19:26:46.978753Z"
    },
    "tags": []
   },
   "outputs": [
    {
     "data": {
      "application/vnd.jupyter.widget-view+json": {
       "model_id": "",
       "version_major": 2,
       "version_minor": 0
      },
      "text/plain": [
       "FloatProgress(value=0.0, bar_style='info', description='Progress:', layout=Layout(height='25px', width='50%'),…"
      ]
     },
     "metadata": {},
     "output_type": "display_data"
    },
    {
     "data": {
      "text/html": [
       "<style>.jp-OutputArea-child .jupyter-widgets.jp-OutputArea-output { overflow: auto; }</style>"
      ],
      "text/plain": [
       "<IPython.core.display.HTML object>"
      ]
     },
     "metadata": {},
     "output_type": "display_data"
    },
    {
     "data": {
      "application/vnd.jupyter.widget-view+json": {
       "model_id": "4ee92fe448f64ad9b8f4b914147b5768",
       "version_major": 2,
       "version_minor": 0
      },
      "text/plain": [
       "VBox(children=(HBox(), EncodingWidget(children=(VBox(children=(HTML(value='Encoding:'), Dropdown(description='…"
      ]
     },
     "metadata": {},
     "output_type": "display_data"
    },
    {
     "data": {
      "application/vnd.jupyter.widget-view+json": {
       "model_id": "31e2c6cb9166445ebf9af4d0938c7357",
       "version_major": 2,
       "version_minor": 0
      },
      "text/plain": [
       "Output()"
      ]
     },
     "metadata": {},
     "output_type": "display_data"
    }
   ],
   "source": [
    "%%sql\n",
    "CREATE SCHEMA IF NOT EXISTS salesdb;"
   ]
  },
  {
   "cell_type": "code",
   "execution_count": 6,
   "metadata": {
    "execution": {
     "iopub.execute_input": "2023-02-20T19:26:47.890938Z",
     "iopub.status.busy": "2023-02-20T19:26:47.890634Z",
     "iopub.status.idle": "2023-02-20T19:26:48.253306Z",
     "shell.execute_reply": "2023-02-20T19:26:48.252141Z",
     "shell.execute_reply.started": "2023-02-20T19:26:47.890908Z"
    },
    "tags": []
   },
   "outputs": [
    {
     "data": {
      "application/vnd.jupyter.widget-view+json": {
       "model_id": "",
       "version_major": 2,
       "version_minor": 0
      },
      "text/plain": [
       "FloatProgress(value=0.0, bar_style='info', description='Progress:', layout=Layout(height='25px', width='50%'),…"
      ]
     },
     "metadata": {},
     "output_type": "display_data"
    },
    {
     "data": {
      "text/html": [
       "<style>.jp-OutputArea-child .jupyter-widgets.jp-OutputArea-output { overflow: auto; }</style>"
      ],
      "text/plain": [
       "<IPython.core.display.HTML object>"
      ]
     },
     "metadata": {},
     "output_type": "display_data"
    },
    {
     "data": {
      "application/vnd.jupyter.widget-view+json": {
       "model_id": "f9f2be44fbc746fca6dec95c8b09bdc1",
       "version_major": 2,
       "version_minor": 0
      },
      "text/plain": [
       "VBox(children=(HBox(), EncodingWidget(children=(VBox(children=(HTML(value='Encoding:'), Dropdown(description='…"
      ]
     },
     "metadata": {},
     "output_type": "display_data"
    },
    {
     "data": {
      "application/vnd.jupyter.widget-view+json": {
       "model_id": "95bf5349f8ae4b8995e9e5e7cae7c4fe",
       "version_major": 2,
       "version_minor": 0
      },
      "text/plain": [
       "Output()"
      ]
     },
     "metadata": {},
     "output_type": "display_data"
    }
   ],
   "source": [
    "%%sql\n",
    "use salesdb"
   ]
  },
  {
   "cell_type": "code",
   "execution_count": 7,
   "metadata": {
    "execution": {
     "iopub.execute_input": "2023-02-20T19:26:48.255081Z",
     "iopub.status.busy": "2023-02-20T19:26:48.254718Z",
     "iopub.status.idle": "2023-02-20T19:26:53.749355Z",
     "shell.execute_reply": "2023-02-20T19:26:53.748515Z",
     "shell.execute_reply.started": "2023-02-20T19:26:48.255035Z"
    },
    "tags": []
   },
   "outputs": [
    {
     "data": {
      "application/vnd.jupyter.widget-view+json": {
       "model_id": "",
       "version_major": 2,
       "version_minor": 0
      },
      "text/plain": [
       "FloatProgress(value=0.0, bar_style='info', description='Progress:', layout=Layout(height='25px', width='50%'),…"
      ]
     },
     "metadata": {},
     "output_type": "display_data"
    },
    {
     "data": {
      "text/html": [
       "<style>.jp-OutputArea-child .jupyter-widgets.jp-OutputArea-output { overflow: auto; }</style>"
      ],
      "text/plain": [
       "<IPython.core.display.HTML object>"
      ]
     },
     "metadata": {},
     "output_type": "display_data"
    },
    {
     "data": {
      "application/vnd.jupyter.widget-view+json": {
       "model_id": "88bad724fbd845b19dc28b804159abaf",
       "version_major": 2,
       "version_minor": 0
      },
      "text/plain": [
       "VBox(children=(HBox(children=(HTML(value='Type:'), Button(description='Table', layout=Layout(width='70px'), st…"
      ]
     },
     "metadata": {},
     "output_type": "display_data"
    },
    {
     "data": {
      "application/vnd.jupyter.widget-view+json": {
       "model_id": "9b2225a5fae149488ab7c7e051424fc0",
       "version_major": 2,
       "version_minor": 0
      },
      "text/plain": [
       "Output()"
      ]
     },
     "metadata": {},
     "output_type": "display_data"
    }
   ],
   "source": [
    "%%sql\n",
    "show current namespace"
   ]
  },
  {
   "cell_type": "markdown",
   "metadata": {},
   "source": [
    "<a id=\"create_table\"></a>\n",
    "## Creating an Iceberg Table\n",
    "\n",
    "We will use Spark SQL for most of our Iceberg operations, although you could use equivalent PySpark, Scala, or Java languages to achieve all of these as well.\n",
    "Let us start by creating a table. The DDL syntax looks the same as creating, say a Hive table, except that we include `USING iceberg`"
   ]
  },
  {
   "cell_type": "code",
   "execution_count": 8,
   "metadata": {
    "execution": {
     "iopub.execute_input": "2023-02-20T19:26:53.750808Z",
     "iopub.status.busy": "2023-02-20T19:26:53.750495Z",
     "iopub.status.idle": "2023-02-20T19:26:56.123127Z",
     "shell.execute_reply": "2023-02-20T19:26:56.122239Z",
     "shell.execute_reply.started": "2023-02-20T19:26:53.750778Z"
    },
    "tags": []
   },
   "outputs": [
    {
     "data": {
      "application/vnd.jupyter.widget-view+json": {
       "model_id": "",
       "version_major": 2,
       "version_minor": 0
      },
      "text/plain": [
       "FloatProgress(value=0.0, bar_style='info', description='Progress:', layout=Layout(height='25px', width='50%'),…"
      ]
     },
     "metadata": {},
     "output_type": "display_data"
    },
    {
     "data": {
      "text/html": [
       "<style>.jp-OutputArea-child .jupyter-widgets.jp-OutputArea-output { overflow: auto; }</style>"
      ],
      "text/plain": [
       "<IPython.core.display.HTML object>"
      ]
     },
     "metadata": {},
     "output_type": "display_data"
    },
    {
     "data": {
      "application/vnd.jupyter.widget-view+json": {
       "model_id": "698841ba5f234efa996bc59e68ce060a",
       "version_major": 2,
       "version_minor": 0
      },
      "text/plain": [
       "VBox(children=(HBox(), EncodingWidget(children=(VBox(children=(HTML(value='Encoding:'), Dropdown(description='…"
      ]
     },
     "metadata": {},
     "output_type": "display_data"
    },
    {
     "data": {
      "application/vnd.jupyter.widget-view+json": {
       "model_id": "1703dec9d5794ff69d03aa6e58c5943d",
       "version_major": 2,
       "version_minor": 0
      },
      "text/plain": [
       "Output()"
      ]
     },
     "metadata": {},
     "output_type": "display_data"
    }
   ],
   "source": [
    "%%sql\n",
    "drop table glue_catalog1.salesdb.orders"
   ]
  },
  {
   "cell_type": "code",
   "execution_count": 9,
   "metadata": {
    "execution": {
     "iopub.execute_input": "2023-02-20T19:26:56.126970Z",
     "iopub.status.busy": "2023-02-20T19:26:56.126563Z",
     "iopub.status.idle": "2023-02-20T19:26:58.565450Z",
     "shell.execute_reply": "2023-02-20T19:26:58.563964Z",
     "shell.execute_reply.started": "2023-02-20T19:26:56.126925Z"
    },
    "tags": []
   },
   "outputs": [
    {
     "data": {
      "application/vnd.jupyter.widget-view+json": {
       "model_id": "",
       "version_major": 2,
       "version_minor": 0
      },
      "text/plain": [
       "FloatProgress(value=0.0, bar_style='info', description='Progress:', layout=Layout(height='25px', width='50%'),…"
      ]
     },
     "metadata": {},
     "output_type": "display_data"
    },
    {
     "data": {
      "text/html": [
       "<style>.jp-OutputArea-child .jupyter-widgets.jp-OutputArea-output { overflow: auto; }</style>"
      ],
      "text/plain": [
       "<IPython.core.display.HTML object>"
      ]
     },
     "metadata": {},
     "output_type": "display_data"
    },
    {
     "data": {
      "application/vnd.jupyter.widget-view+json": {
       "model_id": "900ed5584f5c47bc8a74f66d52a9b845",
       "version_major": 2,
       "version_minor": 0
      },
      "text/plain": [
       "VBox(children=(HBox(), EncodingWidget(children=(VBox(children=(HTML(value='Encoding:'), Dropdown(description='…"
      ]
     },
     "metadata": {},
     "output_type": "display_data"
    },
    {
     "data": {
      "application/vnd.jupyter.widget-view+json": {
       "model_id": "358383b1e62b4b4b81368a6621f7521b",
       "version_major": 2,
       "version_minor": 0
      },
      "text/plain": [
       "Output()"
      ]
     },
     "metadata": {},
     "output_type": "display_data"
    }
   ],
   "source": [
    "%%sql\n",
    "CREATE TABLE glue_catalog1.salesdb.orders\n",
    "    (\n",
    "      order_id              int,\n",
    "      product_name          string,\n",
    "      product_category      string,\n",
    "      qty                   int,\n",
    "      unit_price            decimal(7,2),\n",
    "      order_datetime        timestamp\n",
    "    )\n",
    "USING iceberg\n",
    "PARTITIONED BY (days(order_datetime))"
   ]
  },
  {
   "cell_type": "code",
   "execution_count": 10,
   "metadata": {
    "execution": {
     "iopub.execute_input": "2023-02-20T19:26:58.569049Z",
     "iopub.status.busy": "2023-02-20T19:26:58.568558Z",
     "iopub.status.idle": "2023-02-20T19:27:00.075969Z",
     "shell.execute_reply": "2023-02-20T19:27:00.074977Z",
     "shell.execute_reply.started": "2023-02-20T19:26:58.569002Z"
    },
    "tags": []
   },
   "outputs": [
    {
     "data": {
      "application/vnd.jupyter.widget-view+json": {
       "model_id": "",
       "version_major": 2,
       "version_minor": 0
      },
      "text/plain": [
       "FloatProgress(value=0.0, bar_style='info', description='Progress:', layout=Layout(height='25px', width='50%'),…"
      ]
     },
     "metadata": {},
     "output_type": "display_data"
    },
    {
     "data": {
      "text/html": [
       "<style>.jp-OutputArea-child .jupyter-widgets.jp-OutputArea-output { overflow: auto; }</style>"
      ],
      "text/plain": [
       "<IPython.core.display.HTML object>"
      ]
     },
     "metadata": {},
     "output_type": "display_data"
    },
    {
     "data": {
      "application/vnd.jupyter.widget-view+json": {
       "model_id": "71c95ca6c8a64d59933865e8db9842d4",
       "version_major": 2,
       "version_minor": 0
      },
      "text/plain": [
       "VBox(children=(HBox(children=(HTML(value='Type:'), Button(description='Table', layout=Layout(width='70px'), st…"
      ]
     },
     "metadata": {},
     "output_type": "display_data"
    },
    {
     "data": {
      "application/vnd.jupyter.widget-view+json": {
       "model_id": "9469e27e9e2f4355847f6e383326ff16",
       "version_major": 2,
       "version_minor": 0
      },
      "text/plain": [
       "Output()"
      ]
     },
     "metadata": {},
     "output_type": "display_data"
    }
   ],
   "source": [
    "%%sql\n",
    "show tables"
   ]
  },
  {
   "cell_type": "markdown",
   "metadata": {},
   "source": [
    "Since there is no data yet, we don't expect to see any snapshots created yet."
   ]
  },
  {
   "cell_type": "code",
   "execution_count": 11,
   "metadata": {
    "execution": {
     "iopub.execute_input": "2023-02-20T19:27:00.077530Z",
     "iopub.status.busy": "2023-02-20T19:27:00.077235Z",
     "iopub.status.idle": "2023-02-20T19:27:02.452183Z",
     "shell.execute_reply": "2023-02-20T19:27:02.451333Z",
     "shell.execute_reply.started": "2023-02-20T19:27:00.077502Z"
    },
    "tags": []
   },
   "outputs": [
    {
     "data": {
      "application/vnd.jupyter.widget-view+json": {
       "model_id": "",
       "version_major": 2,
       "version_minor": 0
      },
      "text/plain": [
       "FloatProgress(value=0.0, bar_style='info', description='Progress:', layout=Layout(height='25px', width='50%'),…"
      ]
     },
     "metadata": {},
     "output_type": "display_data"
    },
    {
     "data": {
      "text/html": [
       "<style>.jp-OutputArea-child .jupyter-widgets.jp-OutputArea-output { overflow: auto; }</style>"
      ],
      "text/plain": [
       "<IPython.core.display.HTML object>"
      ]
     },
     "metadata": {},
     "output_type": "display_data"
    },
    {
     "data": {
      "application/vnd.jupyter.widget-view+json": {
       "model_id": "afc904eb458747b7b5f56d413c29daa2",
       "version_major": 2,
       "version_minor": 0
      },
      "text/plain": [
       "VBox(children=(HBox(), EncodingWidget(children=(VBox(children=(HTML(value='Encoding:'), Dropdown(description='…"
      ]
     },
     "metadata": {},
     "output_type": "display_data"
    },
    {
     "data": {
      "application/vnd.jupyter.widget-view+json": {
       "model_id": "ad5babfb07f84593a98a9371ff1b1c01",
       "version_major": 2,
       "version_minor": 0
      },
      "text/plain": [
       "Output()"
      ]
     },
     "metadata": {},
     "output_type": "display_data"
    }
   ],
   "source": [
    "%%sql\n",
    "SELECT * FROM glue_catalog1.salesdb.orders.snapshots;"
   ]
  },
  {
   "cell_type": "markdown",
   "metadata": {},
   "source": [
    "<a id=\"dml\"></a>\n",
    "## DML Operations\n",
    "Icerberg supports all DML statements to add or modify data in your data lake: Inserts to add new data, Updates to modify specific columns in specific rows in your existing data, Deletes for GDPR and CCPA compliance and Upserts when you have incoming data that may have a mix of inserts and updates. Let us look at each of them now."
   ]
  },
  {
   "cell_type": "markdown",
   "metadata": {},
   "source": [
    "<a id=\"inserts\"></a>\n",
    "### Inserts\n",
    "Let us insert our first record. "
   ]
  },
  {
   "cell_type": "code",
   "execution_count": 12,
   "metadata": {
    "execution": {
     "iopub.execute_input": "2023-02-20T19:27:02.453593Z",
     "iopub.status.busy": "2023-02-20T19:27:02.453300Z",
     "iopub.status.idle": "2023-02-20T19:27:07.841044Z",
     "shell.execute_reply": "2023-02-20T19:27:07.840168Z",
     "shell.execute_reply.started": "2023-02-20T19:27:02.453563Z"
    },
    "tags": []
   },
   "outputs": [
    {
     "data": {
      "application/vnd.jupyter.widget-view+json": {
       "model_id": "",
       "version_major": 2,
       "version_minor": 0
      },
      "text/plain": [
       "FloatProgress(value=0.0, bar_style='info', description='Progress:', layout=Layout(height='25px', width='50%'),…"
      ]
     },
     "metadata": {},
     "output_type": "display_data"
    },
    {
     "data": {
      "text/html": [
       "<style>.jp-OutputArea-child .jupyter-widgets.jp-OutputArea-output { overflow: auto; }</style>"
      ],
      "text/plain": [
       "<IPython.core.display.HTML object>"
      ]
     },
     "metadata": {},
     "output_type": "display_data"
    },
    {
     "data": {
      "application/vnd.jupyter.widget-view+json": {
       "model_id": "1c7cc03df9ea4a1c9ee1c6cb1fee9d0c",
       "version_major": 2,
       "version_minor": 0
      },
      "text/plain": [
       "VBox(children=(HBox(), EncodingWidget(children=(VBox(children=(HTML(value='Encoding:'), Dropdown(description='…"
      ]
     },
     "metadata": {},
     "output_type": "display_data"
    },
    {
     "data": {
      "application/vnd.jupyter.widget-view+json": {
       "model_id": "52f634e0ede7408092e9886a104012e2",
       "version_major": 2,
       "version_minor": 0
      },
      "text/plain": [
       "Output()"
      ]
     },
     "metadata": {},
     "output_type": "display_data"
    }
   ],
   "source": [
    "%%sql\n",
    "INSERT INTO glue_catalog1.salesdb.orders VALUES \n",
    "    (\n",
    "        1, \n",
    "        'Harry Potter and the Prisoner of Azkaban',\n",
    "        'Books',\n",
    "        2,\n",
    "        7.99,\n",
    "        current_timestamp()\n",
    "    )"
   ]
  },
  {
   "cell_type": "markdown",
   "metadata": {},
   "source": [
    "Notice that DML statements do result in snapshots getting created. Note the `snapshot_id` and the timestamp column called `committed_at`"
   ]
  },
  {
   "cell_type": "code",
   "execution_count": 13,
   "metadata": {
    "execution": {
     "iopub.execute_input": "2023-02-20T19:27:07.842291Z",
     "iopub.status.busy": "2023-02-20T19:27:07.842002Z",
     "iopub.status.idle": "2023-02-20T19:27:08.794093Z",
     "shell.execute_reply": "2023-02-20T19:27:08.793029Z",
     "shell.execute_reply.started": "2023-02-20T19:27:07.842262Z"
    },
    "tags": []
   },
   "outputs": [
    {
     "data": {
      "application/vnd.jupyter.widget-view+json": {
       "model_id": "",
       "version_major": 2,
       "version_minor": 0
      },
      "text/plain": [
       "FloatProgress(value=0.0, bar_style='info', description='Progress:', layout=Layout(height='25px', width='50%'),…"
      ]
     },
     "metadata": {},
     "output_type": "display_data"
    },
    {
     "data": {
      "text/html": [
       "<style>.jp-OutputArea-child .jupyter-widgets.jp-OutputArea-output { overflow: auto; }</style>"
      ],
      "text/plain": [
       "<IPython.core.display.HTML object>"
      ]
     },
     "metadata": {},
     "output_type": "display_data"
    },
    {
     "data": {
      "application/vnd.jupyter.widget-view+json": {
       "model_id": "817c6607fc8148728e849d64046d1370",
       "version_major": 2,
       "version_minor": 0
      },
      "text/plain": [
       "VBox(children=(HBox(children=(HTML(value='Type:'), Button(description='Table', layout=Layout(width='70px'), st…"
      ]
     },
     "metadata": {},
     "output_type": "display_data"
    },
    {
     "data": {
      "application/vnd.jupyter.widget-view+json": {
       "model_id": "70a68ea71b944e3b9c17746f84571aaa",
       "version_major": 2,
       "version_minor": 0
      },
      "text/plain": [
       "Output()"
      ]
     },
     "metadata": {},
     "output_type": "display_data"
    }
   ],
   "source": [
    "%%sql\n",
    "SELECT * FROM glue_catalog1.salesdb.orders.snapshots;"
   ]
  },
  {
   "cell_type": "markdown",
   "metadata": {},
   "source": [
    "Let us insert four more records. "
   ]
  },
  {
   "cell_type": "code",
   "execution_count": 14,
   "metadata": {
    "execution": {
     "iopub.execute_input": "2023-02-20T19:27:08.795938Z",
     "iopub.status.busy": "2023-02-20T19:27:08.795551Z",
     "iopub.status.idle": "2023-02-20T19:27:14.200880Z",
     "shell.execute_reply": "2023-02-20T19:27:14.200048Z",
     "shell.execute_reply.started": "2023-02-20T19:27:08.795896Z"
    },
    "tags": []
   },
   "outputs": [
    {
     "data": {
      "application/vnd.jupyter.widget-view+json": {
       "model_id": "",
       "version_major": 2,
       "version_minor": 0
      },
      "text/plain": [
       "FloatProgress(value=0.0, bar_style='info', description='Progress:', layout=Layout(height='25px', width='50%'),…"
      ]
     },
     "metadata": {},
     "output_type": "display_data"
    },
    {
     "data": {
      "text/html": [
       "<style>.jp-OutputArea-child .jupyter-widgets.jp-OutputArea-output { overflow: auto; }</style>"
      ],
      "text/plain": [
       "<IPython.core.display.HTML object>"
      ]
     },
     "metadata": {},
     "output_type": "display_data"
    },
    {
     "data": {
      "application/vnd.jupyter.widget-view+json": {
       "model_id": "f3228b33a0f947fb990ee2798cf8b864",
       "version_major": 2,
       "version_minor": 0
      },
      "text/plain": [
       "VBox(children=(HBox(), EncodingWidget(children=(VBox(children=(HTML(value='Encoding:'), Dropdown(description='…"
      ]
     },
     "metadata": {},
     "output_type": "display_data"
    },
    {
     "data": {
      "application/vnd.jupyter.widget-view+json": {
       "model_id": "a9b92f4a636b4ea591ff3ec5f36d0443",
       "version_major": 2,
       "version_minor": 0
      },
      "text/plain": [
       "Output()"
      ]
     },
     "metadata": {},
     "output_type": "display_data"
    }
   ],
   "source": [
    "%%sql\n",
    "INSERT INTO glue_catalog1.salesdb.orders VALUES\n",
    "    (\n",
    "        2, \n",
    "        'Harry Potter and the Half-Blood Prince',\n",
    "        'Books',\n",
    "        1,\n",
    "        9.99,\n",
    "        date_sub(current_timestamp(), 3)\n",
    "    ),\n",
    "    (\n",
    "        3, \n",
    "        \"New Balance Mens 623 V3 Casual Comfort Cross Trainer\",\n",
    "        'Shoes',\n",
    "        1,\n",
    "        55.97,\n",
    "        date_sub(current_timestamp(), 4)\n",
    "    ),\n",
    "    (\n",
    "        4, \n",
    "        \"Skechers Womens Go Walk Joy Walking Shoe\",\n",
    "        'Shoes',\n",
    "        1,\n",
    "        45.00,\n",
    "        date_sub(current_timestamp(), 9)\n",
    "    ),\n",
    "    (\n",
    "        5, \n",
    "        \"Nintendo Switch with Neon Blue and Neon Red Joy‑Con - HAC-001(-01)\",\n",
    "        'Games',\n",
    "        1,\n",
    "        299.99,\n",
    "        date_sub(current_timestamp(), 4)\n",
    "    )"
   ]
  },
  {
   "cell_type": "code",
   "execution_count": 15,
   "metadata": {
    "execution": {
     "iopub.execute_input": "2023-02-20T19:27:14.202373Z",
     "iopub.status.busy": "2023-02-20T19:27:14.202062Z",
     "iopub.status.idle": "2023-02-20T19:27:16.669665Z",
     "shell.execute_reply": "2023-02-20T19:27:16.668762Z",
     "shell.execute_reply.started": "2023-02-20T19:27:14.202342Z"
    },
    "tags": []
   },
   "outputs": [
    {
     "data": {
      "application/vnd.jupyter.widget-view+json": {
       "model_id": "",
       "version_major": 2,
       "version_minor": 0
      },
      "text/plain": [
       "FloatProgress(value=0.0, bar_style='info', description='Progress:', layout=Layout(height='25px', width='50%'),…"
      ]
     },
     "metadata": {},
     "output_type": "display_data"
    },
    {
     "data": {
      "text/html": [
       "<style>.jp-OutputArea-child .jupyter-widgets.jp-OutputArea-output { overflow: auto; }</style>"
      ],
      "text/plain": [
       "<IPython.core.display.HTML object>"
      ]
     },
     "metadata": {},
     "output_type": "display_data"
    },
    {
     "data": {
      "application/vnd.jupyter.widget-view+json": {
       "model_id": "46a47c527eb945478a8c88bdff595160",
       "version_major": 2,
       "version_minor": 0
      },
      "text/plain": [
       "VBox(children=(HBox(children=(HTML(value='Type:'), Button(description='Table', layout=Layout(width='70px'), st…"
      ]
     },
     "metadata": {},
     "output_type": "display_data"
    },
    {
     "data": {
      "application/vnd.jupyter.widget-view+json": {
       "model_id": "4f9367580e4344b0a93d8d5c96c96772",
       "version_major": 2,
       "version_minor": 0
      },
      "text/plain": [
       "Output()"
      ]
     },
     "metadata": {},
     "output_type": "display_data"
    }
   ],
   "source": [
    "%%sql\n",
    "SELECT * FROM glue_catalog1.salesdb.orders"
   ]
  },
  {
   "cell_type": "markdown",
   "metadata": {},
   "source": [
    "Iceberg treats it as single commit, and adds just one additional snapshot, an append operation as expected."
   ]
  },
  {
   "cell_type": "code",
   "execution_count": 16,
   "metadata": {
    "execution": {
     "iopub.execute_input": "2023-02-20T19:27:16.671062Z",
     "iopub.status.busy": "2023-02-20T19:27:16.670784Z",
     "iopub.status.idle": "2023-02-20T19:27:17.119467Z",
     "shell.execute_reply": "2023-02-20T19:27:17.118628Z",
     "shell.execute_reply.started": "2023-02-20T19:27:16.671033Z"
    },
    "tags": []
   },
   "outputs": [
    {
     "data": {
      "application/vnd.jupyter.widget-view+json": {
       "model_id": "",
       "version_major": 2,
       "version_minor": 0
      },
      "text/plain": [
       "FloatProgress(value=0.0, bar_style='info', description='Progress:', layout=Layout(height='25px', width='50%'),…"
      ]
     },
     "metadata": {},
     "output_type": "display_data"
    },
    {
     "data": {
      "text/html": [
       "<style>.jp-OutputArea-child .jupyter-widgets.jp-OutputArea-output { overflow: auto; }</style>"
      ],
      "text/plain": [
       "<IPython.core.display.HTML object>"
      ]
     },
     "metadata": {},
     "output_type": "display_data"
    },
    {
     "data": {
      "application/vnd.jupyter.widget-view+json": {
       "model_id": "e758b55b828148c2a7d4f6cd73295806",
       "version_major": 2,
       "version_minor": 0
      },
      "text/plain": [
       "VBox(children=(HBox(children=(HTML(value='Type:'), Button(description='Table', layout=Layout(width='70px'), st…"
      ]
     },
     "metadata": {},
     "output_type": "display_data"
    },
    {
     "data": {
      "application/vnd.jupyter.widget-view+json": {
       "model_id": "04bbfe74bfdb4273a6801885e48d533f",
       "version_major": 2,
       "version_minor": 0
      },
      "text/plain": [
       "Output()"
      ]
     },
     "metadata": {},
     "output_type": "display_data"
    }
   ],
   "source": [
    "%%sql\n",
    "SELECT * FROM glue_catalog1.salesdb.orders.snapshots;"
   ]
  },
  {
   "cell_type": "code",
   "execution_count": 17,
   "metadata": {
    "execution": {
     "iopub.execute_input": "2023-02-20T19:27:17.120759Z",
     "iopub.status.busy": "2023-02-20T19:27:17.120480Z",
     "iopub.status.idle": "2023-02-20T19:27:18.543283Z",
     "shell.execute_reply": "2023-02-20T19:27:18.542453Z",
     "shell.execute_reply.started": "2023-02-20T19:27:17.120730Z"
    },
    "tags": []
   },
   "outputs": [
    {
     "data": {
      "application/vnd.jupyter.widget-view+json": {
       "model_id": "",
       "version_major": 2,
       "version_minor": 0
      },
      "text/plain": [
       "FloatProgress(value=0.0, bar_style='info', description='Progress:', layout=Layout(height='25px', width='50%'),…"
      ]
     },
     "metadata": {},
     "output_type": "display_data"
    },
    {
     "data": {
      "text/html": [
       "<style>.jp-OutputArea-child .jupyter-widgets.jp-OutputArea-output { overflow: auto; }</style>"
      ],
      "text/plain": [
       "<IPython.core.display.HTML object>"
      ]
     },
     "metadata": {},
     "output_type": "display_data"
    },
    {
     "data": {
      "application/vnd.jupyter.widget-view+json": {
       "model_id": "79f47be84daa42cf831cce7ad1c2b71a",
       "version_major": 2,
       "version_minor": 0
      },
      "text/plain": [
       "VBox(children=(HBox(children=(HTML(value='Type:'), Button(description='Table', layout=Layout(width='70px'), st…"
      ]
     },
     "metadata": {},
     "output_type": "display_data"
    },
    {
     "data": {
      "application/vnd.jupyter.widget-view+json": {
       "model_id": "0a1dac157a9341ca9556f996ed001288",
       "version_major": 2,
       "version_minor": 0
      },
      "text/plain": [
       "Output()"
      ]
     },
     "metadata": {},
     "output_type": "display_data"
    }
   ],
   "source": [
    "%%sql\n",
    "SELECT count(*) FROM glue_catalog1.salesdb.orders;"
   ]
  },
  {
   "cell_type": "markdown",
   "metadata": {},
   "source": [
    "<a id=\"deletes\"></a>\n",
    "### Deletes\n",
    "GDPR and CCPA regulations mandate timely removal of individual customer data and other records from datasets. Iceberg is designed to be able to handle these trivially.\n",
    "Now let us delete a record from our Iceberg table."
   ]
  },
  {
   "cell_type": "code",
   "execution_count": 18,
   "metadata": {
    "execution": {
     "iopub.execute_input": "2023-02-20T19:27:18.544668Z",
     "iopub.status.busy": "2023-02-20T19:27:18.544386Z",
     "iopub.status.idle": "2023-02-20T19:27:20.910498Z",
     "shell.execute_reply": "2023-02-20T19:27:20.909628Z",
     "shell.execute_reply.started": "2023-02-20T19:27:18.544639Z"
    },
    "tags": []
   },
   "outputs": [
    {
     "data": {
      "application/vnd.jupyter.widget-view+json": {
       "model_id": "",
       "version_major": 2,
       "version_minor": 0
      },
      "text/plain": [
       "FloatProgress(value=0.0, bar_style='info', description='Progress:', layout=Layout(height='25px', width='50%'),…"
      ]
     },
     "metadata": {},
     "output_type": "display_data"
    },
    {
     "data": {
      "text/html": [
       "<style>.jp-OutputArea-child .jupyter-widgets.jp-OutputArea-output { overflow: auto; }</style>"
      ],
      "text/plain": [
       "<IPython.core.display.HTML object>"
      ]
     },
     "metadata": {},
     "output_type": "display_data"
    },
    {
     "data": {
      "application/vnd.jupyter.widget-view+json": {
       "model_id": "16ca218b560148deb1ee8937f467cefe",
       "version_major": 2,
       "version_minor": 0
      },
      "text/plain": [
       "VBox(children=(HBox(), EncodingWidget(children=(VBox(children=(HTML(value='Encoding:'), Dropdown(description='…"
      ]
     },
     "metadata": {},
     "output_type": "display_data"
    },
    {
     "data": {
      "application/vnd.jupyter.widget-view+json": {
       "model_id": "29d29e38f460407896035a47577c5b01",
       "version_major": 2,
       "version_minor": 0
      },
      "text/plain": [
       "Output()"
      ]
     },
     "metadata": {},
     "output_type": "display_data"
    }
   ],
   "source": [
    "%%sql\n",
    "DELETE FROM glue_catalog1.salesdb.orders\n",
    "WHERE order_datetime < date_sub(current_timestamp(), 1)\n",
    "AND order_datetime > date_sub(current_timestamp(), 4)"
   ]
  },
  {
   "cell_type": "markdown",
   "metadata": {},
   "source": [
    "The book with order_id 2 happens to be within this date range and has been deleted."
   ]
  },
  {
   "cell_type": "code",
   "execution_count": 19,
   "metadata": {
    "execution": {
     "iopub.execute_input": "2023-02-20T19:27:20.911821Z",
     "iopub.status.busy": "2023-02-20T19:27:20.911542Z",
     "iopub.status.idle": "2023-02-20T19:27:21.863525Z",
     "shell.execute_reply": "2023-02-20T19:27:21.862704Z",
     "shell.execute_reply.started": "2023-02-20T19:27:20.911791Z"
    },
    "tags": []
   },
   "outputs": [
    {
     "data": {
      "application/vnd.jupyter.widget-view+json": {
       "model_id": "",
       "version_major": 2,
       "version_minor": 0
      },
      "text/plain": [
       "FloatProgress(value=0.0, bar_style='info', description='Progress:', layout=Layout(height='25px', width='50%'),…"
      ]
     },
     "metadata": {},
     "output_type": "display_data"
    },
    {
     "data": {
      "text/html": [
       "<style>.jp-OutputArea-child .jupyter-widgets.jp-OutputArea-output { overflow: auto; }</style>"
      ],
      "text/plain": [
       "<IPython.core.display.HTML object>"
      ]
     },
     "metadata": {},
     "output_type": "display_data"
    },
    {
     "data": {
      "application/vnd.jupyter.widget-view+json": {
       "model_id": "b6b8e38a6b394d25aa9eb773832b2c94",
       "version_major": 2,
       "version_minor": 0
      },
      "text/plain": [
       "VBox(children=(HBox(children=(HTML(value='Type:'), Button(description='Table', layout=Layout(width='70px'), st…"
      ]
     },
     "metadata": {},
     "output_type": "display_data"
    },
    {
     "data": {
      "application/vnd.jupyter.widget-view+json": {
       "model_id": "896d393f4a7c484d9ceb350dfe3f70a6",
       "version_major": 2,
       "version_minor": 0
      },
      "text/plain": [
       "Output()"
      ]
     },
     "metadata": {},
     "output_type": "display_data"
    }
   ],
   "source": [
    "%%sql\n",
    "select * from glue_catalog1.salesdb.orders"
   ]
  },
  {
   "cell_type": "markdown",
   "metadata": {},
   "source": [
    "A delete marker shows up as an overwrite operation."
   ]
  },
  {
   "cell_type": "code",
   "execution_count": 20,
   "metadata": {
    "execution": {
     "iopub.execute_input": "2023-02-20T19:27:21.864838Z",
     "iopub.status.busy": "2023-02-20T19:27:21.864558Z",
     "iopub.status.idle": "2023-02-20T19:27:22.815994Z",
     "shell.execute_reply": "2023-02-20T19:27:22.815155Z",
     "shell.execute_reply.started": "2023-02-20T19:27:21.864809Z"
    },
    "tags": []
   },
   "outputs": [
    {
     "data": {
      "application/vnd.jupyter.widget-view+json": {
       "model_id": "",
       "version_major": 2,
       "version_minor": 0
      },
      "text/plain": [
       "FloatProgress(value=0.0, bar_style='info', description='Progress:', layout=Layout(height='25px', width='50%'),…"
      ]
     },
     "metadata": {},
     "output_type": "display_data"
    },
    {
     "data": {
      "text/html": [
       "<style>.jp-OutputArea-child .jupyter-widgets.jp-OutputArea-output { overflow: auto; }</style>"
      ],
      "text/plain": [
       "<IPython.core.display.HTML object>"
      ]
     },
     "metadata": {},
     "output_type": "display_data"
    },
    {
     "data": {
      "application/vnd.jupyter.widget-view+json": {
       "model_id": "f7025e0886964b07aa7331b444e62264",
       "version_major": 2,
       "version_minor": 0
      },
      "text/plain": [
       "VBox(children=(HBox(children=(HTML(value='Type:'), Button(description='Table', layout=Layout(width='70px'), st…"
      ]
     },
     "metadata": {},
     "output_type": "display_data"
    },
    {
     "data": {
      "application/vnd.jupyter.widget-view+json": {
       "model_id": "2df9d5ef999c40ed96c16a30fd4f0f78",
       "version_major": 2,
       "version_minor": 0
      },
      "text/plain": [
       "Output()"
      ]
     },
     "metadata": {},
     "output_type": "display_data"
    }
   ],
   "source": [
    "%%sql\n",
    "SELECT * FROM glue_catalog1.salesdb.orders.snapshots;"
   ]
  },
  {
   "cell_type": "markdown",
   "metadata": {},
   "source": [
    "You can query the number of files deleted from your manifests too."
   ]
  },
  {
   "cell_type": "code",
   "execution_count": 21,
   "metadata": {
    "execution": {
     "iopub.execute_input": "2023-02-20T19:27:22.817430Z",
     "iopub.status.busy": "2023-02-20T19:27:22.817110Z",
     "iopub.status.idle": "2023-02-20T19:27:23.773554Z",
     "shell.execute_reply": "2023-02-20T19:27:23.772673Z",
     "shell.execute_reply.started": "2023-02-20T19:27:22.817400Z"
    },
    "tags": []
   },
   "outputs": [
    {
     "data": {
      "application/vnd.jupyter.widget-view+json": {
       "model_id": "",
       "version_major": 2,
       "version_minor": 0
      },
      "text/plain": [
       "FloatProgress(value=0.0, bar_style='info', description='Progress:', layout=Layout(height='25px', width='50%'),…"
      ]
     },
     "metadata": {},
     "output_type": "display_data"
    },
    {
     "data": {
      "text/html": [
       "<style>.jp-OutputArea-child .jupyter-widgets.jp-OutputArea-output { overflow: auto; }</style>"
      ],
      "text/plain": [
       "<IPython.core.display.HTML object>"
      ]
     },
     "metadata": {},
     "output_type": "display_data"
    },
    {
     "data": {
      "application/vnd.jupyter.widget-view+json": {
       "model_id": "15a620a20aec4d66b2cbc33e7128b88f",
       "version_major": 2,
       "version_minor": 0
      },
      "text/plain": [
       "VBox(children=(HBox(children=(HTML(value='Type:'), Button(description='Table', layout=Layout(width='70px'), st…"
      ]
     },
     "metadata": {},
     "output_type": "display_data"
    },
    {
     "data": {
      "application/vnd.jupyter.widget-view+json": {
       "model_id": "3e0fb6a4750446358f15c033e48259ca",
       "version_major": 2,
       "version_minor": 0
      },
      "text/plain": [
       "Output()"
      ]
     },
     "metadata": {},
     "output_type": "display_data"
    }
   ],
   "source": [
    "%%sql\n",
    "SELECT * FROM glue_catalog1.salesdb.orders.manifests;"
   ]
  },
  {
   "cell_type": "code",
   "execution_count": 22,
   "metadata": {
    "execution": {
     "iopub.execute_input": "2023-02-20T19:27:23.774902Z",
     "iopub.status.busy": "2023-02-20T19:27:23.774623Z",
     "iopub.status.idle": "2023-02-20T19:27:24.688028Z",
     "shell.execute_reply": "2023-02-20T19:27:24.687188Z",
     "shell.execute_reply.started": "2023-02-20T19:27:23.774873Z"
    },
    "tags": []
   },
   "outputs": [
    {
     "data": {
      "application/vnd.jupyter.widget-view+json": {
       "model_id": "",
       "version_major": 2,
       "version_minor": 0
      },
      "text/plain": [
       "FloatProgress(value=0.0, bar_style='info', description='Progress:', layout=Layout(height='25px', width='50%'),…"
      ]
     },
     "metadata": {},
     "output_type": "display_data"
    },
    {
     "data": {
      "text/html": [
       "<style>.jp-OutputArea-child .jupyter-widgets.jp-OutputArea-output { overflow: auto; }</style>"
      ],
      "text/plain": [
       "<IPython.core.display.HTML object>"
      ]
     },
     "metadata": {},
     "output_type": "display_data"
    },
    {
     "data": {
      "application/vnd.jupyter.widget-view+json": {
       "model_id": "138e5d389b1f415d9e1ed526e424af59",
       "version_major": 2,
       "version_minor": 0
      },
      "text/plain": [
       "VBox(children=(HBox(children=(HTML(value='Type:'), Button(description='Table', layout=Layout(width='70px'), st…"
      ]
     },
     "metadata": {},
     "output_type": "display_data"
    },
    {
     "data": {
      "application/vnd.jupyter.widget-view+json": {
       "model_id": "2d88f05b73fc49b496e724b7b84a66e7",
       "version_major": 2,
       "version_minor": 0
      },
      "text/plain": [
       "Output()"
      ]
     },
     "metadata": {},
     "output_type": "display_data"
    }
   ],
   "source": [
    "%%sql\n",
    "SELECT count(*) FROM glue_catalog1.salesdb.orders;"
   ]
  },
  {
   "cell_type": "markdown",
   "metadata": {},
   "source": [
    "<a id=\"updates\"></a>\n",
    "### Updates\n",
    "What if we want to go back and update an existing record? Let's change the `qty` for our `order_id` 5 from 1 to 10 Nintendo Switches. Iceberg allows updates using a simple `UPDATE` and`SET` clause added to your query"
   ]
  },
  {
   "cell_type": "code",
   "execution_count": 23,
   "metadata": {
    "execution": {
     "iopub.execute_input": "2023-02-20T19:27:24.689499Z",
     "iopub.status.busy": "2023-02-20T19:27:24.689218Z",
     "iopub.status.idle": "2023-02-20T19:27:30.070108Z",
     "shell.execute_reply": "2023-02-20T19:27:30.069031Z",
     "shell.execute_reply.started": "2023-02-20T19:27:24.689470Z"
    },
    "tags": []
   },
   "outputs": [
    {
     "data": {
      "application/vnd.jupyter.widget-view+json": {
       "model_id": "",
       "version_major": 2,
       "version_minor": 0
      },
      "text/plain": [
       "FloatProgress(value=0.0, bar_style='info', description='Progress:', layout=Layout(height='25px', width='50%'),…"
      ]
     },
     "metadata": {},
     "output_type": "display_data"
    },
    {
     "data": {
      "text/html": [
       "<style>.jp-OutputArea-child .jupyter-widgets.jp-OutputArea-output { overflow: auto; }</style>"
      ],
      "text/plain": [
       "<IPython.core.display.HTML object>"
      ]
     },
     "metadata": {},
     "output_type": "display_data"
    },
    {
     "data": {
      "application/vnd.jupyter.widget-view+json": {
       "model_id": "ab048689838a46fba64c4fdb7603f596",
       "version_major": 2,
       "version_minor": 0
      },
      "text/plain": [
       "VBox(children=(HBox(), EncodingWidget(children=(VBox(children=(HTML(value='Encoding:'), Dropdown(description='…"
      ]
     },
     "metadata": {},
     "output_type": "display_data"
    },
    {
     "data": {
      "application/vnd.jupyter.widget-view+json": {
       "model_id": "4a618d11c76e4f8bab2bbeaa1c3262e1",
       "version_major": 2,
       "version_minor": 0
      },
      "text/plain": [
       "Output()"
      ]
     },
     "metadata": {},
     "output_type": "display_data"
    }
   ],
   "source": [
    "%%sql\n",
    "UPDATE glue_catalog1.salesdb.orders\n",
    "SET qty = 10\n",
    "WHERE order_id = 5"
   ]
  },
  {
   "cell_type": "code",
   "execution_count": 24,
   "metadata": {
    "execution": {
     "iopub.execute_input": "2023-02-20T19:27:30.076933Z",
     "iopub.status.busy": "2023-02-20T19:27:30.076607Z",
     "iopub.status.idle": "2023-02-20T19:27:31.056468Z",
     "shell.execute_reply": "2023-02-20T19:27:31.055422Z",
     "shell.execute_reply.started": "2023-02-20T19:27:30.076903Z"
    },
    "tags": []
   },
   "outputs": [
    {
     "data": {
      "application/vnd.jupyter.widget-view+json": {
       "model_id": "",
       "version_major": 2,
       "version_minor": 0
      },
      "text/plain": [
       "FloatProgress(value=0.0, bar_style='info', description='Progress:', layout=Layout(height='25px', width='50%'),…"
      ]
     },
     "metadata": {},
     "output_type": "display_data"
    },
    {
     "data": {
      "text/html": [
       "<style>.jp-OutputArea-child .jupyter-widgets.jp-OutputArea-output { overflow: auto; }</style>"
      ],
      "text/plain": [
       "<IPython.core.display.HTML object>"
      ]
     },
     "metadata": {},
     "output_type": "display_data"
    },
    {
     "data": {
      "application/vnd.jupyter.widget-view+json": {
       "model_id": "c8591c3b5aa64395be0eaacf19707acd",
       "version_major": 2,
       "version_minor": 0
      },
      "text/plain": [
       "VBox(children=(HBox(children=(HTML(value='Type:'), Button(description='Table', layout=Layout(width='70px'), st…"
      ]
     },
     "metadata": {},
     "output_type": "display_data"
    },
    {
     "data": {
      "application/vnd.jupyter.widget-view+json": {
       "model_id": "cbb9742eff1240d2867925cc58839099",
       "version_major": 2,
       "version_minor": 0
      },
      "text/plain": [
       "Output()"
      ]
     },
     "metadata": {},
     "output_type": "display_data"
    }
   ],
   "source": [
    "%%sql\n",
    "select * from glue_catalog1.salesdb.orders"
   ]
  },
  {
   "cell_type": "markdown",
   "metadata": {},
   "source": [
    "As you can see below, Iceberg has added another snapshot with `overwrite` operation for updating the `qty` of Nintendo Switches."
   ]
  },
  {
   "cell_type": "code",
   "execution_count": 25,
   "metadata": {
    "execution": {
     "iopub.execute_input": "2023-02-20T19:27:31.059391Z",
     "iopub.status.busy": "2023-02-20T19:27:31.059093Z",
     "iopub.status.idle": "2023-02-20T19:27:31.504740Z",
     "shell.execute_reply": "2023-02-20T19:27:31.503763Z",
     "shell.execute_reply.started": "2023-02-20T19:27:31.059361Z"
    },
    "tags": []
   },
   "outputs": [
    {
     "data": {
      "application/vnd.jupyter.widget-view+json": {
       "model_id": "",
       "version_major": 2,
       "version_minor": 0
      },
      "text/plain": [
       "FloatProgress(value=0.0, bar_style='info', description='Progress:', layout=Layout(height='25px', width='50%'),…"
      ]
     },
     "metadata": {},
     "output_type": "display_data"
    },
    {
     "data": {
      "text/html": [
       "<style>.jp-OutputArea-child .jupyter-widgets.jp-OutputArea-output { overflow: auto; }</style>"
      ],
      "text/plain": [
       "<IPython.core.display.HTML object>"
      ]
     },
     "metadata": {},
     "output_type": "display_data"
    },
    {
     "data": {
      "application/vnd.jupyter.widget-view+json": {
       "model_id": "19941908768144d1a0723eb8cc34e823",
       "version_major": 2,
       "version_minor": 0
      },
      "text/plain": [
       "VBox(children=(HBox(children=(HTML(value='Type:'), Button(description='Table', layout=Layout(width='70px'), st…"
      ]
     },
     "metadata": {},
     "output_type": "display_data"
    },
    {
     "data": {
      "application/vnd.jupyter.widget-view+json": {
       "model_id": "b64d74a13666455682c035648b0b733b",
       "version_major": 2,
       "version_minor": 0
      },
      "text/plain": [
       "Output()"
      ]
     },
     "metadata": {},
     "output_type": "display_data"
    }
   ],
   "source": [
    "%%sql\n",
    "SELECT * FROM glue_catalog1.salesdb.orders.snapshots;"
   ]
  },
  {
   "cell_type": "markdown",
   "metadata": {},
   "source": [
    "<a id=\"upserts\"></a>\n",
    "### Upserts\n",
    "How about, if we get some incoming data and we don't know if those keys exist or not in our dataset? This is a common scenario when applying Change Data Capture(CDC) data on your data lake, for example. Iceberg makes it easy to merge both inserting new data and updating to existing data into your data lake with a single `MERGE INTO` statement.\n",
    "\n",
    "Before we look into the `MERGE INTO` statement, we first need some source data that has some new records to insert as well as some updates to existing records. We store this data in a table called `glue_catalog1.salesdb.orders_update`. First we create this table."
   ]
  },
  {
   "cell_type": "code",
   "execution_count": 26,
   "metadata": {
    "execution": {
     "iopub.execute_input": "2023-02-20T19:27:31.506292Z",
     "iopub.status.busy": "2023-02-20T19:27:31.505995Z",
     "iopub.status.idle": "2023-02-20T19:27:32.860800Z",
     "shell.execute_reply": "2023-02-20T19:27:32.859915Z",
     "shell.execute_reply.started": "2023-02-20T19:27:31.506262Z"
    },
    "tags": []
   },
   "outputs": [
    {
     "data": {
      "application/vnd.jupyter.widget-view+json": {
       "model_id": "",
       "version_major": 2,
       "version_minor": 0
      },
      "text/plain": [
       "FloatProgress(value=0.0, bar_style='info', description='Progress:', layout=Layout(height='25px', width='50%'),…"
      ]
     },
     "metadata": {},
     "output_type": "display_data"
    },
    {
     "data": {
      "text/html": [
       "<style>.jp-OutputArea-child .jupyter-widgets.jp-OutputArea-output { overflow: auto; }</style>"
      ],
      "text/plain": [
       "<IPython.core.display.HTML object>"
      ]
     },
     "metadata": {},
     "output_type": "display_data"
    },
    {
     "data": {
      "application/vnd.jupyter.widget-view+json": {
       "model_id": "0da6a8d022084da392bcc0aeffaa1da6",
       "version_major": 2,
       "version_minor": 0
      },
      "text/plain": [
       "VBox(children=(HBox(), EncodingWidget(children=(VBox(children=(HTML(value='Encoding:'), Dropdown(description='…"
      ]
     },
     "metadata": {},
     "output_type": "display_data"
    },
    {
     "data": {
      "application/vnd.jupyter.widget-view+json": {
       "model_id": "bfe42f44ecbf49db8d2fd341e57a656a",
       "version_major": 2,
       "version_minor": 0
      },
      "text/plain": [
       "Output()"
      ]
     },
     "metadata": {},
     "output_type": "display_data"
    }
   ],
   "source": [
    "%%sql\n",
    "drop table glue_catalog1.salesdb.orders_update;"
   ]
  },
  {
   "cell_type": "code",
   "execution_count": 27,
   "metadata": {
    "execution": {
     "iopub.execute_input": "2023-02-20T19:27:32.862202Z",
     "iopub.status.busy": "2023-02-20T19:27:32.861917Z",
     "iopub.status.idle": "2023-02-20T19:27:34.216934Z",
     "shell.execute_reply": "2023-02-20T19:27:34.216074Z",
     "shell.execute_reply.started": "2023-02-20T19:27:32.862172Z"
    },
    "tags": []
   },
   "outputs": [
    {
     "data": {
      "application/vnd.jupyter.widget-view+json": {
       "model_id": "",
       "version_major": 2,
       "version_minor": 0
      },
      "text/plain": [
       "FloatProgress(value=0.0, bar_style='info', description='Progress:', layout=Layout(height='25px', width='50%'),…"
      ]
     },
     "metadata": {},
     "output_type": "display_data"
    },
    {
     "data": {
      "text/html": [
       "<style>.jp-OutputArea-child .jupyter-widgets.jp-OutputArea-output { overflow: auto; }</style>"
      ],
      "text/plain": [
       "<IPython.core.display.HTML object>"
      ]
     },
     "metadata": {},
     "output_type": "display_data"
    },
    {
     "data": {
      "application/vnd.jupyter.widget-view+json": {
       "model_id": "ab199da967a94083952bf299e3a28ff3",
       "version_major": 2,
       "version_minor": 0
      },
      "text/plain": [
       "VBox(children=(HBox(), EncodingWidget(children=(VBox(children=(HTML(value='Encoding:'), Dropdown(description='…"
      ]
     },
     "metadata": {},
     "output_type": "display_data"
    },
    {
     "data": {
      "application/vnd.jupyter.widget-view+json": {
       "model_id": "45db1a0c156748c6a19e47d0228caef5",
       "version_major": 2,
       "version_minor": 0
      },
      "text/plain": [
       "Output()"
      ]
     },
     "metadata": {},
     "output_type": "display_data"
    }
   ],
   "source": [
    "%%sql\n",
    "create table glue_catalog1.salesdb.orders_update as select * from glue_catalog1.salesdb.orders limit 0;"
   ]
  },
  {
   "cell_type": "markdown",
   "metadata": {},
   "source": [
    "Let us assume that our CDC data comprises one new purchase of 10 books and an update of a previous order for shows. We add the CDC records to this table, one with a new new `order_id` (99) and one with existing `order_id` (3)."
   ]
  },
  {
   "cell_type": "code",
   "execution_count": 28,
   "metadata": {
    "execution": {
     "iopub.execute_input": "2023-02-20T19:27:34.218443Z",
     "iopub.status.busy": "2023-02-20T19:27:34.218155Z",
     "iopub.status.idle": "2023-02-20T19:27:36.577772Z",
     "shell.execute_reply": "2023-02-20T19:27:36.576883Z",
     "shell.execute_reply.started": "2023-02-20T19:27:34.218413Z"
    },
    "tags": []
   },
   "outputs": [
    {
     "data": {
      "application/vnd.jupyter.widget-view+json": {
       "model_id": "",
       "version_major": 2,
       "version_minor": 0
      },
      "text/plain": [
       "FloatProgress(value=0.0, bar_style='info', description='Progress:', layout=Layout(height='25px', width='50%'),…"
      ]
     },
     "metadata": {},
     "output_type": "display_data"
    },
    {
     "data": {
      "text/html": [
       "<style>.jp-OutputArea-child .jupyter-widgets.jp-OutputArea-output { overflow: auto; }</style>"
      ],
      "text/plain": [
       "<IPython.core.display.HTML object>"
      ]
     },
     "metadata": {},
     "output_type": "display_data"
    },
    {
     "data": {
      "application/vnd.jupyter.widget-view+json": {
       "model_id": "e5b36978afb1473093061ae76bffa934",
       "version_major": 2,
       "version_minor": 0
      },
      "text/plain": [
       "VBox(children=(HBox(), EncodingWidget(children=(VBox(children=(HTML(value='Encoding:'), Dropdown(description='…"
      ]
     },
     "metadata": {},
     "output_type": "display_data"
    },
    {
     "data": {
      "application/vnd.jupyter.widget-view+json": {
       "model_id": "27e74a0798c849aa946dd30c12e89c5c",
       "version_major": 2,
       "version_minor": 0
      },
      "text/plain": [
       "Output()"
      ]
     },
     "metadata": {},
     "output_type": "display_data"
    }
   ],
   "source": [
    "%%sql\n",
    "INSERT INTO glue_catalog1.salesdb.orders_update VALUES \n",
    "    (\n",
    "        3, \n",
    "        \"New Balance Mens 623 V3 Casual Comfort Cross Trainer\",\n",
    "        'Shoes',\n",
    "        2,\n",
    "        40.00,\n",
    "        current_timestamp()\n",
    "    ),\n",
    "    (\n",
    "        99, \n",
    "        'Harry Potter and the Sorcerers Stone',\n",
    "        'Books',\n",
    "        10,\n",
    "        9.99,\n",
    "        current_timestamp()\n",
    "    )"
   ]
  },
  {
   "cell_type": "code",
   "execution_count": 29,
   "metadata": {
    "execution": {
     "iopub.execute_input": "2023-02-20T19:27:36.579131Z",
     "iopub.status.busy": "2023-02-20T19:27:36.578846Z",
     "iopub.status.idle": "2023-02-20T19:27:37.536487Z",
     "shell.execute_reply": "2023-02-20T19:27:37.535633Z",
     "shell.execute_reply.started": "2023-02-20T19:27:36.579101Z"
    },
    "tags": []
   },
   "outputs": [
    {
     "data": {
      "application/vnd.jupyter.widget-view+json": {
       "model_id": "",
       "version_major": 2,
       "version_minor": 0
      },
      "text/plain": [
       "FloatProgress(value=0.0, bar_style='info', description='Progress:', layout=Layout(height='25px', width='50%'),…"
      ]
     },
     "metadata": {},
     "output_type": "display_data"
    },
    {
     "data": {
      "text/html": [
       "<style>.jp-OutputArea-child .jupyter-widgets.jp-OutputArea-output { overflow: auto; }</style>"
      ],
      "text/plain": [
       "<IPython.core.display.HTML object>"
      ]
     },
     "metadata": {},
     "output_type": "display_data"
    },
    {
     "data": {
      "application/vnd.jupyter.widget-view+json": {
       "model_id": "2f16509fba694e46bb70adfd772bd806",
       "version_major": 2,
       "version_minor": 0
      },
      "text/plain": [
       "VBox(children=(HBox(children=(HTML(value='Type:'), Button(description='Table', layout=Layout(width='70px'), st…"
      ]
     },
     "metadata": {},
     "output_type": "display_data"
    },
    {
     "data": {
      "application/vnd.jupyter.widget-view+json": {
       "model_id": "7d0ec914158a446d81d606b00c18e6a0",
       "version_major": 2,
       "version_minor": 0
      },
      "text/plain": [
       "Output()"
      ]
     },
     "metadata": {},
     "output_type": "display_data"
    }
   ],
   "source": [
    "%%sql\n",
    "select * from glue_catalog1.salesdb.orders_update;"
   ]
  },
  {
   "cell_type": "markdown",
   "metadata": {},
   "source": [
    "Now that we have our source data ready, we can now use the `MERGE INTO` statement to upsert data to our `orders` table."
   ]
  },
  {
   "cell_type": "code",
   "execution_count": 30,
   "metadata": {
    "execution": {
     "iopub.execute_input": "2023-02-20T19:27:37.537874Z",
     "iopub.status.busy": "2023-02-20T19:27:37.537592Z",
     "iopub.status.idle": "2023-02-20T19:27:42.914639Z",
     "shell.execute_reply": "2023-02-20T19:27:42.913768Z",
     "shell.execute_reply.started": "2023-02-20T19:27:37.537845Z"
    },
    "tags": []
   },
   "outputs": [
    {
     "data": {
      "application/vnd.jupyter.widget-view+json": {
       "model_id": "",
       "version_major": 2,
       "version_minor": 0
      },
      "text/plain": [
       "FloatProgress(value=0.0, bar_style='info', description='Progress:', layout=Layout(height='25px', width='50%'),…"
      ]
     },
     "metadata": {},
     "output_type": "display_data"
    },
    {
     "data": {
      "text/html": [
       "<style>.jp-OutputArea-child .jupyter-widgets.jp-OutputArea-output { overflow: auto; }</style>"
      ],
      "text/plain": [
       "<IPython.core.display.HTML object>"
      ]
     },
     "metadata": {},
     "output_type": "display_data"
    },
    {
     "data": {
      "application/vnd.jupyter.widget-view+json": {
       "model_id": "ba426b3c2cd0409789cd86db5daf0cd5",
       "version_major": 2,
       "version_minor": 0
      },
      "text/plain": [
       "VBox(children=(HBox(), EncodingWidget(children=(VBox(children=(HTML(value='Encoding:'), Dropdown(description='…"
      ]
     },
     "metadata": {},
     "output_type": "display_data"
    },
    {
     "data": {
      "application/vnd.jupyter.widget-view+json": {
       "model_id": "3b444d0070a74809a1b01138493dda39",
       "version_major": 2,
       "version_minor": 0
      },
      "text/plain": [
       "Output()"
      ]
     },
     "metadata": {},
     "output_type": "display_data"
    }
   ],
   "source": [
    "%%sql\n",
    "MERGE INTO glue_catalog1.salesdb.orders target \n",
    "USING glue_catalog1.salesdb.orders_update source          \n",
    "ON target.order_id = source.order_id              \n",
    "WHEN MATCHED THEN \n",
    "    UPDATE SET\n",
    "        order_id = source.order_id,\n",
    "        product_name = source.product_name,\n",
    "        product_category = source.product_category,\n",
    "        qty = source.qty,\n",
    "        unit_price = source.unit_price,\n",
    "        order_datetime = source.order_datetime\n",
    "WHEN NOT MATCHED THEN\n",
    "    INSERT *"
   ]
  },
  {
   "cell_type": "code",
   "execution_count": 31,
   "metadata": {
    "execution": {
     "iopub.execute_input": "2023-02-20T19:27:42.916023Z",
     "iopub.status.busy": "2023-02-20T19:27:42.915741Z",
     "iopub.status.idle": "2023-02-20T19:27:43.868899Z",
     "shell.execute_reply": "2023-02-20T19:27:43.867874Z",
     "shell.execute_reply.started": "2023-02-20T19:27:42.915994Z"
    },
    "tags": []
   },
   "outputs": [
    {
     "data": {
      "application/vnd.jupyter.widget-view+json": {
       "model_id": "",
       "version_major": 2,
       "version_minor": 0
      },
      "text/plain": [
       "FloatProgress(value=0.0, bar_style='info', description='Progress:', layout=Layout(height='25px', width='50%'),…"
      ]
     },
     "metadata": {},
     "output_type": "display_data"
    },
    {
     "data": {
      "text/html": [
       "<style>.jp-OutputArea-child .jupyter-widgets.jp-OutputArea-output { overflow: auto; }</style>"
      ],
      "text/plain": [
       "<IPython.core.display.HTML object>"
      ]
     },
     "metadata": {},
     "output_type": "display_data"
    },
    {
     "data": {
      "application/vnd.jupyter.widget-view+json": {
       "model_id": "fba295d80edc46a5bb280ec4faca861e",
       "version_major": 2,
       "version_minor": 0
      },
      "text/plain": [
       "VBox(children=(HBox(children=(HTML(value='Type:'), Button(description='Table', layout=Layout(width='70px'), st…"
      ]
     },
     "metadata": {},
     "output_type": "display_data"
    },
    {
     "data": {
      "application/vnd.jupyter.widget-view+json": {
       "model_id": "4071a50f2514446a90a7744d05760147",
       "version_major": 2,
       "version_minor": 0
      },
      "text/plain": [
       "Output()"
      ]
     },
     "metadata": {},
     "output_type": "display_data"
    }
   ],
   "source": [
    "%%sql\n",
    "select * from glue_catalog1.salesdb.orders;"
   ]
  },
  {
   "cell_type": "markdown",
   "metadata": {},
   "source": [
    "Iceberg also lets us query the metadata such as the actual `files` that are created including `file_format`, `partition` and lot more statistics as shown below. These can be handy when troubleshooting data quality and performance issues."
   ]
  },
  {
   "cell_type": "code",
   "execution_count": 32,
   "metadata": {
    "execution": {
     "iopub.execute_input": "2023-02-20T19:27:43.870438Z",
     "iopub.status.busy": "2023-02-20T19:27:43.870147Z",
     "iopub.status.idle": "2023-02-20T19:27:45.414278Z",
     "shell.execute_reply": "2023-02-20T19:27:45.413444Z",
     "shell.execute_reply.started": "2023-02-20T19:27:43.870409Z"
    },
    "tags": []
   },
   "outputs": [
    {
     "data": {
      "application/vnd.jupyter.widget-view+json": {
       "model_id": "",
       "version_major": 2,
       "version_minor": 0
      },
      "text/plain": [
       "FloatProgress(value=0.0, bar_style='info', description='Progress:', layout=Layout(height='25px', width='50%'),…"
      ]
     },
     "metadata": {},
     "output_type": "display_data"
    },
    {
     "data": {
      "text/html": [
       "<style>.jp-OutputArea-child .jupyter-widgets.jp-OutputArea-output { overflow: auto; }</style>"
      ],
      "text/plain": [
       "<IPython.core.display.HTML object>"
      ]
     },
     "metadata": {},
     "output_type": "display_data"
    },
    {
     "data": {
      "application/vnd.jupyter.widget-view+json": {
       "model_id": "dd37de2dadb041ba833140a9ca2e89ae",
       "version_major": 2,
       "version_minor": 0
      },
      "text/plain": [
       "VBox(children=(HBox(children=(HTML(value='Type:'), Button(description='Table', layout=Layout(width='70px'), st…"
      ]
     },
     "metadata": {},
     "output_type": "display_data"
    },
    {
     "data": {
      "application/vnd.jupyter.widget-view+json": {
       "model_id": "cab9b5a6a1e64a4581d3642ee3dd66cd",
       "version_major": 2,
       "version_minor": 0
      },
      "text/plain": [
       "Output()"
      ]
     },
     "metadata": {},
     "output_type": "display_data"
    }
   ],
   "source": [
    "%%sql\n",
    "SELECT * FROM glue_catalog1.salesdb.orders.files;"
   ]
  },
  {
   "cell_type": "markdown",
   "metadata": {},
   "source": [
    "<a id=\"schema_evolution\"></a>\n",
    "## Schema Evolution\n",
    "Borrowing from the way columns work in databases, Iceberg tracks columns by using unique IDs and not by the column name. As long as the ID is the same, all the data still remains. You can safely add, drop, rename, update, or even reorder columns. You don’t have to rewrite the data for this. Schema evolution gets first class citizen treatment in Iceberg. Your ingest and read queries now have the freedom to be evolved without having to hide the schema inside JSON blobs."
   ]
  },
  {
   "cell_type": "markdown",
   "metadata": {},
   "source": [
    "<a id=\"renaming_columns\"></a>\n",
    "### Renaming Columns\n",
    "In Iceberg, since columns are not tracked by name, but using unique IDs instead, renaming a column is a simple metadata change. There is no data movement. Data lakes are increasingly looking like databases!"
   ]
  },
  {
   "cell_type": "code",
   "execution_count": 33,
   "metadata": {
    "execution": {
     "iopub.execute_input": "2023-02-20T19:27:45.415678Z",
     "iopub.status.busy": "2023-02-20T19:27:45.415399Z",
     "iopub.status.idle": "2023-02-20T19:27:46.792563Z",
     "shell.execute_reply": "2023-02-20T19:27:46.791664Z",
     "shell.execute_reply.started": "2023-02-20T19:27:45.415649Z"
    },
    "tags": []
   },
   "outputs": [
    {
     "data": {
      "application/vnd.jupyter.widget-view+json": {
       "model_id": "",
       "version_major": 2,
       "version_minor": 0
      },
      "text/plain": [
       "FloatProgress(value=0.0, bar_style='info', description='Progress:', layout=Layout(height='25px', width='50%'),…"
      ]
     },
     "metadata": {},
     "output_type": "display_data"
    },
    {
     "data": {
      "text/html": [
       "<style>.jp-OutputArea-child .jupyter-widgets.jp-OutputArea-output { overflow: auto; }</style>"
      ],
      "text/plain": [
       "<IPython.core.display.HTML object>"
      ]
     },
     "metadata": {},
     "output_type": "display_data"
    },
    {
     "data": {
      "application/vnd.jupyter.widget-view+json": {
       "model_id": "277b98bae9e44b0e8b84af968203ba57",
       "version_major": 2,
       "version_minor": 0
      },
      "text/plain": [
       "VBox(children=(HBox(), EncodingWidget(children=(VBox(children=(HTML(value='Encoding:'), Dropdown(description='…"
      ]
     },
     "metadata": {},
     "output_type": "display_data"
    },
    {
     "data": {
      "application/vnd.jupyter.widget-view+json": {
       "model_id": "0da12dc4807c4e2ab637ad8f458ee690",
       "version_major": 2,
       "version_minor": 0
      },
      "text/plain": [
       "Output()"
      ]
     },
     "metadata": {},
     "output_type": "display_data"
    }
   ],
   "source": [
    "%%sql\n",
    "ALTER TABLE glue_catalog1.salesdb.orders RENAME COLUMN qty TO quantity"
   ]
  },
  {
   "cell_type": "code",
   "execution_count": 34,
   "metadata": {
    "execution": {
     "iopub.execute_input": "2023-02-20T19:27:46.793968Z",
     "iopub.status.busy": "2023-02-20T19:27:46.793679Z",
     "iopub.status.idle": "2023-02-20T19:27:47.749951Z",
     "shell.execute_reply": "2023-02-20T19:27:47.748906Z",
     "shell.execute_reply.started": "2023-02-20T19:27:46.793938Z"
    },
    "tags": []
   },
   "outputs": [
    {
     "data": {
      "application/vnd.jupyter.widget-view+json": {
       "model_id": "",
       "version_major": 2,
       "version_minor": 0
      },
      "text/plain": [
       "FloatProgress(value=0.0, bar_style='info', description='Progress:', layout=Layout(height='25px', width='50%'),…"
      ]
     },
     "metadata": {},
     "output_type": "display_data"
    },
    {
     "data": {
      "text/html": [
       "<style>.jp-OutputArea-child .jupyter-widgets.jp-OutputArea-output { overflow: auto; }</style>"
      ],
      "text/plain": [
       "<IPython.core.display.HTML object>"
      ]
     },
     "metadata": {},
     "output_type": "display_data"
    },
    {
     "data": {
      "application/vnd.jupyter.widget-view+json": {
       "model_id": "f9ae9cce156c4448903e7de2bde669ee",
       "version_major": 2,
       "version_minor": 0
      },
      "text/plain": [
       "VBox(children=(HBox(children=(HTML(value='Type:'), Button(description='Table', layout=Layout(width='70px'), st…"
      ]
     },
     "metadata": {},
     "output_type": "display_data"
    },
    {
     "data": {
      "application/vnd.jupyter.widget-view+json": {
       "model_id": "a758a7460e0a4c05a124fbdabd0696b8",
       "version_major": 2,
       "version_minor": 0
      },
      "text/plain": [
       "Output()"
      ]
     },
     "metadata": {},
     "output_type": "display_data"
    }
   ],
   "source": [
    "%%sql\n",
    "desc table glue_catalog1.salesdb.orders"
   ]
  },
  {
   "cell_type": "markdown",
   "metadata": {},
   "source": [
    "No new snapshots created for a DDL operation like a column rename. Snapshots are created only when there is a change in the data."
   ]
  },
  {
   "cell_type": "code",
   "execution_count": 35,
   "metadata": {
    "execution": {
     "iopub.execute_input": "2023-02-20T19:27:47.751369Z",
     "iopub.status.busy": "2023-02-20T19:27:47.751081Z",
     "iopub.status.idle": "2023-02-20T19:27:48.218079Z",
     "shell.execute_reply": "2023-02-20T19:27:48.216894Z",
     "shell.execute_reply.started": "2023-02-20T19:27:47.751340Z"
    },
    "tags": []
   },
   "outputs": [
    {
     "data": {
      "application/vnd.jupyter.widget-view+json": {
       "model_id": "",
       "version_major": 2,
       "version_minor": 0
      },
      "text/plain": [
       "FloatProgress(value=0.0, bar_style='info', description='Progress:', layout=Layout(height='25px', width='50%'),…"
      ]
     },
     "metadata": {},
     "output_type": "display_data"
    },
    {
     "data": {
      "text/html": [
       "<style>.jp-OutputArea-child .jupyter-widgets.jp-OutputArea-output { overflow: auto; }</style>"
      ],
      "text/plain": [
       "<IPython.core.display.HTML object>"
      ]
     },
     "metadata": {},
     "output_type": "display_data"
    },
    {
     "data": {
      "application/vnd.jupyter.widget-view+json": {
       "model_id": "c62e7a903c7f42f6883fc467696a8de8",
       "version_major": 2,
       "version_minor": 0
      },
      "text/plain": [
       "VBox(children=(HBox(children=(HTML(value='Type:'), Button(description='Table', layout=Layout(width='70px'), st…"
      ]
     },
     "metadata": {},
     "output_type": "display_data"
    },
    {
     "data": {
      "application/vnd.jupyter.widget-view+json": {
       "model_id": "5c1eb67767db47e58b0aaca66849892e",
       "version_major": 2,
       "version_minor": 0
      },
      "text/plain": [
       "Output()"
      ]
     },
     "metadata": {},
     "output_type": "display_data"
    }
   ],
   "source": [
    "%%sql\n",
    "SELECT * FROM glue_catalog1.salesdb.orders.snapshots;"
   ]
  },
  {
   "cell_type": "markdown",
   "metadata": {},
   "source": [
    "Let us check what is in our table."
   ]
  },
  {
   "cell_type": "code",
   "execution_count": 36,
   "metadata": {
    "execution": {
     "iopub.execute_input": "2023-02-20T19:27:48.219694Z",
     "iopub.status.busy": "2023-02-20T19:27:48.219307Z",
     "iopub.status.idle": "2023-02-20T19:27:49.185738Z",
     "shell.execute_reply": "2023-02-20T19:27:49.184634Z",
     "shell.execute_reply.started": "2023-02-20T19:27:48.219657Z"
    },
    "tags": []
   },
   "outputs": [
    {
     "data": {
      "application/vnd.jupyter.widget-view+json": {
       "model_id": "",
       "version_major": 2,
       "version_minor": 0
      },
      "text/plain": [
       "FloatProgress(value=0.0, bar_style='info', description='Progress:', layout=Layout(height='25px', width='50%'),…"
      ]
     },
     "metadata": {},
     "output_type": "display_data"
    },
    {
     "data": {
      "text/html": [
       "<style>.jp-OutputArea-child .jupyter-widgets.jp-OutputArea-output { overflow: auto; }</style>"
      ],
      "text/plain": [
       "<IPython.core.display.HTML object>"
      ]
     },
     "metadata": {},
     "output_type": "display_data"
    },
    {
     "data": {
      "application/vnd.jupyter.widget-view+json": {
       "model_id": "6bc5e08198864b80b85cef3f716e085e",
       "version_major": 2,
       "version_minor": 0
      },
      "text/plain": [
       "VBox(children=(HBox(children=(HTML(value='Type:'), Button(description='Table', layout=Layout(width='70px'), st…"
      ]
     },
     "metadata": {},
     "output_type": "display_data"
    },
    {
     "data": {
      "application/vnd.jupyter.widget-view+json": {
       "model_id": "d4960717bfec4da586c25619408ff067",
       "version_major": 2,
       "version_minor": 0
      },
      "text/plain": [
       "Output()"
      ]
     },
     "metadata": {},
     "output_type": "display_data"
    }
   ],
   "source": [
    "%%sql\n",
    "select * from glue_catalog1.salesdb.orders"
   ]
  },
  {
   "cell_type": "markdown",
   "metadata": {},
   "source": [
    "<a id=\"adding_columns\"></a>\n",
    "### Adding Columns\n",
    "Now we are going to add another column called `discount`. Iceberg also allows documenting the purpose for each column as `comment`, which helps a lot in a collaborative environment and quick lookup of data from business users."
   ]
  },
  {
   "cell_type": "code",
   "execution_count": 37,
   "metadata": {
    "execution": {
     "iopub.execute_input": "2023-02-20T19:27:49.187351Z",
     "iopub.status.busy": "2023-02-20T19:27:49.187037Z",
     "iopub.status.idle": "2023-02-20T19:27:50.554799Z",
     "shell.execute_reply": "2023-02-20T19:27:50.553969Z",
     "shell.execute_reply.started": "2023-02-20T19:27:49.187320Z"
    },
    "tags": []
   },
   "outputs": [
    {
     "data": {
      "application/vnd.jupyter.widget-view+json": {
       "model_id": "",
       "version_major": 2,
       "version_minor": 0
      },
      "text/plain": [
       "FloatProgress(value=0.0, bar_style='info', description='Progress:', layout=Layout(height='25px', width='50%'),…"
      ]
     },
     "metadata": {},
     "output_type": "display_data"
    },
    {
     "data": {
      "text/html": [
       "<style>.jp-OutputArea-child .jupyter-widgets.jp-OutputArea-output { overflow: auto; }</style>"
      ],
      "text/plain": [
       "<IPython.core.display.HTML object>"
      ]
     },
     "metadata": {},
     "output_type": "display_data"
    },
    {
     "data": {
      "application/vnd.jupyter.widget-view+json": {
       "model_id": "fbedcea6540948748f83594688ef0927",
       "version_major": 2,
       "version_minor": 0
      },
      "text/plain": [
       "VBox(children=(HBox(), EncodingWidget(children=(VBox(children=(HTML(value='Encoding:'), Dropdown(description='…"
      ]
     },
     "metadata": {},
     "output_type": "display_data"
    },
    {
     "data": {
      "application/vnd.jupyter.widget-view+json": {
       "model_id": "81118a9f40eb47409cbc379b8b22377a",
       "version_major": 2,
       "version_minor": 0
      },
      "text/plain": [
       "Output()"
      ]
     },
     "metadata": {},
     "output_type": "display_data"
    }
   ],
   "source": [
    "%%sql\n",
    "ALTER TABLE glue_catalog1.salesdb.orders\n",
    "ADD COLUMNS (\n",
    "    discount decimal(7,2) comment 'discount applied to this order'\n",
    "  )"
   ]
  },
  {
   "cell_type": "markdown",
   "metadata": {},
   "source": [
    "However, as you can see below, when querying the table, the new column does not get displayed yet. In Iceberg tables the columns that do not have any data in your query results, do not show up in the output."
   ]
  },
  {
   "cell_type": "code",
   "execution_count": 38,
   "metadata": {
    "execution": {
     "iopub.execute_input": "2023-02-20T19:27:50.556109Z",
     "iopub.status.busy": "2023-02-20T19:27:50.555818Z",
     "iopub.status.idle": "2023-02-20T19:27:51.524801Z",
     "shell.execute_reply": "2023-02-20T19:27:51.523821Z",
     "shell.execute_reply.started": "2023-02-20T19:27:50.556079Z"
    },
    "tags": []
   },
   "outputs": [
    {
     "data": {
      "application/vnd.jupyter.widget-view+json": {
       "model_id": "",
       "version_major": 2,
       "version_minor": 0
      },
      "text/plain": [
       "FloatProgress(value=0.0, bar_style='info', description='Progress:', layout=Layout(height='25px', width='50%'),…"
      ]
     },
     "metadata": {},
     "output_type": "display_data"
    },
    {
     "data": {
      "text/html": [
       "<style>.jp-OutputArea-child .jupyter-widgets.jp-OutputArea-output { overflow: auto; }</style>"
      ],
      "text/plain": [
       "<IPython.core.display.HTML object>"
      ]
     },
     "metadata": {},
     "output_type": "display_data"
    },
    {
     "data": {
      "application/vnd.jupyter.widget-view+json": {
       "model_id": "ddad85ba760840aa9988e067c72be1c4",
       "version_major": 2,
       "version_minor": 0
      },
      "text/plain": [
       "VBox(children=(HBox(children=(HTML(value='Type:'), Button(description='Table', layout=Layout(width='70px'), st…"
      ]
     },
     "metadata": {},
     "output_type": "display_data"
    },
    {
     "data": {
      "application/vnd.jupyter.widget-view+json": {
       "model_id": "4a69f769c62141fd96c48d97597c8e35",
       "version_major": 2,
       "version_minor": 0
      },
      "text/plain": [
       "Output()"
      ]
     },
     "metadata": {},
     "output_type": "display_data"
    }
   ],
   "source": [
    "%%sql\n",
    "select * from glue_catalog1.salesdb.orders"
   ]
  },
  {
   "cell_type": "markdown",
   "metadata": {},
   "source": [
    "However, we can describe our table to see that a new column `discount` did get added."
   ]
  },
  {
   "cell_type": "code",
   "execution_count": 39,
   "metadata": {
    "execution": {
     "iopub.execute_input": "2023-02-20T19:27:51.526163Z",
     "iopub.status.busy": "2023-02-20T19:27:51.525885Z",
     "iopub.status.idle": "2023-02-20T19:27:52.485348Z",
     "shell.execute_reply": "2023-02-20T19:27:52.484449Z",
     "shell.execute_reply.started": "2023-02-20T19:27:51.526134Z"
    },
    "tags": []
   },
   "outputs": [
    {
     "data": {
      "application/vnd.jupyter.widget-view+json": {
       "model_id": "",
       "version_major": 2,
       "version_minor": 0
      },
      "text/plain": [
       "FloatProgress(value=0.0, bar_style='info', description='Progress:', layout=Layout(height='25px', width='50%'),…"
      ]
     },
     "metadata": {},
     "output_type": "display_data"
    },
    {
     "data": {
      "text/html": [
       "<style>.jp-OutputArea-child .jupyter-widgets.jp-OutputArea-output { overflow: auto; }</style>"
      ],
      "text/plain": [
       "<IPython.core.display.HTML object>"
      ]
     },
     "metadata": {},
     "output_type": "display_data"
    },
    {
     "data": {
      "application/vnd.jupyter.widget-view+json": {
       "model_id": "ff24cf7478834973a661a65d333bfa19",
       "version_major": 2,
       "version_minor": 0
      },
      "text/plain": [
       "VBox(children=(HBox(children=(HTML(value='Type:'), Button(description='Table', layout=Layout(width='70px'), st…"
      ]
     },
     "metadata": {},
     "output_type": "display_data"
    },
    {
     "data": {
      "application/vnd.jupyter.widget-view+json": {
       "model_id": "c83832dd52ae42b99fe6644ff3a64997",
       "version_major": 2,
       "version_minor": 0
      },
      "text/plain": [
       "Output()"
      ]
     },
     "metadata": {},
     "output_type": "display_data"
    }
   ],
   "source": [
    "%%sql\n",
    "desc glue_catalog1.salesdb.orders"
   ]
  },
  {
   "cell_type": "markdown",
   "metadata": {},
   "source": [
    "Let us now insert another record with a value added for the `discount` column. Our customer here has earned the right to get a discount as they are purchasing the entire set of the Harry Potter series!"
   ]
  },
  {
   "cell_type": "code",
   "execution_count": 40,
   "metadata": {
    "execution": {
     "iopub.execute_input": "2023-02-20T19:27:52.486747Z",
     "iopub.status.busy": "2023-02-20T19:27:52.486458Z",
     "iopub.status.idle": "2023-02-20T19:27:53.852732Z",
     "shell.execute_reply": "2023-02-20T19:27:53.851599Z",
     "shell.execute_reply.started": "2023-02-20T19:27:52.486717Z"
    },
    "tags": []
   },
   "outputs": [
    {
     "data": {
      "application/vnd.jupyter.widget-view+json": {
       "model_id": "",
       "version_major": 2,
       "version_minor": 0
      },
      "text/plain": [
       "FloatProgress(value=0.0, bar_style='info', description='Progress:', layout=Layout(height='25px', width='50%'),…"
      ]
     },
     "metadata": {},
     "output_type": "display_data"
    },
    {
     "data": {
      "text/html": [
       "<style>.jp-OutputArea-child .jupyter-widgets.jp-OutputArea-output { overflow: auto; }</style>"
      ],
      "text/plain": [
       "<IPython.core.display.HTML object>"
      ]
     },
     "metadata": {},
     "output_type": "display_data"
    },
    {
     "data": {
      "application/vnd.jupyter.widget-view+json": {
       "model_id": "dd05b81996864ee798b0d75358aa92c9",
       "version_major": 2,
       "version_minor": 0
      },
      "text/plain": [
       "VBox(children=(HBox(), EncodingWidget(children=(VBox(children=(HTML(value='Encoding:'), Dropdown(description='…"
      ]
     },
     "metadata": {},
     "output_type": "display_data"
    },
    {
     "data": {
      "application/vnd.jupyter.widget-view+json": {
       "model_id": "5aa9ee11d1814e37943182c6ba42dab3",
       "version_major": 2,
       "version_minor": 0
      },
      "text/plain": [
       "Output()"
      ]
     },
     "metadata": {},
     "output_type": "display_data"
    }
   ],
   "source": [
    "%%sql\n",
    "INSERT INTO glue_catalog1.salesdb.orders VALUES \n",
    "    (\n",
    "        6, \n",
    "        'Harry Potter Paperback Box Set',\n",
    "        'Books',\n",
    "        1,\n",
    "        39.99,\n",
    "        current_timestamp(),\n",
    "        0.1\n",
    "    )"
   ]
  },
  {
   "cell_type": "markdown",
   "metadata": {},
   "source": [
    "Now you can see that the `discount` column shows up, when querying."
   ]
  },
  {
   "cell_type": "code",
   "execution_count": 41,
   "metadata": {
    "execution": {
     "iopub.execute_input": "2023-02-20T19:27:53.854258Z",
     "iopub.status.busy": "2023-02-20T19:27:53.853953Z",
     "iopub.status.idle": "2023-02-20T19:27:54.810525Z",
     "shell.execute_reply": "2023-02-20T19:27:54.809536Z",
     "shell.execute_reply.started": "2023-02-20T19:27:53.854229Z"
    },
    "tags": []
   },
   "outputs": [
    {
     "data": {
      "application/vnd.jupyter.widget-view+json": {
       "model_id": "",
       "version_major": 2,
       "version_minor": 0
      },
      "text/plain": [
       "FloatProgress(value=0.0, bar_style='info', description='Progress:', layout=Layout(height='25px', width='50%'),…"
      ]
     },
     "metadata": {},
     "output_type": "display_data"
    },
    {
     "data": {
      "text/html": [
       "<style>.jp-OutputArea-child .jupyter-widgets.jp-OutputArea-output { overflow: auto; }</style>"
      ],
      "text/plain": [
       "<IPython.core.display.HTML object>"
      ]
     },
     "metadata": {},
     "output_type": "display_data"
    },
    {
     "data": {
      "application/vnd.jupyter.widget-view+json": {
       "model_id": "55e3783537e9425ebdab472ce7056a60",
       "version_major": 2,
       "version_minor": 0
      },
      "text/plain": [
       "VBox(children=(HBox(children=(HTML(value='Type:'), Button(description='Table', layout=Layout(width='70px'), st…"
      ]
     },
     "metadata": {},
     "output_type": "display_data"
    },
    {
     "data": {
      "application/vnd.jupyter.widget-view+json": {
       "model_id": "6e92d61311eb46aebee4eb723491a838",
       "version_major": 2,
       "version_minor": 0
      },
      "text/plain": [
       "Output()"
      ]
     },
     "metadata": {},
     "output_type": "display_data"
    }
   ],
   "source": [
    "%%sql\n",
    "select * from glue_catalog1.salesdb.orders"
   ]
  },
  {
   "cell_type": "markdown",
   "metadata": {},
   "source": [
    "<a id=\"dropping_columns\"></a>\n",
    "### Dropping Columns\n",
    "Now, there is a change in business requirements, we are not interested in the `discount` column anymore and need to remove that column from our table. Iceberg allows us to do that easily."
   ]
  },
  {
   "cell_type": "code",
   "execution_count": 42,
   "metadata": {
    "execution": {
     "iopub.execute_input": "2023-02-20T19:27:54.812377Z",
     "iopub.status.busy": "2023-02-20T19:27:54.811995Z",
     "iopub.status.idle": "2023-02-20T19:27:56.188164Z",
     "shell.execute_reply": "2023-02-20T19:27:56.187206Z",
     "shell.execute_reply.started": "2023-02-20T19:27:54.812335Z"
    },
    "tags": []
   },
   "outputs": [
    {
     "data": {
      "application/vnd.jupyter.widget-view+json": {
       "model_id": "",
       "version_major": 2,
       "version_minor": 0
      },
      "text/plain": [
       "FloatProgress(value=0.0, bar_style='info', description='Progress:', layout=Layout(height='25px', width='50%'),…"
      ]
     },
     "metadata": {},
     "output_type": "display_data"
    },
    {
     "data": {
      "text/html": [
       "<style>.jp-OutputArea-child .jupyter-widgets.jp-OutputArea-output { overflow: auto; }</style>"
      ],
      "text/plain": [
       "<IPython.core.display.HTML object>"
      ]
     },
     "metadata": {},
     "output_type": "display_data"
    },
    {
     "data": {
      "application/vnd.jupyter.widget-view+json": {
       "model_id": "649e2495b7ee4532be7912d03c3e8d9d",
       "version_major": 2,
       "version_minor": 0
      },
      "text/plain": [
       "VBox(children=(HBox(), EncodingWidget(children=(VBox(children=(HTML(value='Encoding:'), Dropdown(description='…"
      ]
     },
     "metadata": {},
     "output_type": "display_data"
    },
    {
     "data": {
      "application/vnd.jupyter.widget-view+json": {
       "model_id": "2a147f21a8b54dd4961c21e4f237a123",
       "version_major": 2,
       "version_minor": 0
      },
      "text/plain": [
       "Output()"
      ]
     },
     "metadata": {},
     "output_type": "display_data"
    }
   ],
   "source": [
    "%%sql\n",
    "ALTER TABLE glue_catalog1.salesdb.orders\n",
    "DROP COLUMN discount"
   ]
  },
  {
   "cell_type": "code",
   "execution_count": 43,
   "metadata": {
    "execution": {
     "iopub.execute_input": "2023-02-20T19:27:56.189683Z",
     "iopub.status.busy": "2023-02-20T19:27:56.189340Z",
     "iopub.status.idle": "2023-02-20T19:27:57.143902Z",
     "shell.execute_reply": "2023-02-20T19:27:57.143064Z",
     "shell.execute_reply.started": "2023-02-20T19:27:56.189634Z"
    },
    "tags": []
   },
   "outputs": [
    {
     "data": {
      "application/vnd.jupyter.widget-view+json": {
       "model_id": "",
       "version_major": 2,
       "version_minor": 0
      },
      "text/plain": [
       "FloatProgress(value=0.0, bar_style='info', description='Progress:', layout=Layout(height='25px', width='50%'),…"
      ]
     },
     "metadata": {},
     "output_type": "display_data"
    },
    {
     "data": {
      "text/html": [
       "<style>.jp-OutputArea-child .jupyter-widgets.jp-OutputArea-output { overflow: auto; }</style>"
      ],
      "text/plain": [
       "<IPython.core.display.HTML object>"
      ]
     },
     "metadata": {},
     "output_type": "display_data"
    },
    {
     "data": {
      "application/vnd.jupyter.widget-view+json": {
       "model_id": "c3b63b7d6c1448ff9c45ae45fa2dcc56",
       "version_major": 2,
       "version_minor": 0
      },
      "text/plain": [
       "VBox(children=(HBox(children=(HTML(value='Type:'), Button(description='Table', layout=Layout(width='70px'), st…"
      ]
     },
     "metadata": {},
     "output_type": "display_data"
    },
    {
     "data": {
      "application/vnd.jupyter.widget-view+json": {
       "model_id": "7fe24e8a3c32430d8f3c014061e82dd0",
       "version_major": 2,
       "version_minor": 0
      },
      "text/plain": [
       "Output()"
      ]
     },
     "metadata": {},
     "output_type": "display_data"
    }
   ],
   "source": [
    "%%sql\n",
    "select * from glue_catalog1.salesdb.orders"
   ]
  },
  {
   "cell_type": "markdown",
   "metadata": {},
   "source": [
    "Dropping a column is purely a metadata operation in Iceberg. No new snapshots are created. Let us take a look at our snapshots before getting into Time Travel."
   ]
  },
  {
   "cell_type": "code",
   "execution_count": 44,
   "metadata": {
    "execution": {
     "iopub.execute_input": "2023-02-20T19:27:57.145309Z",
     "iopub.status.busy": "2023-02-20T19:27:57.144970Z",
     "iopub.status.idle": "2023-02-20T19:27:57.584740Z",
     "shell.execute_reply": "2023-02-20T19:27:57.583896Z",
     "shell.execute_reply.started": "2023-02-20T19:27:57.145279Z"
    },
    "tags": []
   },
   "outputs": [
    {
     "data": {
      "application/vnd.jupyter.widget-view+json": {
       "model_id": "",
       "version_major": 2,
       "version_minor": 0
      },
      "text/plain": [
       "FloatProgress(value=0.0, bar_style='info', description='Progress:', layout=Layout(height='25px', width='50%'),…"
      ]
     },
     "metadata": {},
     "output_type": "display_data"
    },
    {
     "data": {
      "text/html": [
       "<style>.jp-OutputArea-child .jupyter-widgets.jp-OutputArea-output { overflow: auto; }</style>"
      ],
      "text/plain": [
       "<IPython.core.display.HTML object>"
      ]
     },
     "metadata": {},
     "output_type": "display_data"
    },
    {
     "data": {
      "application/vnd.jupyter.widget-view+json": {
       "model_id": "c9965dcafe4e4cf69a1db4534d845a1e",
       "version_major": 2,
       "version_minor": 0
      },
      "text/plain": [
       "VBox(children=(HBox(children=(HTML(value='Type:'), Button(description='Table', layout=Layout(width='70px'), st…"
      ]
     },
     "metadata": {},
     "output_type": "display_data"
    },
    {
     "data": {
      "application/vnd.jupyter.widget-view+json": {
       "model_id": "ea94d9f1410344dcb04513241b8f6ae4",
       "version_major": 2,
       "version_minor": 0
      },
      "text/plain": [
       "Output()"
      ]
     },
     "metadata": {},
     "output_type": "display_data"
    }
   ],
   "source": [
    "%%sql\n",
    "SELECT * FROM glue_catalog1.salesdb.orders.snapshots;"
   ]
  },
  {
   "cell_type": "markdown",
   "metadata": {},
   "source": [
    "<a id=\"time_travel\"></a>\n",
    "## Time Travel\n",
    "Let us query our table as of the previous snapshot. SparkSQL does not provide a syntax for time travel yet. So we use PySpark for this. \n",
    "\n",
    "First let us capture all the snapshot timestamps in an array so that we can use the elements in the array to travel back and forth in time. Here we query the `commited_at` column from the Iceberg table and store its values in the `snapshotTimes` array.\n",
    "\n",
    "As you can see, the shoes and the Nintendo switch were added as part of a recent commit don't show up in our point-in-time historical query. They still exist in the table though."
   ]
  },
  {
   "cell_type": "code",
   "execution_count": 45,
   "metadata": {
    "execution": {
     "iopub.execute_input": "2023-02-20T19:27:57.586153Z",
     "iopub.status.busy": "2023-02-20T19:27:57.585871Z",
     "iopub.status.idle": "2023-02-20T19:27:57.870680Z",
     "shell.execute_reply": "2023-02-20T19:27:57.869467Z",
     "shell.execute_reply.started": "2023-02-20T19:27:57.586124Z"
    },
    "tags": []
   },
   "outputs": [
    {
     "data": {
      "application/vnd.jupyter.widget-view+json": {
       "model_id": "1f155e3f24d94ef582b828879d4e5ec8",
       "version_major": 2,
       "version_minor": 0
      },
      "text/plain": [
       "VBox()"
      ]
     },
     "metadata": {},
     "output_type": "display_data"
    },
    {
     "data": {
      "application/vnd.jupyter.widget-view+json": {
       "model_id": "",
       "version_major": 2,
       "version_minor": 0
      },
      "text/plain": [
       "FloatProgress(value=0.0, bar_style='info', description='Progress:', layout=Layout(height='25px', width='50%'),…"
      ]
     },
     "metadata": {},
     "output_type": "display_data"
    },
    {
     "name": "stdout",
     "output_type": "stream",
     "text": [
      "snapshotTimes: \n",
      "Row(commitTime=datetime.datetime(2023, 2, 20, 19, 27, 4, 706000))\n",
      "Row(commitTime=datetime.datetime(2023, 2, 20, 19, 27, 12, 207000))\n",
      "Row(commitTime=datetime.datetime(2023, 2, 20, 19, 27, 19, 233000))\n",
      "Row(commitTime=datetime.datetime(2023, 2, 20, 19, 27, 28, 698000))\n",
      "Row(commitTime=datetime.datetime(2023, 2, 20, 19, 27, 40, 534000))\n",
      "Row(commitTime=datetime.datetime(2023, 2, 20, 19, 27, 52, 868000))"
     ]
    }
   ],
   "source": [
    "snapshotTimes = spark.sql(\"select committed_at as commitTime from  glue_catalog1.salesdb.orders.snapshots order by commitTime\").collect()\n",
    "print(\"snapshotTimes: \")\n",
    "for elem in snapshotTimes: print(elem)"
   ]
  },
  {
   "cell_type": "markdown",
   "metadata": {},
   "source": [
    "Iceberg provides a spark read option `as-of-timestamp` that takes the timestamp in milliseconds since epoch as a value for the time that we want to travel to. To get this, we write a simple python function `time_millis` as shown below:"
   ]
  },
  {
   "cell_type": "code",
   "execution_count": 46,
   "metadata": {
    "execution": {
     "iopub.execute_input": "2023-02-20T19:27:57.873119Z",
     "iopub.status.busy": "2023-02-20T19:27:57.872395Z",
     "iopub.status.idle": "2023-02-20T19:27:57.952083Z",
     "shell.execute_reply": "2023-02-20T19:27:57.950786Z",
     "shell.execute_reply.started": "2023-02-20T19:27:57.873069Z"
    },
    "tags": []
   },
   "outputs": [
    {
     "data": {
      "application/vnd.jupyter.widget-view+json": {
       "model_id": "8a30953f96d949afb923314c517cd8c4",
       "version_major": 2,
       "version_minor": 0
      },
      "text/plain": [
       "VBox()"
      ]
     },
     "metadata": {},
     "output_type": "display_data"
    },
    {
     "data": {
      "application/vnd.jupyter.widget-view+json": {
       "model_id": "",
       "version_major": 2,
       "version_minor": 0
      },
      "text/plain": [
       "FloatProgress(value=0.0, bar_style='info', description='Progress:', layout=Layout(height='25px', width='50%'),…"
      ]
     },
     "metadata": {},
     "output_type": "display_data"
    }
   ],
   "source": [
    "import datetime\n",
    "epoch = datetime.datetime.utcfromtimestamp(0)\n",
    "def time_millis(timestamp):\n",
    "    return int((timestamp - epoch).total_seconds() * 1000.0)"
   ]
  },
  {
   "cell_type": "markdown",
   "metadata": {},
   "source": [
    "In our example, we have 5 snapshots indexed from [0] through [4]. For example, to get to the state of the table after the second snapshot, we use the timestamp `snapshotTimes[1][0]`"
   ]
  },
  {
   "cell_type": "code",
   "execution_count": 47,
   "metadata": {
    "execution": {
     "iopub.execute_input": "2023-02-20T19:27:57.954361Z",
     "iopub.status.busy": "2023-02-20T19:27:57.953885Z",
     "iopub.status.idle": "2023-02-20T19:27:59.255918Z",
     "shell.execute_reply": "2023-02-20T19:27:59.254679Z",
     "shell.execute_reply.started": "2023-02-20T19:27:57.954312Z"
    },
    "tags": []
   },
   "outputs": [
    {
     "data": {
      "application/vnd.jupyter.widget-view+json": {
       "model_id": "efd1d4b4857a47d584beab11669d496b",
       "version_major": 2,
       "version_minor": 0
      },
      "text/plain": [
       "VBox()"
      ]
     },
     "metadata": {},
     "output_type": "display_data"
    },
    {
     "data": {
      "application/vnd.jupyter.widget-view+json": {
       "model_id": "",
       "version_major": 2,
       "version_minor": 0
      },
      "text/plain": [
       "FloatProgress(value=0.0, bar_style='info', description='Progress:', layout=Layout(height='25px', width='50%'),…"
      ]
     },
     "metadata": {},
     "output_type": "display_data"
    },
    {
     "name": "stdout",
     "output_type": "stream",
     "text": [
      "State of the table as of time: 2023-02-20 19:27:12.207000\n",
      "+--------+------------------------------------------------------------------+----------------+---+----------+-----------------------+\n",
      "|order_id|product_name                                                      |product_category|qty|unit_price|order_datetime         |\n",
      "+--------+------------------------------------------------------------------+----------------+---+----------+-----------------------+\n",
      "|2       |Harry Potter and the Half-Blood Prince                            |Books           |1  |9.99      |2023-02-17 00:00:00    |\n",
      "|3       |New Balance Mens 623 V3 Casual Comfort Cross Trainer              |Shoes           |1  |55.97     |2023-02-16 00:00:00    |\n",
      "|4       |Skechers Womens Go Walk Joy Walking Shoe                          |Shoes           |1  |45.00     |2023-02-11 00:00:00    |\n",
      "|5       |Nintendo Switch with Neon Blue and Neon Red Joy?Con - HAC-001(-01)|Games           |1  |299.99    |2023-02-16 00:00:00    |\n",
      "|1       |Harry Potter and the Prisoner of Azkaban                          |Books           |2  |7.99      |2023-02-20 19:27:02.539|\n",
      "+--------+------------------------------------------------------------------+----------------+---+----------+-----------------------+"
     ]
    }
   ],
   "source": [
    "print(\"State of the table as of time: \" + str(snapshotTimes[1][0]))\n",
    "snapshotTimeMillis = time_millis(snapshotTimes[1][0])\n",
    "spark.read.option(\"as-of-timestamp\", snapshotTimeMillis).format(\"iceberg\").load(\"glue_catalog1.salesdb.orders\").show(5,False)"
   ]
  },
  {
   "cell_type": "markdown",
   "metadata": {},
   "source": [
    "You can time travel to any given snapshot and see the state of the table as of different timestamps: snapshotTimes[3][0] or snapshotTimes[4][0]. You could also directly use the snapshot_id value from the snapshots table as shown below. Here we query the state of the table after the very first insert by choosing the snapshot value of `snapshotIDs[0][0]`:"
   ]
  },
  {
   "cell_type": "code",
   "execution_count": 48,
   "metadata": {
    "execution": {
     "iopub.execute_input": "2023-02-20T19:27:59.258171Z",
     "iopub.status.busy": "2023-02-20T19:27:59.257717Z",
     "iopub.status.idle": "2023-02-20T19:28:00.042776Z",
     "shell.execute_reply": "2023-02-20T19:28:00.041945Z",
     "shell.execute_reply.started": "2023-02-20T19:27:59.258124Z"
    },
    "tags": []
   },
   "outputs": [
    {
     "data": {
      "application/vnd.jupyter.widget-view+json": {
       "model_id": "fdf1293a133c45f3aa82c079428d6a4d",
       "version_major": 2,
       "version_minor": 0
      },
      "text/plain": [
       "VBox()"
      ]
     },
     "metadata": {},
     "output_type": "display_data"
    },
    {
     "data": {
      "application/vnd.jupyter.widget-view+json": {
       "model_id": "",
       "version_major": 2,
       "version_minor": 0
      },
      "text/plain": [
       "FloatProgress(value=0.0, bar_style='info', description='Progress:', layout=Layout(height='25px', width='50%'),…"
      ]
     },
     "metadata": {},
     "output_type": "display_data"
    },
    {
     "name": "stdout",
     "output_type": "stream",
     "text": [
      "snapshots: \n",
      "Row(snapshot=7446538763991619661)\n",
      "Row(snapshot=1040596365913196345)\n",
      "Row(snapshot=1005113520038074205)\n",
      "Row(snapshot=5536459569748271317)\n",
      "Row(snapshot=9161848575865428452)\n",
      "Row(snapshot=8412950644362299779)\n",
      "+--------+----------------------------------------+----------------+---+----------+-----------------------+\n",
      "|order_id|product_name                            |product_category|qty|unit_price|order_datetime         |\n",
      "+--------+----------------------------------------+----------------+---+----------+-----------------------+\n",
      "|1       |Harry Potter and the Prisoner of Azkaban|Books           |2  |7.99      |2023-02-20 19:27:02.539|\n",
      "+--------+----------------------------------------+----------------+---+----------+-----------------------+"
     ]
    }
   ],
   "source": [
    "snapshotIDs = spark.sql(\"select snapshot_id as snapshot from  glue_catalog1.salesdb.orders.snapshots\").collect()\n",
    "print(\"snapshots: \")\n",
    "for elem in snapshotIDs: print(elem)\n",
    "\n",
    "snapshotID = snapshotIDs[0][0]\n",
    "spark.read.option(\"snapshot-id\", snapshotID).format(\"iceberg\").load(\"glue_catalog1.salesdb.orders\").show(5,False)"
   ]
  },
  {
   "cell_type": "markdown",
   "metadata": {},
   "source": [
    "Iceberg does give us a way to look at the history of changes to our table using the `history` metadata table."
   ]
  },
  {
   "cell_type": "code",
   "execution_count": 49,
   "metadata": {
    "execution": {
     "iopub.execute_input": "2023-02-20T19:28:00.046168Z",
     "iopub.status.busy": "2023-02-20T19:28:00.045897Z",
     "iopub.status.idle": "2023-02-20T19:28:00.990767Z",
     "shell.execute_reply": "2023-02-20T19:28:00.989925Z",
     "shell.execute_reply.started": "2023-02-20T19:28:00.046139Z"
    },
    "tags": []
   },
   "outputs": [
    {
     "data": {
      "application/vnd.jupyter.widget-view+json": {
       "model_id": "",
       "version_major": 2,
       "version_minor": 0
      },
      "text/plain": [
       "FloatProgress(value=0.0, bar_style='info', description='Progress:', layout=Layout(height='25px', width='50%'),…"
      ]
     },
     "metadata": {},
     "output_type": "display_data"
    },
    {
     "data": {
      "text/html": [
       "<style>.jp-OutputArea-child .jupyter-widgets.jp-OutputArea-output { overflow: auto; }</style>"
      ],
      "text/plain": [
       "<IPython.core.display.HTML object>"
      ]
     },
     "metadata": {},
     "output_type": "display_data"
    },
    {
     "data": {
      "application/vnd.jupyter.widget-view+json": {
       "model_id": "cc03eed712594b91adaece329608646d",
       "version_major": 2,
       "version_minor": 0
      },
      "text/plain": [
       "VBox(children=(HBox(children=(HTML(value='Type:'), Button(description='Table', layout=Layout(width='70px'), st…"
      ]
     },
     "metadata": {},
     "output_type": "display_data"
    },
    {
     "data": {
      "application/vnd.jupyter.widget-view+json": {
       "model_id": "0a3b8645cae14e83af0caab801c11a27",
       "version_major": 2,
       "version_minor": 0
      },
      "text/plain": [
       "Output()"
      ]
     },
     "metadata": {},
     "output_type": "display_data"
    }
   ],
   "source": [
    "%%sql\n",
    "SELECT * FROM glue_catalog1.salesdb.orders.history;"
   ]
  },
  {
   "cell_type": "markdown",
   "metadata": {},
   "source": [
    "<a id=\"partition_evolution\"></a>\n",
    "## Partition Evolution\n",
    "Let us look at the partitions we have in our table by querying the `partitions` metadata table. Iceberg keeps track of how many records (`record_count` column) and how many files (`file_count` column) are present in each partition. This is a very handy tool that could be used for performance and data quality related troubleshooting and diagnostics."
   ]
  },
  {
   "cell_type": "code",
   "execution_count": 50,
   "metadata": {
    "execution": {
     "iopub.execute_input": "2023-02-20T19:28:00.992162Z",
     "iopub.status.busy": "2023-02-20T19:28:00.991875Z",
     "iopub.status.idle": "2023-02-20T19:28:01.948762Z",
     "shell.execute_reply": "2023-02-20T19:28:01.947704Z",
     "shell.execute_reply.started": "2023-02-20T19:28:00.992132Z"
    },
    "tags": []
   },
   "outputs": [
    {
     "data": {
      "application/vnd.jupyter.widget-view+json": {
       "model_id": "",
       "version_major": 2,
       "version_minor": 0
      },
      "text/plain": [
       "FloatProgress(value=0.0, bar_style='info', description='Progress:', layout=Layout(height='25px', width='50%'),…"
      ]
     },
     "metadata": {},
     "output_type": "display_data"
    },
    {
     "data": {
      "text/html": [
       "<style>.jp-OutputArea-child .jupyter-widgets.jp-OutputArea-output { overflow: auto; }</style>"
      ],
      "text/plain": [
       "<IPython.core.display.HTML object>"
      ]
     },
     "metadata": {},
     "output_type": "display_data"
    },
    {
     "data": {
      "application/vnd.jupyter.widget-view+json": {
       "model_id": "20063b1f9d3a43a68878e010517204df",
       "version_major": 2,
       "version_minor": 0
      },
      "text/plain": [
       "VBox(children=(HBox(children=(HTML(value='Type:'), Button(description='Table', layout=Layout(width='70px'), st…"
      ]
     },
     "metadata": {},
     "output_type": "display_data"
    },
    {
     "data": {
      "application/vnd.jupyter.widget-view+json": {
       "model_id": "3132f681f3d0419c816b3c6079685a7b",
       "version_major": 2,
       "version_minor": 0
      },
      "text/plain": [
       "Output()"
      ]
     },
     "metadata": {},
     "output_type": "display_data"
    }
   ],
   "source": [
    "%%sql\n",
    "select * from glue_catalog1.salesdb.orders.partitions"
   ]
  },
  {
   "cell_type": "markdown",
   "metadata": {},
   "source": [
    "Let us list our s3 bucket location to see the partitions. Remember to replace <span style=\"color:red\">YOUR-BUCKET-NAME</span> with your bucket name and if you use different prefixes, update the path as applicable. Notice that there is one partition for each day because we had `PARTITIONED BY` the partition transform `days(order_datetime)` "
   ]
  },
  {
   "cell_type": "code",
   "execution_count": 51,
   "metadata": {
    "execution": {
     "iopub.execute_input": "2023-02-20T19:28:01.950186Z",
     "iopub.status.busy": "2023-02-20T19:28:01.949906Z",
     "iopub.status.idle": "2023-02-20T19:28:03.004854Z",
     "shell.execute_reply": "2023-02-20T19:28:03.003903Z",
     "shell.execute_reply.started": "2023-02-20T19:28:01.950156Z"
    },
    "tags": []
   },
   "outputs": [
    {
     "name": "stdout",
     "output_type": "stream",
     "text": [
      "                           PRE order_datetime_day=2022-08-02/\n",
      "                           PRE order_datetime_day=2022-08-07/\n",
      "                           PRE order_datetime_day=2022-08-08/\n",
      "                           PRE order_datetime_day=2022-08-11/\n",
      "                           PRE order_datetime_day=2023-02-11/\n",
      "                           PRE order_datetime_day=2023-02-16/\n",
      "                           PRE order_datetime_day=2023-02-17/\n",
      "                           PRE order_datetime_day=2023-02-20/\n"
     ]
    }
   ],
   "source": [
    "%%sh\n",
    "aws s3 ls s3://vasveena-dremio/iceberg/glue_catalog1/tables/salesdb.db/orders/data/"
   ]
  },
  {
   "cell_type": "markdown",
   "metadata": {},
   "source": [
    "Let us assume one year down the time line, we realize we need to add hourly partitions. Iceberg allows us to add partitions without having to perform any data movement or any additional changes to the underlying data. `ADD PARTITION FIELD` is a simple metadata operation."
   ]
  },
  {
   "cell_type": "code",
   "execution_count": 52,
   "metadata": {
    "execution": {
     "iopub.execute_input": "2023-02-20T19:28:03.006547Z",
     "iopub.status.busy": "2023-02-20T19:28:03.006247Z",
     "iopub.status.idle": "2023-02-20T19:28:03.853666Z",
     "shell.execute_reply": "2023-02-20T19:28:03.852777Z",
     "shell.execute_reply.started": "2023-02-20T19:28:03.006516Z"
    },
    "tags": []
   },
   "outputs": [
    {
     "data": {
      "application/vnd.jupyter.widget-view+json": {
       "model_id": "",
       "version_major": 2,
       "version_minor": 0
      },
      "text/plain": [
       "FloatProgress(value=0.0, bar_style='info', description='Progress:', layout=Layout(height='25px', width='50%'),…"
      ]
     },
     "metadata": {},
     "output_type": "display_data"
    },
    {
     "data": {
      "text/html": [
       "<style>.jp-OutputArea-child .jupyter-widgets.jp-OutputArea-output { overflow: auto; }</style>"
      ],
      "text/plain": [
       "<IPython.core.display.HTML object>"
      ]
     },
     "metadata": {},
     "output_type": "display_data"
    },
    {
     "data": {
      "application/vnd.jupyter.widget-view+json": {
       "model_id": "79b95c6edd54441087516ecf84c5c0cb",
       "version_major": 2,
       "version_minor": 0
      },
      "text/plain": [
       "VBox(children=(HBox(), EncodingWidget(children=(VBox(children=(HTML(value='Encoding:'), Dropdown(description='…"
      ]
     },
     "metadata": {},
     "output_type": "display_data"
    },
    {
     "data": {
      "application/vnd.jupyter.widget-view+json": {
       "model_id": "46f2768b943f4fe0988bc9615f69082e",
       "version_major": 2,
       "version_minor": 0
      },
      "text/plain": [
       "Output()"
      ]
     },
     "metadata": {},
     "output_type": "display_data"
    }
   ],
   "source": [
    "%%sql\n",
    "ALTER TABLE glue_catalog1.salesdb.orders ADD PARTITION FIELD hours(order_datetime)"
   ]
  },
  {
   "cell_type": "markdown",
   "metadata": {},
   "source": [
    "We can continue to use the old partition on the old data. There is no change to the underlying partition structure on existing data as shown below (Again remember to replace <span style=\"color:red\">YOUR-BUCKET-NAME</span> with your bucket name and if you use different prefixes, update the path as applicable):"
   ]
  },
  {
   "cell_type": "code",
   "execution_count": 53,
   "metadata": {
    "execution": {
     "iopub.execute_input": "2023-02-20T19:28:03.946474Z",
     "iopub.status.busy": "2023-02-20T19:28:03.946160Z",
     "iopub.status.idle": "2023-02-20T19:28:04.526681Z",
     "shell.execute_reply": "2023-02-20T19:28:04.525607Z",
     "shell.execute_reply.started": "2023-02-20T19:28:03.946443Z"
    },
    "tags": []
   },
   "outputs": [
    {
     "name": "stdout",
     "output_type": "stream",
     "text": [
      "                           PRE order_datetime_day=2022-08-02/\n",
      "                           PRE order_datetime_day=2022-08-07/\n",
      "                           PRE order_datetime_day=2022-08-08/\n",
      "                           PRE order_datetime_day=2022-08-11/\n",
      "                           PRE order_datetime_day=2023-02-11/\n",
      "                           PRE order_datetime_day=2023-02-16/\n",
      "                           PRE order_datetime_day=2023-02-17/\n",
      "                           PRE order_datetime_day=2023-02-20/\n"
     ]
    }
   ],
   "source": [
    "%%sh\n",
    "aws s3 ls s3://vasveena-dremio/iceberg/glue_catalog1/tables/salesdb.db/orders/data/"
   ]
  },
  {
   "cell_type": "markdown",
   "metadata": {},
   "source": [
    "However when we start inserting new data, the newer files will follow the new partition structure as per our new Partition Spec."
   ]
  },
  {
   "cell_type": "code",
   "execution_count": 54,
   "metadata": {
    "execution": {
     "iopub.execute_input": "2023-02-20T19:28:04.528588Z",
     "iopub.status.busy": "2023-02-20T19:28:04.528246Z",
     "iopub.status.idle": "2023-02-20T19:28:06.906930Z",
     "shell.execute_reply": "2023-02-20T19:28:06.905797Z",
     "shell.execute_reply.started": "2023-02-20T19:28:04.528553Z"
    },
    "tags": []
   },
   "outputs": [
    {
     "data": {
      "application/vnd.jupyter.widget-view+json": {
       "model_id": "",
       "version_major": 2,
       "version_minor": 0
      },
      "text/plain": [
       "FloatProgress(value=0.0, bar_style='info', description='Progress:', layout=Layout(height='25px', width='50%'),…"
      ]
     },
     "metadata": {},
     "output_type": "display_data"
    },
    {
     "data": {
      "text/html": [
       "<style>.jp-OutputArea-child .jupyter-widgets.jp-OutputArea-output { overflow: auto; }</style>"
      ],
      "text/plain": [
       "<IPython.core.display.HTML object>"
      ]
     },
     "metadata": {},
     "output_type": "display_data"
    },
    {
     "data": {
      "application/vnd.jupyter.widget-view+json": {
       "model_id": "73fe47170adf477a8496fde7a7c740a9",
       "version_major": 2,
       "version_minor": 0
      },
      "text/plain": [
       "VBox(children=(HBox(), EncodingWidget(children=(VBox(children=(HTML(value='Encoding:'), Dropdown(description='…"
      ]
     },
     "metadata": {},
     "output_type": "display_data"
    },
    {
     "data": {
      "application/vnd.jupyter.widget-view+json": {
       "model_id": "8ed615b3712f4b209ee1bb6b45925167",
       "version_major": 2,
       "version_minor": 0
      },
      "text/plain": [
       "Output()"
      ]
     },
     "metadata": {},
     "output_type": "display_data"
    }
   ],
   "source": [
    "%%sql\n",
    "INSERT INTO glue_catalog1.salesdb.orders VALUES \n",
    "    (\n",
    "        7, \n",
    "        'Harry Potter and the Chamber of Secrets - Hardcover',\n",
    "        'Books',\n",
    "        3,\n",
    "        18.99,\n",
    "        current_timestamp()\n",
    "    )"
   ]
  },
  {
   "cell_type": "markdown",
   "metadata": {},
   "source": [
    "Before running the following cell, replace <span style=\"color:red\">YOUR-BUCKET-NAME</span> with your bucket name and if you use different prefixes, update the path as applicable. \n",
    "\n",
    "Note the date partition that you inserted the record into. You will need this in the next step."
   ]
  },
  {
   "cell_type": "code",
   "execution_count": 55,
   "metadata": {
    "execution": {
     "iopub.execute_input": "2023-02-20T19:28:07.003761Z",
     "iopub.status.busy": "2023-02-20T19:28:07.003316Z",
     "iopub.status.idle": "2023-02-20T19:28:07.569370Z",
     "shell.execute_reply": "2023-02-20T19:28:07.568186Z",
     "shell.execute_reply.started": "2023-02-20T19:28:07.003711Z"
    },
    "tags": []
   },
   "outputs": [
    {
     "name": "stdout",
     "output_type": "stream",
     "text": [
      "                           PRE order_datetime_day=2022-08-02/\n",
      "                           PRE order_datetime_day=2022-08-07/\n",
      "                           PRE order_datetime_day=2022-08-08/\n",
      "                           PRE order_datetime_day=2022-08-11/\n",
      "                           PRE order_datetime_day=2023-02-11/\n",
      "                           PRE order_datetime_day=2023-02-16/\n",
      "                           PRE order_datetime_day=2023-02-17/\n",
      "                           PRE order_datetime_day=2023-02-20/\n"
     ]
    }
   ],
   "source": [
    "%%sh\n",
    "aws s3 ls s3://vasveena-dremio/iceberg/glue_catalog1/tables/salesdb.db/orders/data/"
   ]
  },
  {
   "cell_type": "markdown",
   "metadata": {},
   "source": [
    "Iceberg adds the new hourly partition under the day partition under which we inserted our new record. Confirm that is the case by listing the contents of the parent partition in your S3 bucket which is a date in YYYY-MM-DD format (e.g. s3://<span style=\"color:red\">YOUR-BUCKET-NAME</span>/iceberg/glue_catalog1/tables/salesdb.db/orders/data/order_datetime_day=<span style=\"color:red\">2022-01-12</span>/). You made a note of this earlier . Replace <span style=\"color:red\">YOUR-BUCKET-NAME</span> with your bucket name and if you use different prefixes, update the path as applicable.\n",
    "\n",
    "Note the hour appended in the end of your `order_datetime_hour` value. You will use this in the next step."
   ]
  },
  {
   "cell_type": "code",
   "execution_count": 56,
   "metadata": {
    "execution": {
     "iopub.execute_input": "2023-02-20T19:28:07.573814Z",
     "iopub.status.busy": "2023-02-20T19:28:07.573517Z",
     "iopub.status.idle": "2023-02-20T19:28:08.111588Z",
     "shell.execute_reply": "2023-02-20T19:28:08.110573Z",
     "shell.execute_reply.started": "2023-02-20T19:28:07.573779Z"
    },
    "tags": []
   },
   "outputs": [
    {
     "name": "stdout",
     "output_type": "stream",
     "text": [
      "                           PRE order_datetime_hour=2022-08-11-19/\n",
      "2022-08-11 19:46:37       2076 00000-1028-46599b6b-91ae-4ed0-b210-c7f9375897ee-00001.parquet\n",
      "2022-08-11 19:46:58       2260 00000-1053-587284d3-eca3-4cf0-9eb0-c14afc427b69-00001.parquet\n",
      "2022-08-11 19:45:34       2014 00000-5-b72c6f5a-6bb3-48da-b89e-e0ccb7a36b67-00001.parquet\n"
     ]
    }
   ],
   "source": [
    "%%sh\n",
    "aws s3 ls s3://vasveena-dremio/iceberg/glue_catalog1/tables/salesdb.db/orders/data/order_datetime_day=2022-08-11/"
   ]
  },
  {
   "cell_type": "code",
   "execution_count": 57,
   "metadata": {
    "execution": {
     "iopub.execute_input": "2023-02-20T19:28:08.114042Z",
     "iopub.status.busy": "2023-02-20T19:28:08.113569Z",
     "iopub.status.idle": "2023-02-20T19:28:09.065548Z",
     "shell.execute_reply": "2023-02-20T19:28:09.064635Z",
     "shell.execute_reply.started": "2023-02-20T19:28:08.113987Z"
    },
    "tags": []
   },
   "outputs": [
    {
     "data": {
      "application/vnd.jupyter.widget-view+json": {
       "model_id": "",
       "version_major": 2,
       "version_minor": 0
      },
      "text/plain": [
       "FloatProgress(value=0.0, bar_style='info', description='Progress:', layout=Layout(height='25px', width='50%'),…"
      ]
     },
     "metadata": {},
     "output_type": "display_data"
    },
    {
     "data": {
      "text/html": [
       "<style>.jp-OutputArea-child .jupyter-widgets.jp-OutputArea-output { overflow: auto; }</style>"
      ],
      "text/plain": [
       "<IPython.core.display.HTML object>"
      ]
     },
     "metadata": {},
     "output_type": "display_data"
    },
    {
     "data": {
      "application/vnd.jupyter.widget-view+json": {
       "model_id": "a1874c6fb4ef4863bd26d853f9614f32",
       "version_major": 2,
       "version_minor": 0
      },
      "text/plain": [
       "VBox(children=(HBox(children=(HTML(value='Type:'), Button(description='Table', layout=Layout(width='70px'), st…"
      ]
     },
     "metadata": {},
     "output_type": "display_data"
    },
    {
     "data": {
      "application/vnd.jupyter.widget-view+json": {
       "model_id": "b09308aaa49941bc80254201dca2dfe4",
       "version_major": 2,
       "version_minor": 0
      },
      "text/plain": [
       "Output()"
      ]
     },
     "metadata": {},
     "output_type": "display_data"
    }
   ],
   "source": [
    "%%sql\n",
    "select * from glue_catalog1.salesdb.orders"
   ]
  },
  {
   "cell_type": "markdown",
   "metadata": {},
   "source": [
    "Let us query our table using the new hourly partition. In the cell below, replace <span style=\"color:red\">recently-inserted-hour</span> with the hour value noted above. For example, hour(order_datetime)=<span style=\"color:red\">21</span>"
   ]
  },
  {
   "cell_type": "code",
   "execution_count": 58,
   "metadata": {
    "execution": {
     "iopub.execute_input": "2023-02-20T19:28:09.147534Z",
     "iopub.status.busy": "2023-02-20T19:28:09.147227Z",
     "iopub.status.idle": "2023-02-20T19:28:09.998339Z",
     "shell.execute_reply": "2023-02-20T19:28:09.997495Z",
     "shell.execute_reply.started": "2023-02-20T19:28:09.147502Z"
    },
    "tags": []
   },
   "outputs": [
    {
     "data": {
      "application/vnd.jupyter.widget-view+json": {
       "model_id": "",
       "version_major": 2,
       "version_minor": 0
      },
      "text/plain": [
       "FloatProgress(value=0.0, bar_style='info', description='Progress:', layout=Layout(height='25px', width='50%'),…"
      ]
     },
     "metadata": {},
     "output_type": "display_data"
    },
    {
     "data": {
      "text/html": [
       "<style>.jp-OutputArea-child .jupyter-widgets.jp-OutputArea-output { overflow: auto; }</style>"
      ],
      "text/plain": [
       "<IPython.core.display.HTML object>"
      ]
     },
     "metadata": {},
     "output_type": "display_data"
    },
    {
     "data": {
      "application/vnd.jupyter.widget-view+json": {
       "model_id": "548b2d1b044d41b499f950f1fea55f79",
       "version_major": 2,
       "version_minor": 0
      },
      "text/plain": [
       "VBox(children=(HBox(), EncodingWidget(children=(VBox(children=(HTML(value='Encoding:'), Dropdown(description='…"
      ]
     },
     "metadata": {},
     "output_type": "display_data"
    },
    {
     "data": {
      "application/vnd.jupyter.widget-view+json": {
       "model_id": "bc65f98121024d4d9529ce6eeec4d548",
       "version_major": 2,
       "version_minor": 0
      },
      "text/plain": [
       "Output()"
      ]
     },
     "metadata": {},
     "output_type": "display_data"
    }
   ],
   "source": [
    "%%sql\n",
    "SELECT * FROM glue_catalog1.salesdb.orders where hour(order_datetime)=3"
   ]
  },
  {
   "cell_type": "code",
   "execution_count": 59,
   "metadata": {
    "execution": {
     "iopub.execute_input": "2023-02-20T19:28:09.999693Z",
     "iopub.status.busy": "2023-02-20T19:28:09.999407Z",
     "iopub.status.idle": "2023-02-20T19:28:10.779637Z",
     "shell.execute_reply": "2023-02-20T19:28:10.778594Z",
     "shell.execute_reply.started": "2023-02-20T19:28:09.999663Z"
    },
    "tags": []
   },
   "outputs": [
    {
     "data": {
      "application/vnd.jupyter.widget-view+json": {
       "model_id": "8e751b8930e94a36b0bbdfea92752f00",
       "version_major": 2,
       "version_minor": 0
      },
      "text/plain": [
       "VBox()"
      ]
     },
     "metadata": {},
     "output_type": "display_data"
    },
    {
     "data": {
      "application/vnd.jupyter.widget-view+json": {
       "model_id": "",
       "version_major": 2,
       "version_minor": 0
      },
      "text/plain": [
       "FloatProgress(value=0.0, bar_style='info', description='Progress:', layout=Layout(height='25px', width='50%'),…"
      ]
     },
     "metadata": {},
     "output_type": "display_data"
    },
    {
     "name": "stdout",
     "output_type": "stream",
     "text": [
      "+--------+------------+----------------+--------+----------+--------------+\n",
      "|order_id|product_name|product_category|quantity|unit_price|order_datetime|\n",
      "+--------+------------+----------------+--------+----------+--------------+\n",
      "+--------+------------+----------------+--------+----------+--------------+"
     ]
    }
   ],
   "source": [
    "spark.sql(\"SELECT * FROM glue_catalog1.salesdb.orders where hour(order_datetime)=3\").show()"
   ]
  },
  {
   "cell_type": "markdown",
   "metadata": {},
   "source": [
    "We can continue to query our old data with using the `day()` transform. There is only the original `order_datetime` column in the table. We don't have to store additional columns to accommodate multiple paritioning schemes. Everything is in the metadata giving us immense flexibility and making our data lake forward looking!\n",
    "\n",
    "In the cell below, replace <span style=\"color:red\">1</span> with a <span style=\"color:red\">day</span> value within the range of the timestamps inserted in your `order_datetime` column."
   ]
  },
  {
   "cell_type": "code",
   "execution_count": 60,
   "metadata": {
    "execution": {
     "iopub.execute_input": "2023-02-20T19:28:10.783466Z",
     "iopub.status.busy": "2023-02-20T19:28:10.783181Z",
     "iopub.status.idle": "2023-02-20T19:28:12.255274Z",
     "shell.execute_reply": "2023-02-20T19:28:12.254152Z",
     "shell.execute_reply.started": "2023-02-20T19:28:10.783436Z"
    },
    "tags": []
   },
   "outputs": [
    {
     "data": {
      "application/vnd.jupyter.widget-view+json": {
       "model_id": "",
       "version_major": 2,
       "version_minor": 0
      },
      "text/plain": [
       "FloatProgress(value=0.0, bar_style='info', description='Progress:', layout=Layout(height='25px', width='50%'),…"
      ]
     },
     "metadata": {},
     "output_type": "display_data"
    },
    {
     "data": {
      "text/html": [
       "<style>.jp-OutputArea-child .jupyter-widgets.jp-OutputArea-output { overflow: auto; }</style>"
      ],
      "text/plain": [
       "<IPython.core.display.HTML object>"
      ]
     },
     "metadata": {},
     "output_type": "display_data"
    },
    {
     "data": {
      "application/vnd.jupyter.widget-view+json": {
       "model_id": "ffd95c3049d548e68729032a21c4ee45",
       "version_major": 2,
       "version_minor": 0
      },
      "text/plain": [
       "VBox(children=(HBox(children=(HTML(value='Type:'), Button(description='Table', layout=Layout(width='70px'), st…"
      ]
     },
     "metadata": {},
     "output_type": "display_data"
    },
    {
     "data": {
      "application/vnd.jupyter.widget-view+json": {
       "model_id": "b4528e2274574862932ee54368522c74",
       "version_major": 2,
       "version_minor": 0
      },
      "text/plain": [
       "Output()"
      ]
     },
     "metadata": {},
     "output_type": "display_data"
    }
   ],
   "source": [
    "%%sql\n",
    "SELECT * FROM glue_catalog1.salesdb.orders where day(order_datetime)>=1"
   ]
  },
  {
   "cell_type": "markdown",
   "metadata": {
    "execution": {
     "iopub.execute_input": "2023-02-20T19:21:59.795612Z",
     "iopub.status.busy": "2023-02-20T19:21:59.795248Z"
    },
    "tags": []
   },
   "source": [
    "<a id=\"system_tables\"></a>\n",
    "## Querying System Tables \n",
    "\n",
    "Iceberg provides a lot of system tables that provide many deep insights about files, tables, snapshots etc."
   ]
  },
  {
   "cell_type": "code",
   "execution_count": 61,
   "metadata": {
    "execution": {
     "iopub.execute_input": "2023-02-20T19:28:12.257451Z",
     "iopub.status.busy": "2023-02-20T19:28:12.256962Z",
     "iopub.status.idle": "2023-02-20T19:28:12.718622Z",
     "shell.execute_reply": "2023-02-20T19:28:12.717633Z",
     "shell.execute_reply.started": "2023-02-20T19:28:12.257401Z"
    }
   },
   "outputs": [
    {
     "data": {
      "application/vnd.jupyter.widget-view+json": {
       "model_id": "",
       "version_major": 2,
       "version_minor": 0
      },
      "text/plain": [
       "FloatProgress(value=0.0, bar_style='info', description='Progress:', layout=Layout(height='25px', width='50%'),…"
      ]
     },
     "metadata": {},
     "output_type": "display_data"
    },
    {
     "data": {
      "text/html": [
       "<style>.jp-OutputArea-child .jupyter-widgets.jp-OutputArea-output { overflow: auto; }</style>"
      ],
      "text/plain": [
       "<IPython.core.display.HTML object>"
      ]
     },
     "metadata": {},
     "output_type": "display_data"
    },
    {
     "data": {
      "application/vnd.jupyter.widget-view+json": {
       "model_id": "b2a57297d8df49d68d9d2b1aec5d921d",
       "version_major": 2,
       "version_minor": 0
      },
      "text/plain": [
       "VBox(children=(HBox(children=(HTML(value='Type:'), Button(description='Table', layout=Layout(width='70px'), st…"
      ]
     },
     "metadata": {},
     "output_type": "display_data"
    },
    {
     "data": {
      "application/vnd.jupyter.widget-view+json": {
       "model_id": "5c9b06ede6f1483589b4b4bcd3e3504e",
       "version_major": 2,
       "version_minor": 0
      },
      "text/plain": [
       "Output()"
      ]
     },
     "metadata": {},
     "output_type": "display_data"
    }
   ],
   "source": [
    "%%sql\n",
    "\n",
    "-- Shows table history \n",
    "\n",
    "SELECT * FROM glue_catalog1.salesdb.orders.history"
   ]
  },
  {
   "cell_type": "code",
   "execution_count": 62,
   "metadata": {
    "execution": {
     "iopub.execute_input": "2023-02-20T19:28:12.719979Z",
     "iopub.status.busy": "2023-02-20T19:28:12.719701Z",
     "iopub.status.idle": "2023-02-20T19:28:14.175574Z",
     "shell.execute_reply": "2023-02-20T19:28:14.174694Z",
     "shell.execute_reply.started": "2023-02-20T19:28:12.719951Z"
    }
   },
   "outputs": [
    {
     "data": {
      "application/vnd.jupyter.widget-view+json": {
       "model_id": "",
       "version_major": 2,
       "version_minor": 0
      },
      "text/plain": [
       "FloatProgress(value=0.0, bar_style='info', description='Progress:', layout=Layout(height='25px', width='50%'),…"
      ]
     },
     "metadata": {},
     "output_type": "display_data"
    },
    {
     "data": {
      "text/html": [
       "<style>.jp-OutputArea-child .jupyter-widgets.jp-OutputArea-output { overflow: auto; }</style>"
      ],
      "text/plain": [
       "<IPython.core.display.HTML object>"
      ]
     },
     "metadata": {},
     "output_type": "display_data"
    },
    {
     "data": {
      "application/vnd.jupyter.widget-view+json": {
       "model_id": "0b431c3b452141f6bd7247cd55893dbe",
       "version_major": 2,
       "version_minor": 0
      },
      "text/plain": [
       "VBox(children=(HBox(children=(HTML(value='Type:'), Button(description='Table', layout=Layout(width='70px'), st…"
      ]
     },
     "metadata": {},
     "output_type": "display_data"
    },
    {
     "data": {
      "application/vnd.jupyter.widget-view+json": {
       "model_id": "3e4a5e9f9b0244518731656971701751",
       "version_major": 2,
       "version_minor": 0
      },
      "text/plain": [
       "Output()"
      ]
     },
     "metadata": {},
     "output_type": "display_data"
    }
   ],
   "source": [
    "%%sql \n",
    "\n",
    "-- Shows table's data files \n",
    "\n",
    "SELECT * FROM glue_catalog1.salesdb.orders.files limit 2"
   ]
  },
  {
   "cell_type": "code",
   "execution_count": 63,
   "metadata": {
    "execution": {
     "iopub.execute_input": "2023-02-20T19:28:14.177047Z",
     "iopub.status.busy": "2023-02-20T19:28:14.176750Z",
     "iopub.status.idle": "2023-02-20T19:28:14.640212Z",
     "shell.execute_reply": "2023-02-20T19:28:14.639050Z",
     "shell.execute_reply.started": "2023-02-20T19:28:14.177018Z"
    }
   },
   "outputs": [
    {
     "data": {
      "application/vnd.jupyter.widget-view+json": {
       "model_id": "",
       "version_major": 2,
       "version_minor": 0
      },
      "text/plain": [
       "FloatProgress(value=0.0, bar_style='info', description='Progress:', layout=Layout(height='25px', width='50%'),…"
      ]
     },
     "metadata": {},
     "output_type": "display_data"
    },
    {
     "data": {
      "text/html": [
       "<style>.jp-OutputArea-child .jupyter-widgets.jp-OutputArea-output { overflow: auto; }</style>"
      ],
      "text/plain": [
       "<IPython.core.display.HTML object>"
      ]
     },
     "metadata": {},
     "output_type": "display_data"
    },
    {
     "data": {
      "application/vnd.jupyter.widget-view+json": {
       "model_id": "3e6c4caf8fe14641b7b0a1eff8606b7b",
       "version_major": 2,
       "version_minor": 0
      },
      "text/plain": [
       "VBox(children=(HBox(children=(HTML(value='Type:'), Button(description='Table', layout=Layout(width='70px'), st…"
      ]
     },
     "metadata": {},
     "output_type": "display_data"
    },
    {
     "data": {
      "application/vnd.jupyter.widget-view+json": {
       "model_id": "88f3253dbe054e56a6fc8e131079e6ea",
       "version_major": 2,
       "version_minor": 0
      },
      "text/plain": [
       "Output()"
      ]
     },
     "metadata": {},
     "output_type": "display_data"
    }
   ],
   "source": [
    "%%sql\n",
    "\n",
    "-- Shows table manifests\n",
    "\n",
    "SELECT * FROM glue_catalog1.salesdb.orders.manifests limit 2"
   ]
  },
  {
   "cell_type": "code",
   "execution_count": 64,
   "metadata": {
    "execution": {
     "iopub.execute_input": "2023-02-20T19:28:14.641910Z",
     "iopub.status.busy": "2023-02-20T19:28:14.641621Z",
     "iopub.status.idle": "2023-02-20T19:28:15.596687Z",
     "shell.execute_reply": "2023-02-20T19:28:15.595682Z",
     "shell.execute_reply.started": "2023-02-20T19:28:14.641881Z"
    }
   },
   "outputs": [
    {
     "data": {
      "application/vnd.jupyter.widget-view+json": {
       "model_id": "",
       "version_major": 2,
       "version_minor": 0
      },
      "text/plain": [
       "FloatProgress(value=0.0, bar_style='info', description='Progress:', layout=Layout(height='25px', width='50%'),…"
      ]
     },
     "metadata": {},
     "output_type": "display_data"
    },
    {
     "data": {
      "text/html": [
       "<style>.jp-OutputArea-child .jupyter-widgets.jp-OutputArea-output { overflow: auto; }</style>"
      ],
      "text/plain": [
       "<IPython.core.display.HTML object>"
      ]
     },
     "metadata": {},
     "output_type": "display_data"
    },
    {
     "data": {
      "application/vnd.jupyter.widget-view+json": {
       "model_id": "fe82c325696f427c9f2aba2e05fef0b5",
       "version_major": 2,
       "version_minor": 0
      },
      "text/plain": [
       "VBox(children=(HBox(children=(HTML(value='Type:'), Button(description='Table', layout=Layout(width='70px'), st…"
      ]
     },
     "metadata": {},
     "output_type": "display_data"
    },
    {
     "data": {
      "application/vnd.jupyter.widget-view+json": {
       "model_id": "fbb7faa2e0fd4ab7a4766ac24b8bf25f",
       "version_major": 2,
       "version_minor": 0
      },
      "text/plain": [
       "Output()"
      ]
     },
     "metadata": {},
     "output_type": "display_data"
    }
   ],
   "source": [
    "%%sql \n",
    "\n",
    "-- You can even join two system tables. For example, this query will show table history, with the application ID that wrote each snapshot:\n",
    "\n",
    "select\n",
    "    h.made_current_at,\n",
    "    s.operation,\n",
    "    h.snapshot_id,\n",
    "    h.is_current_ancestor,\n",
    "    s.summary['spark.app.id']\n",
    "from glue_catalog1.salesdb.orders.history h\n",
    "join glue_catalog1.salesdb.orders.snapshots s\n",
    "  on h.snapshot_id = s.snapshot_id\n",
    "order by made_current_at"
   ]
  },
  {
   "cell_type": "markdown",
   "metadata": {},
   "source": [
    "<a id=\"object storage\"></a>\n",
    "## S3 Traffic Shaping with Object Storage Location Provider\n",
    "\n",
    "Let's see how Iceberg can help us mitigate 503 Slow Down errors and improve S3 read / write performance"
   ]
  },
  {
   "cell_type": "code",
   "execution_count": 70,
   "metadata": {
    "execution": {
     "iopub.execute_input": "2023-02-20T19:37:08.058573Z",
     "iopub.status.busy": "2023-02-20T19:37:08.058234Z",
     "iopub.status.idle": "2023-02-20T19:37:08.130596Z",
     "shell.execute_reply": "2023-02-20T19:37:08.129580Z",
     "shell.execute_reply.started": "2023-02-20T19:37:08.058541Z"
    },
    "tags": []
   },
   "outputs": [
    {
     "data": {
      "application/vnd.jupyter.widget-view+json": {
       "model_id": "3395a9e0a2ae41edb168f0ec53ff6776",
       "version_major": 2,
       "version_minor": 0
      },
      "text/plain": [
       "VBox()"
      ]
     },
     "metadata": {},
     "output_type": "display_data"
    },
    {
     "data": {
      "application/vnd.jupyter.widget-view+json": {
       "model_id": "",
       "version_major": 2,
       "version_minor": 0
      },
      "text/plain": [
       "FloatProgress(value=0.0, bar_style='info', description='Progress:', layout=Layout(height='25px', width='50%'),…"
      ]
     },
     "metadata": {},
     "output_type": "display_data"
    },
    {
     "name": "stderr",
     "output_type": "stream",
     "text": [
      "An error was encountered:\n",
      "name 'StructType' is not defined\n",
      "Traceback (most recent call last):\n",
      "NameError: name 'StructType' is not defined\n",
      "\n"
     ]
    }
   ],
   "source": [
    "supplierSchema = StructType(Array(\n",
    "  StructField(\"s_suppkey\", IntegerType, true),\n",
    "  StructField(\"s_name\", StringType, true),\n",
    "  StructField(\"s_address\", StringType, true),\n",
    "  StructField(\"s_nationkey\", IntegerType, true),\n",
    "  StructField(\"s_phone\", StringType, true),\n",
    "  StructField(\"s_acctbal\", DoubleType, true),\n",
    "  StructField(\"s_comment\", StringType, true)\n",
    "  )\n",
    ")\n",
    "\n",
    "supplierDF = spark.read.schema(supplierSchema).option(\"delimiter\",\"|\").csv(\"s3://redshift-downloads/TPC-H/2.18/3TB/supplier/\")\n",
    "\n",
    "supplierDF.count()\n",
    "\n",
    "supplierDF.show(5)"
   ]
  },
  {
   "cell_type": "code",
   "execution_count": 71,
   "metadata": {
    "execution": {
     "iopub.execute_input": "2023-02-20T19:37:37.069514Z",
     "iopub.status.busy": "2023-02-20T19:37:37.069141Z",
     "iopub.status.idle": "2023-02-20T19:37:37.302561Z",
     "shell.execute_reply": "2023-02-20T19:37:37.301697Z",
     "shell.execute_reply.started": "2023-02-20T19:37:37.069482Z"
    },
    "tags": []
   },
   "outputs": [
    {
     "data": {
      "application/vnd.jupyter.widget-view+json": {
       "model_id": "",
       "version_major": 2,
       "version_minor": 0
      },
      "text/plain": [
       "FloatProgress(value=0.0, bar_style='info', description='Progress:', layout=Layout(height='25px', width='50%'),…"
      ]
     },
     "metadata": {},
     "output_type": "display_data"
    },
    {
     "name": "stderr",
     "output_type": "stream",
     "text": [
      "An error was encountered:\n",
      "Invalid table identifier: dev.db.iceberg_supplier_table_s3_shaping\n",
      "Traceback (most recent call last):\n",
      "  File \"/mnt2/yarn/usercache/livy/appcache/application_1676505873392_0001/container_1676505873392_0001_01_000001/pyspark.zip/pyspark/sql/session.py\", line 1034, in sql\n",
      "    return DataFrame(self._jsparkSession.sql(sqlQuery), self)\n",
      "  File \"/mnt2/yarn/usercache/livy/appcache/application_1676505873392_0001/container_1676505873392_0001_01_000001/py4j-0.10.9.5-src.zip/py4j/java_gateway.py\", line 1322, in __call__\n",
      "    answer, self.gateway_client, self.target_id, self.name)\n",
      "  File \"/mnt2/yarn/usercache/livy/appcache/application_1676505873392_0001/container_1676505873392_0001_01_000001/pyspark.zip/pyspark/sql/utils.py\", line 196, in deco\n",
      "    raise converted from None\n",
      "pyspark.sql.utils.IllegalArgumentException: Invalid table identifier: dev.db.iceberg_supplier_table_s3_shaping\n",
      "\n"
     ]
    }
   ],
   "source": [
    "%%sql\n",
    "\n",
    "CREATE TABLE dev.db.iceberg_supplier_table_s3_shaping (\n",
    "  `s_suppkey` bigint, \n",
    "  `s_name` string, \n",
    "  `s_address` string, \n",
    "  `s_nationkey` bigint, \n",
    "  `s_phone` string, \n",
    "  `s_acctbal` double, \n",
    "  `s_comment` string)\n",
    "USING iceberg\n",
    "OPTIONS ( 'write.object-storage.enabled'=true,\n",
    "          'write.object-storage.path'='s3://mrworkshop-youraccountID-dayone-iceberg/')\n",
    "partitioned by (s_nationkey)\n",
    "location  's3://mrworkshop-youraccountID-dayone/iceberg/catalog/tables/db/iceberg_supplier_table_s3_shaping'"
   ]
  },
  {
   "cell_type": "code",
   "execution_count": 72,
   "metadata": {
    "execution": {
     "iopub.execute_input": "2023-02-20T19:37:37.304349Z",
     "iopub.status.busy": "2023-02-20T19:37:37.304069Z",
     "iopub.status.idle": "2023-02-20T19:37:37.373240Z",
     "shell.execute_reply": "2023-02-20T19:37:37.371091Z",
     "shell.execute_reply.started": "2023-02-20T19:37:37.304320Z"
    },
    "tags": []
   },
   "outputs": [
    {
     "data": {
      "application/vnd.jupyter.widget-view+json": {
       "model_id": "347f769350424194b71fcdca90ace866",
       "version_major": 2,
       "version_minor": 0
      },
      "text/plain": [
       "VBox()"
      ]
     },
     "metadata": {},
     "output_type": "display_data"
    },
    {
     "data": {
      "application/vnd.jupyter.widget-view+json": {
       "model_id": "",
       "version_major": 2,
       "version_minor": 0
      },
      "text/plain": [
       "FloatProgress(value=0.0, bar_style='info', description='Progress:', layout=Layout(height='25px', width='50%'),…"
      ]
     },
     "metadata": {},
     "output_type": "display_data"
    },
    {
     "name": "stderr",
     "output_type": "stream",
     "text": [
      "An error was encountered:\n",
      "name 'supplierDF' is not defined\n",
      "Traceback (most recent call last):\n",
      "NameError: name 'supplierDF' is not defined\n",
      "\n"
     ]
    }
   ],
   "source": [
    "supplierDF.sortWithinPartitions(\"s_nationkey\").writeTo(\"dev.db.iceberg_supplier_table_s3_shaping\").overwritePartitions()"
   ]
  },
  {
   "cell_type": "markdown",
   "metadata": {},
   "source": [
    "List the object storage S3 path.\n",
    "\n",
    "```\n",
    "$ aws s3 ls s3://mrworkshop-youraccountID-dayone-iceberg/ | head\n",
    "                           PRE 0009e927/\n",
    "                           PRE 002341d4/\n",
    "                           PRE 0034e34f/\n",
    "                           PRE 0039c84a/\n",
    "                           PRE 004a1b12/\n",
    "                           PRE 0058a246/\n",
    "                           PRE 0062d53a/\n",
    "                           PRE 0081a04b/\n",
    "                           PRE 008dc473/\n",
    "                           PRE 00912343/\n",
    "\n",
    "```\n",
    "\n",
    "**REPLACE** prefix values based on the above output\n",
    "\n",
    "```\n",
    "\n",
    "$ aws s3 ls s3://mrworkshop-youraccountID-dayone-iceberg/0009e927 --recursive\n",
    "2022-03-21 06:40:07     933324 0009e927/db/iceberg_supplier_table_s3_shaping/s_nationkey=8/00029-1303-cfffcaef-a308-4f0e-b77d-e31212afa0fb-00009.parquet\n",
    "\n",
    "\n",
    "$ aws s3 ls s3://mrworkshop-youraccountID-dayone-iceberg/002341d4/ --recursive\n",
    "2022-03-21 06:40:24     966751 002341d4/db/iceberg_supplier_table_s3_shaping/s_nationkey=18/00059-1333-17a7dcc5-7c4b-4e31-80fe-a08044b9844e-00019.parquet                        \n",
    "                           \n",
    "```"
   ]
  },
  {
   "cell_type": "code",
   "execution_count": 73,
   "metadata": {
    "execution": {
     "iopub.execute_input": "2023-02-20T19:39:08.006391Z",
     "iopub.status.busy": "2023-02-20T19:39:08.006087Z",
     "iopub.status.idle": "2023-02-20T19:39:08.241409Z",
     "shell.execute_reply": "2023-02-20T19:39:08.240516Z",
     "shell.execute_reply.started": "2023-02-20T19:39:08.006359Z"
    },
    "tags": []
   },
   "outputs": [
    {
     "data": {
      "application/vnd.jupyter.widget-view+json": {
       "model_id": "",
       "version_major": 2,
       "version_minor": 0
      },
      "text/plain": [
       "FloatProgress(value=0.0, bar_style='info', description='Progress:', layout=Layout(height='25px', width='50%'),…"
      ]
     },
     "metadata": {},
     "output_type": "display_data"
    },
    {
     "name": "stderr",
     "output_type": "stream",
     "text": [
      "An error was encountered:\n",
      "Table or view not found: dev.db.iceberg_supplier_table_s3_shaping; line 2 pos 14;\n",
      "'GlobalLimit 10\n",
      "+- 'LocalLimit 10\n",
      "   +- 'Project [*]\n",
      "      +- 'UnresolvedRelation [dev, db, iceberg_supplier_table_s3_shaping], [], false\n",
      "\n",
      "Traceback (most recent call last):\n",
      "  File \"/mnt2/yarn/usercache/livy/appcache/application_1676505873392_0001/container_1676505873392_0001_01_000001/pyspark.zip/pyspark/sql/session.py\", line 1034, in sql\n",
      "    return DataFrame(self._jsparkSession.sql(sqlQuery), self)\n",
      "  File \"/mnt2/yarn/usercache/livy/appcache/application_1676505873392_0001/container_1676505873392_0001_01_000001/py4j-0.10.9.5-src.zip/py4j/java_gateway.py\", line 1322, in __call__\n",
      "    answer, self.gateway_client, self.target_id, self.name)\n",
      "  File \"/mnt2/yarn/usercache/livy/appcache/application_1676505873392_0001/container_1676505873392_0001_01_000001/pyspark.zip/pyspark/sql/utils.py\", line 196, in deco\n",
      "    raise converted from None\n",
      "pyspark.sql.utils.AnalysisException: Table or view not found: dev.db.iceberg_supplier_table_s3_shaping; line 2 pos 14;\n",
      "'GlobalLimit 10\n",
      "+- 'LocalLimit 10\n",
      "   +- 'Project [*]\n",
      "      +- 'UnresolvedRelation [dev, db, iceberg_supplier_table_s3_shaping], [], false\n",
      "\n",
      "\n"
     ]
    }
   ],
   "source": [
    "%%sql \n",
    "\n",
    "select * from dev.db.iceberg_supplier_table_s3_shaping limit 10"
   ]
  },
  {
   "cell_type": "code",
   "execution_count": 74,
   "metadata": {
    "execution": {
     "iopub.execute_input": "2023-02-20T19:39:08.243249Z",
     "iopub.status.busy": "2023-02-20T19:39:08.242939Z",
     "iopub.status.idle": "2023-02-20T19:39:08.476098Z",
     "shell.execute_reply": "2023-02-20T19:39:08.475255Z",
     "shell.execute_reply.started": "2023-02-20T19:39:08.243219Z"
    },
    "tags": []
   },
   "outputs": [
    {
     "data": {
      "application/vnd.jupyter.widget-view+json": {
       "model_id": "",
       "version_major": 2,
       "version_minor": 0
      },
      "text/plain": [
       "FloatProgress(value=0.0, bar_style='info', description='Progress:', layout=Layout(height='25px', width='50%'),…"
      ]
     },
     "metadata": {},
     "output_type": "display_data"
    },
    {
     "name": "stderr",
     "output_type": "stream",
     "text": [
      "An error was encountered:\n",
      "Table or view not found: dev.db.iceberg_supplier_table_s3_shaping.history; line 2 pos 14;\n",
      "'GlobalLimit 10\n",
      "+- 'LocalLimit 10\n",
      "   +- 'Project [*]\n",
      "      +- 'UnresolvedRelation [dev, db, iceberg_supplier_table_s3_shaping, history], [], false\n",
      "\n",
      "Traceback (most recent call last):\n",
      "  File \"/mnt2/yarn/usercache/livy/appcache/application_1676505873392_0001/container_1676505873392_0001_01_000001/pyspark.zip/pyspark/sql/session.py\", line 1034, in sql\n",
      "    return DataFrame(self._jsparkSession.sql(sqlQuery), self)\n",
      "  File \"/mnt2/yarn/usercache/livy/appcache/application_1676505873392_0001/container_1676505873392_0001_01_000001/py4j-0.10.9.5-src.zip/py4j/java_gateway.py\", line 1322, in __call__\n",
      "    answer, self.gateway_client, self.target_id, self.name)\n",
      "  File \"/mnt2/yarn/usercache/livy/appcache/application_1676505873392_0001/container_1676505873392_0001_01_000001/pyspark.zip/pyspark/sql/utils.py\", line 196, in deco\n",
      "    raise converted from None\n",
      "pyspark.sql.utils.AnalysisException: Table or view not found: dev.db.iceberg_supplier_table_s3_shaping.history; line 2 pos 14;\n",
      "'GlobalLimit 10\n",
      "+- 'LocalLimit 10\n",
      "   +- 'Project [*]\n",
      "      +- 'UnresolvedRelation [dev, db, iceberg_supplier_table_s3_shaping, history], [], false\n",
      "\n",
      "\n"
     ]
    }
   ],
   "source": [
    "%%sql \n",
    "\n",
    "select * from dev.db.iceberg_supplier_table_s3_shaping.history limit 10"
   ]
  },
  {
   "cell_type": "code",
   "execution_count": null,
   "metadata": {},
   "outputs": [],
   "source": []
  }
 ],
 "metadata": {
  "kernelspec": {
   "display_name": "PySpark",
   "language": "python",
   "name": "pysparkkernel"
  },
  "language_info": {
   "codemirror_mode": {
    "name": "python",
    "version": 3
   },
   "file_extension": ".py",
   "mimetype": "text/x-python",
   "name": "pyspark",
   "pygments_lexer": "python3"
  }
 },
 "nbformat": 4,
 "nbformat_minor": 4
}
