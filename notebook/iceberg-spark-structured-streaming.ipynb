{
 "cells": [
  {
   "cell_type": "markdown",
   "id": "a88e1a85-d221-4343-b865-be93184fe79f",
   "metadata": {},
   "source": [
    "# Building real time live incremental data lake on S3 using Apache Iceberg + Spark structured streaming"
   ]
  },
  {
   "cell_type": "code",
   "execution_count": 1,
   "id": "3c28c432",
   "metadata": {
    "execution": {
     "iopub.execute_input": "2022-08-04T11:06:31.047572Z",
     "iopub.status.busy": "2022-08-04T11:06:31.047250Z",
     "iopub.status.idle": "2022-08-04T11:06:31.079443Z",
     "shell.execute_reply": "2022-08-04T11:06:31.078876Z",
     "shell.execute_reply.started": "2022-08-04T11:06:31.047539Z"
    },
    "tags": []
   },
   "outputs": [
    {
     "data": {
      "text/html": [
       "Current session configs: <tt>{'conf': {'spark.sql.catalog.glue_catalog1': 'org.apache.iceberg.spark.SparkCatalog', 'spark.sql.catalog.glue_catalog1.warehouse': 's3://vasveena-dremio/iceberg/glue_catalog1/tables/', 'spark.sql.catalog.glue_catalog1.catalog-impl': 'org.apache.iceberg.aws.glue.GlueCatalog', 'spark.sql.catalog.glue_catalog1.io-impl': 'org.apache.iceberg.aws.s3.S3FileIO', 'spark.sql.catalog.glue_catalog1.lock-impl': 'org.apache.iceberg.aws.glue.DynamoLockManager', 'spark.sql.catalog.glue_catalog1.lock.table': 'myGlueLockTable', 'spark.sql.extensions': 'org.apache.iceberg.spark.extensions.IcebergSparkSessionExtensions'}, 'proxyUser': 'user_vasveena', 'kind': 'spark'}</tt><br>"
      ],
      "text/plain": [
       "<IPython.core.display.HTML object>"
      ]
     },
     "metadata": {},
     "output_type": "display_data"
    },
    {
     "data": {
      "text/html": [
       "<table>\n<tbody><tr><th>ID</th><th>YARN Application ID</th><th>Kind</th><th>State</th><th>Spark UI</th><th>Driver log</th><th>User</th><th>Current session?</th></tr><tr><td>0</td><td>application_1659608060840_0001</td><td>pyspark</td><td>idle</td><td><a target=\"_blank\" href=\"http://ip-172-31-79-156.ec2.internal:20888/proxy/application_1659608060840_0001/\" class=\"emr-proxy-link j-14EN3Q0000BJ0 application_1659608060840_0001\" emr-resource=\"j-14EN3Q0000BJ0\n\" application-id=\"application_1659608060840_0001\">Link</a></td><td><a target=\"_blank\" href=\"http://ip-172-31-67-79.ec2.internal:8042/node/containerlogs/container_1659608060840_0001_01_000001/livy\">Link</a></td><td>None</td><td></td></tr></tbody></table>"
      ],
      "text/plain": [
       "<IPython.core.display.HTML object>"
      ]
     },
     "metadata": {},
     "output_type": "display_data"
    }
   ],
   "source": [
    "%%configure -f\n",
    "{\n",
    "    \"conf\":  {       \n",
    "             \"spark.sql.catalog.glue_catalog1\":\"org.apache.iceberg.spark.SparkCatalog\",\n",
    "             \"spark.sql.catalog.glue_catalog1.warehouse\":\"s3://vasveena-dremio/iceberg/glue_catalog1/tables/\",\n",
    "             \"spark.sql.catalog.glue_catalog1.catalog-impl\":\"org.apache.iceberg.aws.glue.GlueCatalog\",\n",
    "             \"spark.sql.catalog.glue_catalog1.io-impl\":\"org.apache.iceberg.aws.s3.S3FileIO\",\n",
    "             \"spark.sql.catalog.glue_catalog1.lock-impl\":\"org.apache.iceberg.aws.glue.DynamoLockManager\",\n",
    "             \"spark.sql.catalog.glue_catalog1.lock.table\":\"myGlueLockTable\",\n",
    "             \"spark.sql.extensions\":\"org.apache.iceberg.spark.extensions.IcebergSparkSessionExtensions\"\n",
    "           } \n",
    "}"
   ]
  },
  {
   "cell_type": "code",
   "execution_count": 2,
   "id": "313c1ff2-4a27-4651-967a-73390053d1a6",
   "metadata": {
    "execution": {
     "iopub.execute_input": "2022-08-04T11:06:34.596810Z",
     "iopub.status.busy": "2022-08-04T11:06:34.596518Z",
     "iopub.status.idle": "2022-08-04T11:07:12.060768Z",
     "shell.execute_reply": "2022-08-04T11:07:12.060205Z",
     "shell.execute_reply.started": "2022-08-04T11:06:34.596776Z"
    },
    "tags": []
   },
   "outputs": [
    {
     "name": "stdout",
     "output_type": "stream",
     "text": [
      "Starting Spark application\n"
     ]
    },
    {
     "data": {
      "text/html": [
       "<table>\n<tbody><tr><th>ID</th><th>YARN Application ID</th><th>Kind</th><th>State</th><th>Spark UI</th><th>Driver log</th><th>User</th><th>Current session?</th></tr><tr><td>3</td><td>application_1659608060840_0004</td><td>spark</td><td>idle</td><td><a target=\"_blank\" href=\"http://ip-172-31-79-156.ec2.internal:20888/proxy/application_1659608060840_0004/\" class=\"emr-proxy-link j-14EN3Q0000BJ0 application_1659608060840_0004\" emr-resource=\"j-14EN3Q0000BJ0\n\" application-id=\"application_1659608060840_0004\">Link</a></td><td><a target=\"_blank\" href=\"http://ip-172-31-70-236.ec2.internal:8042/node/containerlogs/container_1659608060840_0004_01_000001/livy\">Link</a></td><td>None</td><td>✔</td></tr></tbody></table>"
      ],
      "text/plain": [
       "<IPython.core.display.HTML object>"
      ]
     },
     "metadata": {},
     "output_type": "display_data"
    },
    {
     "data": {
      "application/vnd.jupyter.widget-view+json": {
       "model_id": "",
       "version_major": 2,
       "version_minor": 0
      },
      "text/plain": [
       "FloatProgress(value=0.0, bar_style='info', description='Progress:', layout=Layout(height='25px', width='50%'),…"
      ]
     },
     "metadata": {},
     "output_type": "display_data"
    },
    {
     "name": "stdout",
     "output_type": "stream",
     "text": [
      "SparkSession available as 'spark'.\n"
     ]
    },
    {
     "data": {
      "application/vnd.jupyter.widget-view+json": {
       "model_id": "",
       "version_major": 2,
       "version_minor": 0
      },
      "text/plain": [
       "FloatProgress(value=0.0, bar_style='info', description='Progress:', layout=Layout(height='25px', width='50%'),…"
      ]
     },
     "metadata": {},
     "output_type": "display_data"
    },
    {
     "data": {
      "application/vnd.jupyter.widget-view+json": {
       "model_id": "d84ff45d56bf4f53bcd60c5c5f9839f7",
       "version_major": 2,
       "version_minor": 0
      },
      "text/plain": [
       "VBox(children=(HBox(), EncodingWidget(children=(VBox(children=(HTML(value='Encoding:'), Dropdown(description='…"
      ]
     },
     "metadata": {},
     "output_type": "display_data"
    },
    {
     "data": {
      "application/vnd.jupyter.widget-view+json": {
       "model_id": "1a6d5ffe35e64d1abc6b0acc1a3acb8e",
       "version_major": 2,
       "version_minor": 0
      },
      "text/plain": [
       "Output()"
      ]
     },
     "metadata": {},
     "output_type": "display_data"
    }
   ],
   "source": [
    "%%sql \n",
    "\n",
    "use glue_catalog1"
   ]
  },
  {
   "cell_type": "code",
   "execution_count": 3,
   "id": "86debaa9-8438-4fbf-a8d7-615b4443aedf",
   "metadata": {
    "execution": {
     "iopub.execute_input": "2022-08-04T11:07:12.065937Z",
     "iopub.status.busy": "2022-08-04T11:07:12.065742Z",
     "iopub.status.idle": "2022-08-04T11:07:12.897630Z",
     "shell.execute_reply": "2022-08-04T11:07:12.897071Z",
     "shell.execute_reply.started": "2022-08-04T11:07:12.065907Z"
    },
    "tags": []
   },
   "outputs": [
    {
     "data": {
      "application/vnd.jupyter.widget-view+json": {
       "model_id": "",
       "version_major": 2,
       "version_minor": 0
      },
      "text/plain": [
       "FloatProgress(value=0.0, bar_style='info', description='Progress:', layout=Layout(height='25px', width='50%'),…"
      ]
     },
     "metadata": {},
     "output_type": "display_data"
    },
    {
     "data": {
      "application/vnd.jupyter.widget-view+json": {
       "model_id": "20c3ea270e5c4173b08f4386a02f5f2d",
       "version_major": 2,
       "version_minor": 0
      },
      "text/plain": [
       "VBox(children=(HBox(), EncodingWidget(children=(VBox(children=(HTML(value='Encoding:'), Dropdown(description='…"
      ]
     },
     "metadata": {},
     "output_type": "display_data"
    },
    {
     "data": {
      "application/vnd.jupyter.widget-view+json": {
       "model_id": "fac767e6028740458db17b31235f28c6",
       "version_major": 2,
       "version_minor": 0
      },
      "text/plain": [
       "Output()"
      ]
     },
     "metadata": {},
     "output_type": "display_data"
    }
   ],
   "source": [
    "%%sql\n",
    "CREATE SCHEMA IF NOT EXISTS streamdb;"
   ]
  },
  {
   "cell_type": "code",
   "execution_count": 4,
   "id": "1e16bc64-a7e4-4475-ae72-d60d4305be8d",
   "metadata": {
    "execution": {
     "iopub.execute_input": "2022-08-04T11:07:12.898853Z",
     "iopub.status.busy": "2022-08-04T11:07:12.898646Z",
     "iopub.status.idle": "2022-08-04T11:07:13.730807Z",
     "shell.execute_reply": "2022-08-04T11:07:13.730236Z",
     "shell.execute_reply.started": "2022-08-04T11:07:12.898822Z"
    },
    "tags": []
   },
   "outputs": [
    {
     "data": {
      "application/vnd.jupyter.widget-view+json": {
       "model_id": "",
       "version_major": 2,
       "version_minor": 0
      },
      "text/plain": [
       "FloatProgress(value=0.0, bar_style='info', description='Progress:', layout=Layout(height='25px', width='50%'),…"
      ]
     },
     "metadata": {},
     "output_type": "display_data"
    },
    {
     "data": {
      "application/vnd.jupyter.widget-view+json": {
       "model_id": "186d0cf607434508a17f55964bed0811",
       "version_major": 2,
       "version_minor": 0
      },
      "text/plain": [
       "VBox(children=(HBox(), EncodingWidget(children=(VBox(children=(HTML(value='Encoding:'), Dropdown(description='…"
      ]
     },
     "metadata": {},
     "output_type": "display_data"
    },
    {
     "data": {
      "application/vnd.jupyter.widget-view+json": {
       "model_id": "99de14244a694143b684cd3c003d6860",
       "version_major": 2,
       "version_minor": 0
      },
      "text/plain": [
       "Output()"
      ]
     },
     "metadata": {},
     "output_type": "display_data"
    }
   ],
   "source": [
    "%%sql\n",
    "use streamdb"
   ]
  },
  {
   "cell_type": "code",
   "execution_count": 18,
   "id": "3d65bd58-baf2-4b19-b4d6-85101d151e66",
   "metadata": {
    "execution": {
     "iopub.execute_input": "2022-08-04T11:12:32.965389Z",
     "iopub.status.busy": "2022-08-04T11:12:32.965088Z",
     "iopub.status.idle": "2022-08-04T11:12:36.315125Z",
     "shell.execute_reply": "2022-08-04T11:12:36.314553Z",
     "shell.execute_reply.started": "2022-08-04T11:12:32.965346Z"
    },
    "tags": []
   },
   "outputs": [
    {
     "data": {
      "application/vnd.jupyter.widget-view+json": {
       "model_id": "",
       "version_major": 2,
       "version_minor": 0
      },
      "text/plain": [
       "FloatProgress(value=0.0, bar_style='info', description='Progress:', layout=Layout(height='25px', width='50%'),…"
      ]
     },
     "metadata": {},
     "output_type": "display_data"
    },
    {
     "data": {
      "application/vnd.jupyter.widget-view+json": {
       "model_id": "43cfcb39497f4f659f2232fa21dc636d",
       "version_major": 2,
       "version_minor": 0
      },
      "text/plain": [
       "VBox(children=(HBox(), EncodingWidget(children=(VBox(children=(HTML(value='Encoding:'), Dropdown(description='…"
      ]
     },
     "metadata": {},
     "output_type": "display_data"
    },
    {
     "data": {
      "application/vnd.jupyter.widget-view+json": {
       "model_id": "e8ab0f0468c94a2fa4217324dea5d21d",
       "version_major": 2,
       "version_minor": 0
      },
      "text/plain": [
       "Output()"
      ]
     },
     "metadata": {},
     "output_type": "display_data"
    }
   ],
   "source": [
    "%%sql\n",
    "drop table if exists glue_catalog1.streamdb.streaming_trips_table"
   ]
  },
  {
   "cell_type": "code",
   "execution_count": 19,
   "id": "2807b33d-d9a2-4f0a-a2be-664c5f55334a",
   "metadata": {
    "execution": {
     "iopub.execute_input": "2022-08-04T11:12:37.491382Z",
     "iopub.status.busy": "2022-08-04T11:12:37.491133Z",
     "iopub.status.idle": "2022-08-04T11:12:40.843090Z",
     "shell.execute_reply": "2022-08-04T11:12:40.842506Z",
     "shell.execute_reply.started": "2022-08-04T11:12:37.491351Z"
    },
    "tags": []
   },
   "outputs": [
    {
     "data": {
      "application/vnd.jupyter.widget-view+json": {
       "model_id": "",
       "version_major": 2,
       "version_minor": 0
      },
      "text/plain": [
       "FloatProgress(value=0.0, bar_style='info', description='Progress:', layout=Layout(height='25px', width='50%'),…"
      ]
     },
     "metadata": {},
     "output_type": "display_data"
    },
    {
     "data": {
      "application/vnd.jupyter.widget-view+json": {
       "model_id": "cc711ee1922a4f8fa8c37dd63fa7b960",
       "version_major": 2,
       "version_minor": 0
      },
      "text/plain": [
       "VBox(children=(HBox(), EncodingWidget(children=(VBox(children=(HTML(value='Encoding:'), Dropdown(description='…"
      ]
     },
     "metadata": {},
     "output_type": "display_data"
    },
    {
     "data": {
      "application/vnd.jupyter.widget-view+json": {
       "model_id": "8df6a0017f454b8d8e4f35add2a93d0f",
       "version_major": 2,
       "version_minor": 0
      },
      "text/plain": [
       "Output()"
      ]
     },
     "metadata": {},
     "output_type": "display_data"
    }
   ],
   "source": [
    "%%sql \n",
    "CREATE TABLE glue_catalog1.streamdb.streaming_trips_table\n",
    "(\n",
    "  tripId string, \n",
    "  routeId string, \n",
    "  startTime timestamp, \n",
    "  arrivalTime array<string>, \n",
    "  depatureTime array<string>, \n",
    "  futureStopIds array<string>, \n",
    "  numOfFutureStops int, \n",
    "  currentStopSequence int, \n",
    "  currentStatus string, \n",
    "  stopId string, \n",
    "  currentTs string)\n",
    "USING iceberg"
   ]
  },
  {
   "cell_type": "code",
   "execution_count": 20,
   "id": "485d82cf",
   "metadata": {
    "execution": {
     "iopub.execute_input": "2022-08-04T11:12:40.844381Z",
     "iopub.status.busy": "2022-08-04T11:12:40.844178Z",
     "iopub.status.idle": "2022-08-04T11:12:44.123653Z",
     "shell.execute_reply": "2022-08-04T11:12:44.122967Z",
     "shell.execute_reply.started": "2022-08-04T11:12:40.844352Z"
    },
    "tags": []
   },
   "outputs": [
    {
     "data": {
      "application/vnd.jupyter.widget-view+json": {
       "model_id": "2b14a7165957429787af51aa1a562cb7",
       "version_major": 2,
       "version_minor": 0
      },
      "text/plain": [
       "VBox()"
      ]
     },
     "metadata": {},
     "output_type": "display_data"
    },
    {
     "data": {
      "application/vnd.jupyter.widget-view+json": {
       "model_id": "",
       "version_major": 2,
       "version_minor": 0
      },
      "text/plain": [
       "FloatProgress(value=0.0, bar_style='info', description='Progress:', layout=Layout(height='25px', width='50%'),…"
      ]
     },
     "metadata": {},
     "output_type": "display_data"
    },
    {
     "name": "stdout",
     "output_type": "stream",
     "text": [
      "import org.apache.spark.sql.{DataFrame, Row, SaveMode}\n",
      "import org.apache.spark.sql.types.{LongType, StringType, StructField, StructType}\n",
      "import org.apache.spark.sql.ForeachWriter\n",
      "import org.apache.spark.sql.catalyst.encoders.RowEncoder\n",
      "import org.apache.spark.sql._\n",
      "import org.apache.spark.sql.SparkSession\n",
      "import org.apache.spark.sql.functions._\n",
      "import org.apache.spark.sql.streaming._\n",
      "import org.apache.spark.sql.types._\n",
      "import org.apache.kafka.clients.producer.{ProducerConfig, KafkaProducer, ProducerRecord}\n",
      "import java.util.HashMap\n",
      "import spark.implicits._\n"
     ]
    }
   ],
   "source": [
    "import org.apache.spark.sql.{DataFrame, Row, SaveMode}\n",
    "import org.apache.spark.sql.types.{LongType, StringType, StructField, StructType}\n",
    "import org.apache.spark.sql.ForeachWriter\n",
    "import org.apache.spark.sql.catalyst.encoders.RowEncoder\n",
    "import org.apache.spark.sql._\n",
    "import org.apache.spark.sql.SparkSession\n",
    "import org.apache.spark.sql.functions._\n",
    "import org.apache.spark.sql.streaming._\n",
    "import org.apache.spark.sql.types._\n",
    "import org.apache.kafka.clients.producer.{ProducerConfig, KafkaProducer, ProducerRecord}\n",
    "import java.util.HashMap\n",
    "import spark.implicits._"
   ]
  },
  {
   "cell_type": "code",
   "execution_count": 21,
   "id": "2358d5d6",
   "metadata": {
    "execution": {
     "iopub.execute_input": "2022-08-04T11:12:44.125341Z",
     "iopub.status.busy": "2022-08-04T11:12:44.125137Z",
     "iopub.status.idle": "2022-08-04T11:12:45.390422Z",
     "shell.execute_reply": "2022-08-04T11:12:45.389827Z",
     "shell.execute_reply.started": "2022-08-04T11:12:44.125310Z"
    },
    "tags": []
   },
   "outputs": [
    {
     "data": {
      "application/vnd.jupyter.widget-view+json": {
       "model_id": "e5f9db6e021f4164a8412abd6fec694d",
       "version_major": 2,
       "version_minor": 0
      },
      "text/plain": [
       "VBox()"
      ]
     },
     "metadata": {},
     "output_type": "display_data"
    },
    {
     "data": {
      "application/vnd.jupyter.widget-view+json": {
       "model_id": "",
       "version_major": 2,
       "version_minor": 0
      },
      "text/plain": [
       "FloatProgress(value=0.0, bar_style='info', description='Progress:', layout=Layout(height='25px', width='50%'),…"
      ]
     },
     "metadata": {},
     "output_type": "display_data"
    },
    {
     "name": "stdout",
     "output_type": "stream",
     "text": [
      "trip_update_topic: String = trip_update_topic\n",
      "trip_status_topic: String = trip_status_topic\n",
      "broker: String = b-1.test.1tklkx.c2.kafka.us-east-1.amazonaws.com:9092,b-3.test.1tklkx.c2.kafka.us-east-1.amazonaws.com:9092,b-2.test.1tklkx.c2.kafka.us-east-1.amazonaws.com:9092\n"
     ]
    }
   ],
   "source": [
    "val trip_update_topic = \"trip_update_topic\"\n",
    "val trip_status_topic = \"trip_status_topic\"\n",
    "val broker = \"b-1.test.1tklkx.c2.kafka.us-east-1.amazonaws.com:9092,b-3.test.1tklkx.c2.kafka.us-east-1.amazonaws.com:9092,b-2.test.1tklkx.c2.kafka.us-east-1.amazonaws.com:9092\""
   ]
  },
  {
   "cell_type": "code",
   "execution_count": 22,
   "id": "fd74faca",
   "metadata": {
    "execution": {
     "iopub.execute_input": "2022-08-04T11:12:45.391769Z",
     "iopub.status.busy": "2022-08-04T11:12:45.391566Z",
     "iopub.status.idle": "2022-08-04T11:12:46.666045Z",
     "shell.execute_reply": "2022-08-04T11:12:46.665411Z",
     "shell.execute_reply.started": "2022-08-04T11:12:45.391739Z"
    },
    "tags": []
   },
   "outputs": [
    {
     "data": {
      "application/vnd.jupyter.widget-view+json": {
       "model_id": "ed9c8a50683b4ecebc32cfd3516f410e",
       "version_major": 2,
       "version_minor": 0
      },
      "text/plain": [
       "VBox()"
      ]
     },
     "metadata": {},
     "output_type": "display_data"
    },
    {
     "data": {
      "application/vnd.jupyter.widget-view+json": {
       "model_id": "",
       "version_major": 2,
       "version_minor": 0
      },
      "text/plain": [
       "FloatProgress(value=0.0, bar_style='info', description='Progress:', layout=Layout(height='25px', width='50%'),…"
      ]
     },
     "metadata": {},
     "output_type": "display_data"
    },
    {
     "name": "stdout",
     "output_type": "stream",
     "text": [
      "defined object MTASubwayTripUpdates\n"
     ]
    }
   ],
   "source": [
    "object MTASubwayTripUpdates extends Serializable {\n",
    "\n",
    "    val props = new HashMap[String, Object]()\n",
    "    props.put(ProducerConfig.BOOTSTRAP_SERVERS_CONFIG, broker)\n",
    "    props.put(ProducerConfig.VALUE_SERIALIZER_CLASS_CONFIG,\n",
    "      \"org.apache.kafka.common.serialization.StringSerializer\")\n",
    "    props.put(ProducerConfig.KEY_SERIALIZER_CLASS_CONFIG,\n",
    "      \"org.apache.kafka.common.serialization.StringSerializer\")\n",
    "\n",
    "    @transient var producer : KafkaProducer[String, String] = null\n",
    "    var msgId : Long = 1\n",
    "    @transient var joined_query : StreamingQuery = null\n",
    "    @transient var joined_query_s3 : StreamingQuery = null\n",
    "\n",
    "    val spark = SparkSession.builder.appName(\"MSK streaming Example\").getOrCreate()\n",
    "    \n",
    "\n",
    "    def start() = {\n",
    "        //Start producer for kafka\n",
    "        producer = new KafkaProducer[String, String](props)\n",
    "\n",
    "        //Create a datastream from trip update topic\n",
    "        val trip_update_df = spark.readStream.format(\"kafka\")\n",
    "        .option(\"kafka.bootstrap.servers\", broker)\n",
    "        .option(\"subscribe\", trip_update_topic)\n",
    "        .option(\"startingOffsets\", \"latest\").option(\"failOnDataLoss\",\"false\").load()\n",
    "\n",
    "        //Create a datastream from trip status topic\n",
    "        val trip_status_df = spark.readStream\n",
    "        .format(\"kafka\")\n",
    "        .option(\"kafka.bootstrap.servers\", broker)\n",
    "        .option(\"subscribe\", trip_status_topic)\n",
    "        .option(\"startingOffsets\", \"latest\").option(\"failOnDataLoss\",\"false\").load()\n",
    "\n",
    "        // define schema of data\n",
    "\n",
    "        val trip_update_schema = new StructType()\n",
    "        .add(\"trip\", new StructType().add(\"tripId\",\"string\").add(\"startTime\",\"string\").add(\"startDate\",\"string\").add(\"routeId\",\"string\"))\n",
    "        .add(\"stopTimeUpdate\",ArrayType(new StructType().add(\"arrival\",new StructType().add(\"time\",\"string\")).add(\"stopId\",\"string\").add(\"departure\",new StructType().add(\"time\",\"string\"))))\n",
    "\n",
    "        val trip_status_schema = new StructType()\n",
    "        .add(\"trip\", new StructType().add(\"tripId\",\"string\").add(\"startTime\",\"string\").add(\"startDate\",\"string\").add(\"routeId\",\"string\")).add(\"currentStopSequence\",\"integer\").add(\"currentStatus\", \"string\").add(\"timestamp\", \"string\").add(\"stopId\",\"string\")\n",
    "\n",
    "        // covert datastream into a datasets and apply schema\n",
    "        val trip_update_ds = trip_update_df.selectExpr(\"CAST(key AS STRING)\", \"CAST(value AS STRING)\").as[(String, String)]\n",
    "        val trip_update_ds_schema = trip_update_ds\n",
    "        .select(from_json($\"value\", trip_update_schema).as(\"data\")).select(\"data.*\")\n",
    "        trip_update_ds_schema.printSchema()\n",
    "\n",
    "        val trip_status_ds = trip_status_df\n",
    "        .selectExpr(\"CAST(key AS STRING)\", \"CAST(value AS STRING)\").as[(String, String)]\n",
    "        val trip_status_ds_schema = trip_status_ds\n",
    "        .select(from_json($\"value\", trip_status_schema).as(\"data\")).select(\"data.*\")\n",
    "        trip_status_ds_schema.printSchema()\n",
    "\n",
    "        val trip_status_ds_unnest = trip_status_ds_schema\n",
    "        .select(\"trip.*\",\"currentStopSequence\",\"currentStatus\",\"timestamp\",\"stopId\")\n",
    "\n",
    "        val trip_update_ds_unnest = trip_update_ds_schema\n",
    "        .select($\"trip.*\", $\"stopTimeUpdate.arrival.time\".as(\"arrivalTime\"), \n",
    "                $\"stopTimeUpdate.departure.time\".as(\"depatureTime\"), $\"stopTimeUpdate.stopId\")\n",
    "\n",
    "        val trip_update_ds_unnest2 = trip_update_ds_unnest\n",
    "        .withColumn(\"numOfFutureStops\", size($\"arrivalTime\"))\n",
    "        .withColumnRenamed(\"stopId\",\"futureStopIds\")\n",
    "\n",
    "        val joined_ds = trip_update_ds_unnest2\n",
    "        .join(trip_status_ds_unnest, Seq(\"tripId\",\"routeId\",\"startTime\",\"startDate\"))\n",
    "        .withColumn(\"startTime\",(col(\"startTime\").cast(\"timestamp\")))\n",
    "        .withColumn(\"currentTs\",from_unixtime($\"timestamp\".divide(1000)))\n",
    "        .drop(\"startDate\").drop(\"timestamp\")\n",
    "\n",
    "        joined_ds.printSchema()\n",
    "        \n",
    "        val query = joined_ds.writeStream\n",
    "                          .queryName(\"iceberg_streaming_query\")\n",
    "                          .format(\"iceberg\")\n",
    "                          .outputMode(\"append\")\n",
    "                          .trigger(Trigger.ProcessingTime(\"30 seconds\"))\n",
    "                          .option(\"path\", \"glue_catalog1.streamdb.streaming_trips_table\") //database.table_name\n",
    "                          .option(\"checkpointLocation\", \"/user/hadoop/checkpoint\")\n",
    "                          .start()\n",
    "        \n",
    "      query.awaitTermination()\n",
    "        \n",
    "    }\n",
    "}"
   ]
  },
  {
   "cell_type": "code",
   "execution_count": null,
   "id": "47ba993b",
   "metadata": {
    "execution": {
     "iopub.execute_input": "2022-08-04T11:12:46.667214Z",
     "iopub.status.busy": "2022-08-04T11:12:46.667017Z"
    },
    "tags": []
   },
   "outputs": [
    {
     "data": {
      "application/vnd.jupyter.widget-view+json": {
       "model_id": "9c866884a93f43869e4ed68bec6249bf",
       "version_major": 2,
       "version_minor": 0
      },
      "text/plain": [
       "VBox()"
      ]
     },
     "metadata": {},
     "output_type": "display_data"
    },
    {
     "data": {
      "application/vnd.jupyter.widget-view+json": {
       "model_id": "58cb4c44ded040ac8de58e76b56fc36a",
       "version_major": 2,
       "version_minor": 0
      },
      "text/plain": [
       "FloatProgress(value=0.0, bar_style='info', description='Progress:', layout=Layout(height='25px', width='50%'),…"
      ]
     },
     "metadata": {},
     "output_type": "display_data"
    }
   ],
   "source": [
    "MTASubwayTripUpdates.start"
   ]
  },
  {
   "cell_type": "code",
   "execution_count": null,
   "id": "24b46273",
   "metadata": {},
   "outputs": [],
   "source": []
  }
 ],
 "metadata": {
  "kernelspec": {
   "display_name": "Spark",
   "language": "scala",
   "name": "sparkkernel"
  },
  "language_info": {
   "codemirror_mode": "text/x-scala",
   "file_extension": ".sc",
   "mimetype": "text/x-scala",
   "name": "scala",
   "pygments_lexer": "scala"
  }
 },
 "nbformat": 4,
 "nbformat_minor": 5
}
